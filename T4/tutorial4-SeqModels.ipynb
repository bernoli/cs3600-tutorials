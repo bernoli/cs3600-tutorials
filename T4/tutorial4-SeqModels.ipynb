{
 "cells": [
  {
   "cell_type": "markdown",
   "metadata": {
    "slideshow": {
     "slide_type": "slide"
    }
   },
   "source": [
    "$$\n",
    "\\newcommand{\\mat}[1]{\\boldsymbol {#1}}\n",
    "\\newcommand{\\mattr}[1]{\\boldsymbol {#1}^\\top}\n",
    "\\newcommand{\\matinv}[1]{\\boldsymbol {#1}^{-1}}\n",
    "\\newcommand{\\vec}[1]{\\boldsymbol {#1}}\n",
    "\\newcommand{\\vectr}[1]{\\boldsymbol {#1}^\\top}\n",
    "\\newcommand{\\rvar}[1]{\\mathrm {#1}}\n",
    "\\newcommand{\\rvec}[1]{\\boldsymbol{\\mathrm{#1}}}\n",
    "\\newcommand{\\diag}{\\mathop{\\mathrm {diag}}}\n",
    "\\newcommand{\\set}[1]{\\mathbb {#1}}\n",
    "\\newcommand{\\norm}[1]{\\left\\lVert#1\\right\\rVert}\n",
    "\\newcommand{\\pderiv}[2]{\\frac{\\partial #1}{\\partial #2}}\n",
    "\\newcommand{\\bb}[1]{\\boldsymbol{#1}}\n",
    "$$\n",
    ".\n",
    "\n",
    "<img src=\"../3600.jpg\" width=500 />\n",
    "\n",
    "# Tutorial 4: Sequence Models"
   ]
  },
  {
   "cell_type": "markdown",
   "metadata": {
    "slideshow": {
     "slide_type": "subslide"
    }
   },
   "source": [
    "## Todays Agenda\n",
    "---\n",
    "- Reminders and recaps\n",
    "- classical approach for NLP tasks\n",
    "- What RNNs are and how they work\n",
    "- memory RNN (LSTM, GRU)\n",
    "- B-directional RNN\n",
    "- BPTT\n",
    "- Embedding\n",
    "- impplementation of basic RNN\n",
    "- Sentiment analysis for movie reviews\n",
    "\n",
    "if we have time:\n",
    "- Stock prediction using GRU"
   ]
  },
  {
   "cell_type": "markdown",
   "metadata": {},
   "source": [
    "## imports\n",
    "---"
   ]
  },
  {
   "cell_type": "code",
   "execution_count": 2,
   "metadata": {
    "slideshow": {
     "slide_type": "subslide"
    }
   },
   "outputs": [],
   "source": [
    "# Setup\n",
    "%matplotlib inline\n",
    "import numpy as np\n",
    "import os\n",
    "import sys\n",
    "import time\n",
    "import matplotlib.pyplot as plt\n",
    "import warnings\n",
    "warnings.simplefilter(\"ignore\")\n",
    "\n",
    "\n",
    "# pytorch\n",
    "import torch\n",
    "import torch.nn as nn\n",
    "import torchtext\n",
    "import torchtext.data as data\n",
    "import torchtext.datasets as datasets\n",
    "import torch.nn.functional as f"
   ]
  },
  {
   "cell_type": "code",
   "execution_count": 3,
   "metadata": {
    "slideshow": {
     "slide_type": "fragment"
    }
   },
   "outputs": [],
   "source": [
    "plt.rcParams['font.size'] = 20\n",
    "data_dir = os.path.expanduser('~/.pytorch-datasets')\n",
    "device = torch.device('cuda' if torch.cuda.is_available() else 'cpu')"
   ]
  },
  {
   "cell_type": "code",
   "execution_count": 4,
   "metadata": {},
   "outputs": [
    {
     "data": {
      "text/plain": [
       "device(type='cuda')"
      ]
     },
     "execution_count": 4,
     "metadata": {},
     "output_type": "execute_result"
    }
   ],
   "source": [
    "device"
   ]
  },
  {
   "cell_type": "markdown",
   "metadata": {
    "slideshow": {
     "slide_type": "slide"
    }
   },
   "source": [
    "## Reminders and recaps\n",
    "---"
   ]
  },
  {
   "cell_type": "markdown",
   "metadata": {
    "slideshow": {
     "slide_type": "fragment"
    }
   },
   "source": [
    "Last tutorial we learned about CNNs- Conv layers to perform feature extranction, and FC layers for classification.\n",
    "\n",
    "- the convolution layers output does is not relay on the filter size, but on the input size. \n",
    "- the FC layers depend only on the input and output size.\n",
    "\n",
    "<center><img src=\"resources/A-vanilla-Convolutional-Neural-Network-CNN-representation.png\" width=\"600\" /></center>\n",
    "\n",
    "[image from](https://www.researchgate.net/figure/A-vanilla-Convolutional-Neural-Network-CNN-representation_fig2_339447623)"
   ]
  },
  {
   "cell_type": "markdown",
   "metadata": {
    "slideshow": {
     "slide_type": "subslide"
    }
   },
   "source": [
    "However, we only talked about stationary data, not about **persistent state**. \n",
    "\n",
    "what do we do when there is another dimention? \n",
    "\n",
    "<center><img src=\"resources/vid.gif\" width=\"600\" /></center>\n",
    "\n"
   ]
  },
  {
   "cell_type": "markdown",
   "metadata": {},
   "source": [
    "Sometimes, we want to look at previus inputs and outputs\n",
    "\n",
    "<center><img src=\"resources/crossing_tracking_Demo1.gif\" width=\"600\" /></center>\n",
    "\n",
    "<center><img src=\"resources/rnn.gif\" width=\"600\" /></center>"
   ]
  },
  {
   "cell_type": "markdown",
   "metadata": {},
   "source": [
    "## Classical NLP\n",
    "---"
   ]
  },
  {
   "cell_type": "markdown",
   "metadata": {},
   "source": [
    "### Forms of tasks we can preform:\n",
    "\n",
    "* One-to-one: from fixed-sized input to fixed-sized output (e.g. image classification).\n",
    "* One-to-many: Sequence output (e.g. image captioning takes an image and outputs a sentence of words).\n",
    "* Many-to-one: Sequence input (e.g. sentiment analysis)\n",
    "* Many-to-many: Sequence input and sequence output (e.g. Machine Translation).\n",
    "* Many-to-many: Synced sequence input and output (e.g. video classification where we wish to label each frame of the video).\n",
    "\n",
    "<center><img src=\"resources/rnn_use_cases.jpeg\" width=\"1200\"/></center>"
   ]
  },
  {
   "cell_type": "markdown",
   "metadata": {},
   "source": [
    "as a learning problem, we can use classical machine learning algorithms.<br>\n",
    "for the sake of convenience we will talk about naiva base. "
   ]
  },
  {
   "cell_type": "markdown",
   "metadata": {},
   "source": [
    "A quick review of the Naive Bayes (NB) method for text classification:input vector $\\mathbf{x} = \\langle x_1, x_2, \\ldots, x_m \\rangle$ of feature values, and a set of classes $\\{ c_1, c_2, \\ldots, c_k \\}$ the text should be classified as. \n",
    "\n",
    "We will predict the class $c_i$ that maximizes $Pr(c_i \\mid \\mathbf{x})$.\n",
    "\n",
    "By Bayes rule (this is the \"Bayes\" part in the name \"Naive Bayes\"), <br>\n",
    "\n",
    "$$ argmax_i Pr(c_i | x) = argmax_i \\frac{Pr(\\mathbf{x} | c_i) \\cdot Pr(c_i)}{Pr(\\mathbf{x})} = argmax_i Pr(\\mathbf{x} | c_i) \\cdot Pr(c_i) $$\n",
    "\n",
    "without going too much into details, NB called like that because it used the base rule, and because it's navie...assuming I.I.D, i.e:\n",
    "$$  Pr(\\mathbf{x} | c_i) =  \\prod_{j=1}^m Pr(x_j | c_i) $$\n"
   ]
  },
  {
   "cell_type": "markdown",
   "metadata": {},
   "source": [
    "Great, now we just need to think how we calculate the probabilities....\n",
    "$$ Pr(x_j | c_i) \\approx \\frac{\\# (x_j, c_i)}{\\sum_k \\# (x_k, c_i)} $$\n"
   ]
  },
  {
   "cell_type": "markdown",
   "metadata": {},
   "source": [
    "the basic approch. is called **Bag Of Words (BOW)**.\n",
    "in this approch, we count all the words in the document and use each one as a feature.\n",
    "in general, expressing features as raw words is very easy to use with naive base.\n",
    "\n",
    "<center><img src=\"resources/bow.png\" width=\"1000\"/></center>"
   ]
  },
  {
   "cell_type": "markdown",
   "metadata": {},
   "source": [
    "in this case, you probably see the problem right away.<br>\n",
    "the strongest features are now very expresive.. 'the', ',' and 'very' doesn't say much about this review.<br>\n",
    "this words exist both in good and bad reviews.<br>\n",
    "\n",
    "that's why we need to express, not only the document frequncies, but also the general word frequncies.<br>\n",
    "something like that is called **TF-IDF** as **erm frequency–inverse document frequency**<br>\n",
    "\n",
    "<center><img src=\"resources/tfidf.png\" width=\"900\"/></center>\n"
   ]
  },
  {
   "cell_type": "markdown",
   "metadata": {},
   "source": [
    "where **TF** is the simplest cound we just did\n",
    "and **IDF** usually define as $log(\\frac{N}{Df_x})$ where N is the total documents and Df is the number of documents containing the term x.\n",
    "\n",
    "in total we get $$\\# (x_j, c_i) log(\\frac{\\sum_i \\# (c_i)}{\\sum_i \\# (c_i,x_j)}) $$\n",
    "\n",
    "and we solved one problem, however, order of words still matter and naive base, ever with smarter representation, is still naive in the notion of corrolation and order."
   ]
  },
  {
   "cell_type": "markdown",
   "metadata": {},
   "source": [
    "another NLP basic task is text generation, or prediction of the next word in a sequnce.\n",
    "\n",
    "for that, we're going to see a model called **N-gram**.\n",
    "\n",
    "\n",
    "for that matter we want to learn\n",
    "$$\n",
    "Pr(x_n | x_1, x_2, ..., x_{n-1}) \\approx \\frac{\\#{x_1, x_2, ..., x_n}}{\\#{x_1, x_2, ..., x_{n-1}}}  = \\frac{\\#{x_1, x_2, ..., x_n}}{\\sum_{x'} \\#{x_1, x_2, ..., x_{n-1}, x'}}\n",
    "$$\n",
    "\n",
    "were the lenght of the sequnce that we depand on is the **N**.<br>\n",
    "\n",
    "now, this course is in deep learning and not NLP, but you're welcome to read more about more advanced technics like smoothing n-grams and much more.<br>\n",
    "\n",
    "here is an example for 1,2 and 3-grams input:\n",
    "\n",
    "<center><img src=\"resources/grams.png\" width=\"900\"/></center>\n"
   ]
  },
  {
   "cell_type": "markdown",
   "metadata": {},
   "source": [
    "Like always, we want to express a parametric strong model to forcast a prediction of a sequnce that catch long dependencies and does not relay on naive approch.\n",
    "\n",
    "So let's dive back to deep learning..."
   ]
  },
  {
   "cell_type": "markdown",
   "metadata": {
    "slideshow": {
     "slide_type": "slide"
    }
   },
   "source": [
    "## Recurrent layers\n",
    "---"
   ]
  },
  {
   "cell_type": "markdown",
   "metadata": {
    "slideshow": {
     "slide_type": "subslide"
    }
   },
   "source": [
    "The idea is to produce output, like simple FC layer, but also produce a state, that we will denote by $\\vec{h}_t$ (hidden state)<br>\n",
    "An RNN has two inputs:\n",
    "\n",
    "- Current sample, $\\vec{x}_t \\in\\set{R}^{d_{i}}$.\n",
    "- Previous **state**, $\\vec{h}_{t-1}\\in\\set{R}^{d_{h}}$.\n",
    "\n",
    "and it produces two outputs which depend on both inputs:\n",
    "- Current layer output, $\\vec{y}_t\\in\\set{R}^{d_o}$.\n",
    "- Current **state**, $\\vec{h}_{t}\\in\\set{R}^{d_{h}}$."
   ]
  },
  {
   "cell_type": "markdown",
   "metadata": {
    "slideshow": {
     "slide_type": "subslide"
    }
   },
   "source": [
    "as such\n",
    "$$\n",
    "\\begin{align}\n",
    "\\forall t \\geq 0:\\\\\n",
    "\\vec{h}_t &= \\varphi_h\\left( \\mat{W}_{hh} \\vec{h}_{t-1} + \\mat{W}_{xh} \\vec{x}_t + \\vec{b}_h\\right) \\\\\n",
    "\\vec{y}_t &= \\varphi_y\\left(\\mat{W}_{hy}\\vec{h}_t + \\vec{b}_y \\right)\n",
    "\\end{align}\n",
    "$$\n",
    "\n",
    "where,\n",
    "- $\\vec{x}_t \\in\\set{R}^{d_{i}}$ is the input at time $t$.\n",
    "- $\\vec{h}_{t-1}\\in\\set{R}^{d_{h}}$ is the **hidden state** of a fixed dimension.\n",
    "- $\\vec{y}_t\\in\\set{R}^{d_o}$ is the output at time $t$.\n",
    "- $\\mat{W}_{hh}\\in\\set{R}^{d_h\\times d_h}$, $\\mat{W}_{xh}\\in\\set{R}^{d_h\\times d_i}$, $\\mat{W}_{hy}\\in\\set{R}^{d_o\\times d_h}$, $\\vec{b}_h\\in\\set{R}^{d_h}$ and $\\vec{b}_y\\in\\set{R}^{d_o}$ are the model weights and biases.\n",
    "- $\\varphi_h$ and $\\varphi_y$ are some non-linear functions. In many cases $\\varphi_y$ is not used.\n",
    "\n",
    "\n",
    ":\n",
    "<img src=\"resources/rnn_cell.png\" width=\"400\"/>\n",
    "<img src=\"resources/rnn_g.gif\" width=\"500\"/>\n",
    "\n",
    "\n",
    "\n",
    "note that:\n",
    "- The layer does not dependent on time\n",
    "- The same layer is applied at successive time steps, propagating the hidden state."
   ]
  },
  {
   "cell_type": "markdown",
   "metadata": {
    "slideshow": {
     "slide_type": "subslide"
    }
   },
   "source": [
    "### Modeling time-dependence\n",
    "\n",
    "If we imagine **unrolling** a single RNN layer through time,\n",
    "<center><img src=\"resources/rnn_unrolled.png\" width=\"1200\" /></center>\n",
    "\n",
    "\n",
    "RNNs layers can be stacked to build a deep RNN model.\n",
    "\n",
    "<center><img src=\"resources/rnn_layered.png\" width=\"1200\"/></center>\n",
    "\n",
    "We can see how late outputs can now be influenced by early inputs, through the hidden state."
   ]
  },
  {
   "cell_type": "markdown",
   "metadata": {
    "slideshow": {
     "slide_type": "subslide"
    }
   },
   "source": [
    "Forward pass seems pretty easy...<br>\n",
    "What about **backpropagation** ?"
   ]
  },
  {
   "cell_type": "markdown",
   "metadata": {},
   "source": [
    "## Backprop from Loss for RNN\n",
    "---"
   ]
  },
  {
   "cell_type": "markdown",
   "metadata": {
    "slideshow": {
     "slide_type": "fragment"
    }
   },
   "source": [
    "<center><img src=\"resources/bptt.png\" width=\"1000\"></center>\n",
    "\n",
    "**Backpropagation through time**, or BPTT\n",
    "\n",
    "1. Loss is a sum of losses from all outputs\n",
    "\n",
    "$$ L =\\sum_{k=1}^{t}L_k $$\n",
    "\n",
    "2. Calculate Gradient of each loss w.r.t. each parameter at each timestep\n",
    "\n",
    "$$\n",
    "\\pderiv{L_t}{\\mat{W}} = \\sum_{k=1}^{t}\n",
    "\\pderiv{L_t}{\\hat y_t} \\cdot\n",
    "\\pderiv{\\hat y_t}{\\vec{h}_t} \\cdot\n",
    "\\pderiv{\\vec{h}_t}{\\vec{h}_k} \\cdot\n",
    "\\pderiv{\\vec{h}_k}{\\mat{W}}\n",
    "$$\n",
    "\n",
    "3. For each parameter, accumulate gradients from all timesteps\n",
    "\n",
    "$$\n",
    "\\pderiv{L}{\\mat{W_i}} = \\sum_{k=1}^{t}\n",
    "\\pderiv{L_t}{\\hat {W_i}_t}\n",
    "$$\n"
   ]
  },
  {
   "cell_type": "markdown",
   "metadata": {
    "slideshow": {
     "slide_type": "subslide"
    }
   },
   "source": [
    "As you can see, the chain rule here can create a really long chain...\n",
    "Remember the Vanishing gradients problem?"
   ]
  },
  {
   "cell_type": "markdown",
   "metadata": {
    "slideshow": {
     "slide_type": "subslide"
    }
   },
   "source": [
    "one naive way to limit the vanishing gradients problem is to trancate the gradients with a fixed lenght.\n",
    "**Truncated backpropagation through time** or **TBPTT**\n",
    "\n",
    "<center><img src=\"resources/tbptt.png\" width=\"1000\"></center>"
   ]
  },
  {
   "cell_type": "markdown",
   "metadata": {
    "slideshow": {
     "slide_type": "slide"
    }
   },
   "source": [
    "### RNN Implementation"
   ]
  },
  {
   "cell_type": "markdown",
   "metadata": {
    "slideshow": {
     "slide_type": "fragment"
    }
   },
   "source": [
    "Based on the above equations, let's create a simple RNN layer  with PyTorch."
   ]
  },
  {
   "cell_type": "code",
   "execution_count": 5,
   "metadata": {
    "slideshow": {
     "slide_type": "subslide"
    }
   },
   "outputs": [],
   "source": [
    "import torch.nn as nn\n",
    "\n",
    "class RNNLayer(nn.Module):\n",
    "    def __init__(self, in_dim, h_dim, out_dim, phi_h=torch.tanh, phi_y=torch.sigmoid):\n",
    "        super().__init__()\n",
    "        self.phi_h, self.phi_y = phi_h, phi_y\n",
    "        \n",
    "        self.fc_xh = nn.Linear(in_dim, h_dim, bias=False)\n",
    "        self.fc_hh = nn.Linear(h_dim, h_dim, bias=True)\n",
    "        self.fc_hy = nn.Linear(h_dim, out_dim, bias=True)\n",
    "        \n",
    "    def forward(self, xt, h_prev=None):\n",
    "        if h_prev is None:\n",
    "            h_prev = torch.zeros(xt.shape[0], self.fc_hh.in_features)\n",
    "        \n",
    "        ht = self.phi_h(self.fc_xh(xt) + self.fc_hh(h_prev))\n",
    "        \n",
    "        yt = self.fc_hy(ht)\n",
    "        \n",
    "        if self.phi_y is not None:\n",
    "            yt = self.phi_y(yt)\n",
    "        \n",
    "        return yt, ht\n"
   ]
  },
  {
   "cell_type": "markdown",
   "metadata": {
    "slideshow": {
     "slide_type": "subslide"
    }
   },
   "source": [
    "We'll instantiate our model"
   ]
  },
  {
   "cell_type": "code",
   "execution_count": 6,
   "metadata": {
    "slideshow": {
     "slide_type": "fragment"
    }
   },
   "outputs": [
    {
     "data": {
      "text/plain": [
       "RNNLayer(\n",
       "  (fc_xh): Linear(in_features=1024, out_features=10, bias=False)\n",
       "  (fc_hh): Linear(in_features=10, out_features=10, bias=True)\n",
       "  (fc_hy): Linear(in_features=10, out_features=1, bias=True)\n",
       ")"
      ]
     },
     "execution_count": 6,
     "metadata": {},
     "output_type": "execute_result"
    }
   ],
   "source": [
    "N = 3 # batch size\n",
    "in_dim, h_dim, out_dim = 1024, 10, 1\n",
    "\n",
    "rnn = RNNLayer(in_dim, h_dim, out_dim)\n",
    "rnn"
   ]
  },
  {
   "cell_type": "markdown",
   "metadata": {
    "slideshow": {
     "slide_type": "subslide"
    }
   },
   "source": [
    "And manually \"run\" a few time steps"
   ]
  },
  {
   "cell_type": "code",
   "execution_count": 7,
   "metadata": {
    "slideshow": {
     "slide_type": "subslide"
    }
   },
   "outputs": [
    {
     "name": "stdout",
     "output_type": "stream",
     "text": [
      "y1 ((3, 1)):\n",
      "tensor([[0.5760],\n",
      "        [0.5532],\n",
      "        [0.5090]], grad_fn=<SigmoidBackward>)\n",
      "h1 ((3, 10)):\n",
      "tensor([[-0.4929, -0.2203, -0.3811,  0.6135,  0.6831, -0.7211,  0.3326,  0.5280,\n",
      "          0.5976,  0.2995],\n",
      "        [-0.3957, -0.0286,  0.4228,  0.7576, -0.2344, -0.4520, -0.0948,  0.1026,\n",
      "          0.2560,  0.4225],\n",
      "        [-0.4282, -0.3572,  0.0847, -0.3245,  0.8527,  0.0531,  0.4652, -0.2853,\n",
      "         -0.4949, -0.0031]], grad_fn=<TanhBackward>)\n",
      "\n",
      "y2 ((3, 1)):\n",
      "tensor([[0.3830],\n",
      "        [0.5147],\n",
      "        [0.5336]], grad_fn=<SigmoidBackward>)\n",
      "h2 ((3, 10)):\n",
      "tensor([[ 0.5622, -0.6180, -0.2806, -0.3947, -0.6593, -0.3063, -0.0452,  0.9084,\n",
      "          0.2385, -0.7526],\n",
      "        [ 0.0177, -0.5837, -0.4201, -0.4748,  0.6050,  0.1330, -0.1685,  0.5182,\n",
      "          0.5919, -0.6077],\n",
      "        [ 0.3991, -0.2911, -0.4758,  0.2674,  0.2093, -0.5778, -0.1064, -0.2921,\n",
      "          0.4361, -0.2141]], grad_fn=<TanhBackward>)\n",
      "\n"
     ]
    }
   ],
   "source": [
    "# t=1\n",
    "x1 = torch.randn(N, in_dim, requires_grad=True) # requiring grad just for torchviz\n",
    "y1, h1 = rnn(x1)\n",
    "print(f'y1 ({tuple(y1.shape)}):\\n{y1}')\n",
    "print(f'h1 ({tuple(h1.shape)}):\\n{h1}\\n')\n",
    "\n",
    "# t=2\n",
    "x2 = torch.randn(N, in_dim, requires_grad=True)\n",
    "y2, h2 = rnn(x2, h1)\n",
    "print(f'y2 ({tuple(y2.shape)}):\\n{y2}')\n",
    "print(f'h2 ({tuple(h2.shape)}):\\n{h2}\\n')"
   ]
  },
  {
   "cell_type": "markdown",
   "metadata": {
    "slideshow": {
     "slide_type": "subslide"
    }
   },
   "source": [
    "As usual, let's visualize the computation graph and see what happened when we used the same RNN block twice, by looking at the graph from both $y_1$ and $y_2$."
   ]
  },
  {
   "cell_type": "code",
   "execution_count": 8,
   "metadata": {
    "slideshow": {
     "slide_type": "subslide"
    }
   },
   "outputs": [
    {
     "data": {
      "image/svg+xml": [
       "<?xml version=\"1.0\" encoding=\"UTF-8\" standalone=\"no\"?>\n",
       "<!DOCTYPE svg PUBLIC \"-//W3C//DTD SVG 1.1//EN\"\n",
       " \"http://www.w3.org/Graphics/SVG/1.1/DTD/svg11.dtd\">\n",
       "<!-- Generated by graphviz version 2.42.3 (20191010.1750)\n",
       " -->\n",
       "<!-- Title: %3 Pages: 1 -->\n",
       "<svg width=\"653pt\" height=\"688pt\"\n",
       " viewBox=\"0.00 0.00 653.00 688.00\" xmlns=\"http://www.w3.org/2000/svg\" xmlns:xlink=\"http://www.w3.org/1999/xlink\">\n",
       "<g id=\"graph0\" class=\"graph\" transform=\"scale(1 1) rotate(0) translate(4 684)\">\n",
       "<title>%3</title>\n",
       "<polygon fill=\"white\" stroke=\"transparent\" points=\"-4,4 -4,-684 649,-684 649,4 -4,4\"/>\n",
       "<!-- 140122797339008 -->\n",
       "<g id=\"node1\" class=\"node\">\n",
       "<title>140122797339008</title>\n",
       "<polygon fill=\"#caff70\" stroke=\"black\" points=\"494,-31 435,-31 435,0 494,0 494,-31\"/>\n",
       "<text text-anchor=\"middle\" x=\"464.5\" y=\"-7\" font-family=\"monospace\" font-size=\"10.00\"> (3, 1)</text>\n",
       "</g>\n",
       "<!-- 140122661022496 -->\n",
       "<g id=\"node2\" class=\"node\">\n",
       "<title>140122661022496</title>\n",
       "<polygon fill=\"lightgrey\" stroke=\"black\" points=\"518,-86 411,-86 411,-67 518,-67 518,-86\"/>\n",
       "<text text-anchor=\"middle\" x=\"464.5\" y=\"-74\" font-family=\"monospace\" font-size=\"10.00\">SigmoidBackward</text>\n",
       "</g>\n",
       "<!-- 140122661022496&#45;&gt;140122797339008 -->\n",
       "<g id=\"edge32\" class=\"edge\">\n",
       "<title>140122661022496&#45;&gt;140122797339008</title>\n",
       "<path fill=\"none\" stroke=\"black\" d=\"M464.5,-66.79C464.5,-60.07 464.5,-50.4 464.5,-41.34\"/>\n",
       "<polygon fill=\"black\" stroke=\"black\" points=\"468,-41.19 464.5,-31.19 461,-41.19 468,-41.19\"/>\n",
       "</g>\n",
       "<!-- 140122661020960 -->\n",
       "<g id=\"node3\" class=\"node\">\n",
       "<title>140122661020960</title>\n",
       "<polygon fill=\"lightgrey\" stroke=\"black\" points=\"512,-141 417,-141 417,-122 512,-122 512,-141\"/>\n",
       "<text text-anchor=\"middle\" x=\"464.5\" y=\"-129\" font-family=\"monospace\" font-size=\"10.00\">AddmmBackward</text>\n",
       "</g>\n",
       "<!-- 140122661020960&#45;&gt;140122661022496 -->\n",
       "<g id=\"edge1\" class=\"edge\">\n",
       "<title>140122661020960&#45;&gt;140122661022496</title>\n",
       "<path fill=\"none\" stroke=\"black\" d=\"M464.5,-121.75C464.5,-114.8 464.5,-104.85 464.5,-96.13\"/>\n",
       "<polygon fill=\"black\" stroke=\"black\" points=\"468,-96.09 464.5,-86.09 461,-96.09 468,-96.09\"/>\n",
       "</g>\n",
       "<!-- 140122661021392 -->\n",
       "<g id=\"node4\" class=\"node\">\n",
       "<title>140122661021392</title>\n",
       "<polygon fill=\"lightgrey\" stroke=\"black\" points=\"402,-196 301,-196 301,-177 402,-177 402,-196\"/>\n",
       "<text text-anchor=\"middle\" x=\"351.5\" y=\"-184\" font-family=\"monospace\" font-size=\"10.00\">AccumulateGrad</text>\n",
       "</g>\n",
       "<!-- 140122661021392&#45;&gt;140122661020960 -->\n",
       "<g id=\"edge2\" class=\"edge\">\n",
       "<title>140122661021392&#45;&gt;140122661020960</title>\n",
       "<path fill=\"none\" stroke=\"black\" d=\"M369.66,-176.98C387.75,-168.5 415.78,-155.35 436.69,-145.54\"/>\n",
       "<polygon fill=\"black\" stroke=\"black\" points=\"438.45,-148.59 446.01,-141.17 435.47,-142.25 438.45,-148.59\"/>\n",
       "</g>\n",
       "<!-- 140125123419008 -->\n",
       "<g id=\"node5\" class=\"node\">\n",
       "<title>140125123419008</title>\n",
       "<polygon fill=\"lightblue\" stroke=\"black\" points=\"390,-262 313,-262 313,-232 390,-232 390,-262\"/>\n",
       "<text text-anchor=\"middle\" x=\"351.5\" y=\"-250\" font-family=\"monospace\" font-size=\"10.00\">fc_hy.bias</text>\n",
       "<text text-anchor=\"middle\" x=\"351.5\" y=\"-239\" font-family=\"monospace\" font-size=\"10.00\"> (1)</text>\n",
       "</g>\n",
       "<!-- 140125123419008&#45;&gt;140122661021392 -->\n",
       "<g id=\"edge3\" class=\"edge\">\n",
       "<title>140125123419008&#45;&gt;140122661021392</title>\n",
       "<path fill=\"none\" stroke=\"black\" d=\"M351.5,-231.84C351.5,-224.21 351.5,-214.7 351.5,-206.45\"/>\n",
       "<polygon fill=\"black\" stroke=\"black\" points=\"355,-206.27 351.5,-196.27 348,-206.27 355,-206.27\"/>\n",
       "</g>\n",
       "<!-- 140122661021440 -->\n",
       "<g id=\"node6\" class=\"node\">\n",
       "<title>140122661021440</title>\n",
       "<polygon fill=\"lightgrey\" stroke=\"black\" points=\"509,-196 420,-196 420,-177 509,-177 509,-196\"/>\n",
       "<text text-anchor=\"middle\" x=\"464.5\" y=\"-184\" font-family=\"monospace\" font-size=\"10.00\">TanhBackward</text>\n",
       "</g>\n",
       "<!-- 140122661021440&#45;&gt;140122661020960 -->\n",
       "<g id=\"edge4\" class=\"edge\">\n",
       "<title>140122661021440&#45;&gt;140122661020960</title>\n",
       "<path fill=\"none\" stroke=\"black\" d=\"M464.5,-176.75C464.5,-169.8 464.5,-159.85 464.5,-151.13\"/>\n",
       "<polygon fill=\"black\" stroke=\"black\" points=\"468,-151.09 464.5,-141.09 461,-151.09 468,-151.09\"/>\n",
       "</g>\n",
       "<!-- 140122661021488 -->\n",
       "<g id=\"node7\" class=\"node\">\n",
       "<title>140122661021488</title>\n",
       "<polygon fill=\"lightgrey\" stroke=\"black\" points=\"503,-256.5 414,-256.5 414,-237.5 503,-237.5 503,-256.5\"/>\n",
       "<text text-anchor=\"middle\" x=\"458.5\" y=\"-244.5\" font-family=\"monospace\" font-size=\"10.00\">AddBackward0</text>\n",
       "</g>\n",
       "<!-- 140122661021488&#45;&gt;140122661021440 -->\n",
       "<g id=\"edge5\" class=\"edge\">\n",
       "<title>140122661021488&#45;&gt;140122661021440</title>\n",
       "<path fill=\"none\" stroke=\"black\" d=\"M459.39,-237.37C460.22,-229.25 461.49,-216.81 462.56,-206.39\"/>\n",
       "<polygon fill=\"black\" stroke=\"black\" points=\"466.07,-206.47 463.61,-196.17 459.11,-205.76 466.07,-206.47\"/>\n",
       "</g>\n",
       "<!-- 140122661021584 -->\n",
       "<g id=\"node8\" class=\"node\">\n",
       "<title>140122661021584</title>\n",
       "<polygon fill=\"lightgrey\" stroke=\"black\" points=\"193,-493 116,-493 116,-474 193,-474 193,-493\"/>\n",
       "<text text-anchor=\"middle\" x=\"154.5\" y=\"-481\" font-family=\"monospace\" font-size=\"10.00\">MmBackward</text>\n",
       "</g>\n",
       "<!-- 140122661021584&#45;&gt;140122661021488 -->\n",
       "<g id=\"edge6\" class=\"edge\">\n",
       "<title>140122661021584&#45;&gt;140122661021488</title>\n",
       "<path fill=\"none\" stroke=\"black\" d=\"M165.68,-473.88C211.02,-438.9 381.52,-307.38 439.25,-262.85\"/>\n",
       "<polygon fill=\"black\" stroke=\"black\" points=\"441.44,-265.58 447.22,-256.7 437.16,-260.04 441.44,-265.58\"/>\n",
       "</g>\n",
       "<!-- 140122661022400 -->\n",
       "<g id=\"node9\" class=\"node\">\n",
       "<title>140122661022400</title>\n",
       "<polygon fill=\"lightgrey\" stroke=\"black\" points=\"101,-548 0,-548 0,-529 101,-529 101,-548\"/>\n",
       "<text text-anchor=\"middle\" x=\"50.5\" y=\"-536\" font-family=\"monospace\" font-size=\"10.00\">AccumulateGrad</text>\n",
       "</g>\n",
       "<!-- 140122661022400&#45;&gt;140122661021584 -->\n",
       "<g id=\"edge7\" class=\"edge\">\n",
       "<title>140122661022400&#45;&gt;140122661021584</title>\n",
       "<path fill=\"none\" stroke=\"black\" d=\"M67.21,-528.98C83.71,-520.57 109.2,-507.59 128.38,-497.81\"/>\n",
       "<polygon fill=\"black\" stroke=\"black\" points=\"130.17,-500.83 137.49,-493.17 126.99,-494.59 130.17,-500.83\"/>\n",
       "</g>\n",
       "<!-- 140122797853568 -->\n",
       "<g id=\"node10\" class=\"node\">\n",
       "<title>140122797853568</title>\n",
       "<polygon fill=\"lightblue\" stroke=\"black\" points=\"89,-614 12,-614 12,-584 89,-584 89,-614\"/>\n",
       "<text text-anchor=\"middle\" x=\"50.5\" y=\"-602\" font-family=\"monospace\" font-size=\"10.00\">x2</text>\n",
       "<text text-anchor=\"middle\" x=\"50.5\" y=\"-591\" font-family=\"monospace\" font-size=\"10.00\"> (3, 1024)</text>\n",
       "</g>\n",
       "<!-- 140122797853568&#45;&gt;140122661022400 -->\n",
       "<g id=\"edge8\" class=\"edge\">\n",
       "<title>140122797853568&#45;&gt;140122661022400</title>\n",
       "<path fill=\"none\" stroke=\"black\" d=\"M50.5,-583.84C50.5,-576.21 50.5,-566.7 50.5,-558.45\"/>\n",
       "<polygon fill=\"black\" stroke=\"black\" points=\"54,-558.27 50.5,-548.27 47,-558.27 54,-558.27\"/>\n",
       "</g>\n",
       "<!-- 140122661022304 -->\n",
       "<g id=\"node11\" class=\"node\">\n",
       "<title>140122661022304</title>\n",
       "<polygon fill=\"lightgrey\" stroke=\"black\" points=\"190,-548 119,-548 119,-529 190,-529 190,-548\"/>\n",
       "<text text-anchor=\"middle\" x=\"154.5\" y=\"-536\" font-family=\"monospace\" font-size=\"10.00\">TBackward</text>\n",
       "</g>\n",
       "<!-- 140122661022304&#45;&gt;140122661021584 -->\n",
       "<g id=\"edge9\" class=\"edge\">\n",
       "<title>140122661022304&#45;&gt;140122661021584</title>\n",
       "<path fill=\"none\" stroke=\"black\" d=\"M154.5,-528.75C154.5,-521.8 154.5,-511.85 154.5,-503.13\"/>\n",
       "<polygon fill=\"black\" stroke=\"black\" points=\"158,-503.09 154.5,-493.09 151,-503.09 158,-503.09\"/>\n",
       "</g>\n",
       "<!-- 140122661021680 -->\n",
       "<g id=\"node12\" class=\"node\">\n",
       "<title>140122661021680</title>\n",
       "<polygon fill=\"lightgrey\" stroke=\"black\" points=\"250,-608.5 149,-608.5 149,-589.5 250,-589.5 250,-608.5\"/>\n",
       "<text text-anchor=\"middle\" x=\"199.5\" y=\"-596.5\" font-family=\"monospace\" font-size=\"10.00\">AccumulateGrad</text>\n",
       "</g>\n",
       "<!-- 140122661021680&#45;&gt;140122661022304 -->\n",
       "<g id=\"edge10\" class=\"edge\">\n",
       "<title>140122661021680&#45;&gt;140122661022304</title>\n",
       "<path fill=\"none\" stroke=\"black\" d=\"M192.86,-589.37C186.21,-580.73 175.81,-567.2 167.51,-556.42\"/>\n",
       "<polygon fill=\"black\" stroke=\"black\" points=\"170.04,-553.96 161.17,-548.17 164.49,-558.23 170.04,-553.96\"/>\n",
       "</g>\n",
       "<!-- 140122661022064 -->\n",
       "<g id=\"node22\" class=\"node\">\n",
       "<title>140122661022064</title>\n",
       "<polygon fill=\"lightgrey\" stroke=\"black\" points=\"279,-548 208,-548 208,-529 279,-529 279,-548\"/>\n",
       "<text text-anchor=\"middle\" x=\"243.5\" y=\"-536\" font-family=\"monospace\" font-size=\"10.00\">TBackward</text>\n",
       "</g>\n",
       "<!-- 140122661021680&#45;&gt;140122661022064 -->\n",
       "<g id=\"edge21\" class=\"edge\">\n",
       "<title>140122661021680&#45;&gt;140122661022064</title>\n",
       "<path fill=\"none\" stroke=\"black\" d=\"M205.99,-589.37C212.49,-580.73 222.66,-567.2 230.78,-556.42\"/>\n",
       "<polygon fill=\"black\" stroke=\"black\" points=\"233.77,-558.26 236.98,-548.17 228.17,-554.06 233.77,-558.26\"/>\n",
       "</g>\n",
       "<!-- 140125123419328 -->\n",
       "<g id=\"node13\" class=\"node\">\n",
       "<title>140125123419328</title>\n",
       "<polygon fill=\"lightblue\" stroke=\"black\" points=\"244,-680 155,-680 155,-650 244,-650 244,-680\"/>\n",
       "<text text-anchor=\"middle\" x=\"199.5\" y=\"-668\" font-family=\"monospace\" font-size=\"10.00\">fc_xh.weight</text>\n",
       "<text text-anchor=\"middle\" x=\"199.5\" y=\"-657\" font-family=\"monospace\" font-size=\"10.00\"> (10, 1024)</text>\n",
       "</g>\n",
       "<!-- 140125123419328&#45;&gt;140122661021680 -->\n",
       "<g id=\"edge11\" class=\"edge\">\n",
       "<title>140125123419328&#45;&gt;140122661021680</title>\n",
       "<path fill=\"none\" stroke=\"black\" d=\"M199.5,-649.8C199.5,-640.7 199.5,-628.79 199.5,-618.9\"/>\n",
       "<polygon fill=\"black\" stroke=\"black\" points=\"203,-618.84 199.5,-608.84 196,-618.84 203,-618.84\"/>\n",
       "</g>\n",
       "<!-- 140122661021536 -->\n",
       "<g id=\"node14\" class=\"node\">\n",
       "<title>140122661021536</title>\n",
       "<polygon fill=\"lightgrey\" stroke=\"black\" points=\"508,-322.5 413,-322.5 413,-303.5 508,-303.5 508,-322.5\"/>\n",
       "<text text-anchor=\"middle\" x=\"460.5\" y=\"-310.5\" font-family=\"monospace\" font-size=\"10.00\">AddmmBackward</text>\n",
       "</g>\n",
       "<!-- 140122661021536&#45;&gt;140122661021488 -->\n",
       "<g id=\"edge12\" class=\"edge\">\n",
       "<title>140122661021536&#45;&gt;140122661021488</title>\n",
       "<path fill=\"none\" stroke=\"black\" d=\"M460.23,-303.37C459.94,-294.16 459.48,-279.29 459.1,-267.27\"/>\n",
       "<polygon fill=\"black\" stroke=\"black\" points=\"462.59,-266.79 458.78,-256.91 455.59,-267.01 462.59,-266.79\"/>\n",
       "</g>\n",
       "<!-- 140122661021920 -->\n",
       "<g id=\"node15\" class=\"node\">\n",
       "<title>140122661021920</title>\n",
       "<polygon fill=\"lightgrey\" stroke=\"black\" points=\"645,-548 544,-548 544,-529 645,-529 645,-548\"/>\n",
       "<text text-anchor=\"middle\" x=\"594.5\" y=\"-536\" font-family=\"monospace\" font-size=\"10.00\">AccumulateGrad</text>\n",
       "</g>\n",
       "<!-- 140122661021920&#45;&gt;140122661021536 -->\n",
       "<g id=\"edge13\" class=\"edge\">\n",
       "<title>140122661021920&#45;&gt;140122661021536</title>\n",
       "<path fill=\"none\" stroke=\"black\" d=\"M593.37,-528.92C590.4,-508.63 581.09,-456.57 559.5,-419 538.25,-382.02 501.48,-347.79 479.23,-329\"/>\n",
       "<polygon fill=\"black\" stroke=\"black\" points=\"481.41,-326.26 471.47,-322.59 476.95,-331.66 481.41,-326.26\"/>\n",
       "</g>\n",
       "<!-- 140122661022352 -->\n",
       "<g id=\"node23\" class=\"node\">\n",
       "<title>140122661022352</title>\n",
       "<polygon fill=\"lightgrey\" stroke=\"black\" points=\"487,-493 392,-493 392,-474 487,-474 487,-493\"/>\n",
       "<text text-anchor=\"middle\" x=\"439.5\" y=\"-481\" font-family=\"monospace\" font-size=\"10.00\">AddmmBackward</text>\n",
       "</g>\n",
       "<!-- 140122661021920&#45;&gt;140122661022352 -->\n",
       "<g id=\"edge23\" class=\"edge\">\n",
       "<title>140122661021920&#45;&gt;140122661022352</title>\n",
       "<path fill=\"none\" stroke=\"black\" d=\"M569.6,-528.98C543.8,-520.16 503.28,-506.31 474.32,-496.41\"/>\n",
       "<polygon fill=\"black\" stroke=\"black\" points=\"475.19,-493.01 464.6,-493.08 472.93,-499.63 475.19,-493.01\"/>\n",
       "</g>\n",
       "<!-- 140125123419648 -->\n",
       "<g id=\"node16\" class=\"node\">\n",
       "<title>140125123419648</title>\n",
       "<polygon fill=\"lightblue\" stroke=\"black\" points=\"633,-614 556,-614 556,-584 633,-584 633,-614\"/>\n",
       "<text text-anchor=\"middle\" x=\"594.5\" y=\"-602\" font-family=\"monospace\" font-size=\"10.00\">fc_hh.bias</text>\n",
       "<text text-anchor=\"middle\" x=\"594.5\" y=\"-591\" font-family=\"monospace\" font-size=\"10.00\"> (10)</text>\n",
       "</g>\n",
       "<!-- 140125123419648&#45;&gt;140122661021920 -->\n",
       "<g id=\"edge14\" class=\"edge\">\n",
       "<title>140125123419648&#45;&gt;140122661021920</title>\n",
       "<path fill=\"none\" stroke=\"black\" d=\"M594.5,-583.84C594.5,-576.21 594.5,-566.7 594.5,-558.45\"/>\n",
       "<polygon fill=\"black\" stroke=\"black\" points=\"598,-558.27 594.5,-548.27 591,-558.27 598,-558.27\"/>\n",
       "</g>\n",
       "<!-- 140122661021728 -->\n",
       "<g id=\"node17\" class=\"node\">\n",
       "<title>140122661021728</title>\n",
       "<polygon fill=\"lightgrey\" stroke=\"black\" points=\"469,-383 380,-383 380,-364 469,-364 469,-383\"/>\n",
       "<text text-anchor=\"middle\" x=\"424.5\" y=\"-371\" font-family=\"monospace\" font-size=\"10.00\">TanhBackward</text>\n",
       "</g>\n",
       "<!-- 140122661021728&#45;&gt;140122661021536 -->\n",
       "<g id=\"edge15\" class=\"edge\">\n",
       "<title>140122661021728&#45;&gt;140122661021536</title>\n",
       "<path fill=\"none\" stroke=\"black\" d=\"M429.81,-363.87C435.08,-355.31 443.29,-341.97 449.89,-331.24\"/>\n",
       "<polygon fill=\"black\" stroke=\"black\" points=\"452.91,-333.02 455.17,-322.67 446.94,-329.35 452.91,-333.02\"/>\n",
       "</g>\n",
       "<!-- 140122661021776 -->\n",
       "<g id=\"node18\" class=\"node\">\n",
       "<title>140122661021776</title>\n",
       "<polygon fill=\"lightgrey\" stroke=\"black\" points=\"462,-438 373,-438 373,-419 462,-419 462,-438\"/>\n",
       "<text text-anchor=\"middle\" x=\"417.5\" y=\"-426\" font-family=\"monospace\" font-size=\"10.00\">AddBackward0</text>\n",
       "</g>\n",
       "<!-- 140122661021776&#45;&gt;140122661021728 -->\n",
       "<g id=\"edge16\" class=\"edge\">\n",
       "<title>140122661021776&#45;&gt;140122661021728</title>\n",
       "<path fill=\"none\" stroke=\"black\" d=\"M418.66,-418.75C419.57,-411.8 420.89,-401.85 422.04,-393.13\"/>\n",
       "<polygon fill=\"black\" stroke=\"black\" points=\"425.53,-393.46 423.37,-383.09 418.59,-392.54 425.53,-393.46\"/>\n",
       "</g>\n",
       "<!-- 140122661022256 -->\n",
       "<g id=\"node19\" class=\"node\">\n",
       "<title>140122661022256</title>\n",
       "<polygon fill=\"lightgrey\" stroke=\"black\" points=\"374,-493 297,-493 297,-474 374,-474 374,-493\"/>\n",
       "<text text-anchor=\"middle\" x=\"335.5\" y=\"-481\" font-family=\"monospace\" font-size=\"10.00\">MmBackward</text>\n",
       "</g>\n",
       "<!-- 140122661022256&#45;&gt;140122661021776 -->\n",
       "<g id=\"edge17\" class=\"edge\">\n",
       "<title>140122661022256&#45;&gt;140122661021776</title>\n",
       "<path fill=\"none\" stroke=\"black\" d=\"M348.67,-473.98C361.27,-465.84 380.5,-453.41 395.44,-443.76\"/>\n",
       "<polygon fill=\"black\" stroke=\"black\" points=\"397.59,-446.54 404.09,-438.17 393.79,-440.66 397.59,-446.54\"/>\n",
       "</g>\n",
       "<!-- 140122661022112 -->\n",
       "<g id=\"node20\" class=\"node\">\n",
       "<title>140122661022112</title>\n",
       "<polygon fill=\"lightgrey\" stroke=\"black\" points=\"398,-548 297,-548 297,-529 398,-529 398,-548\"/>\n",
       "<text text-anchor=\"middle\" x=\"347.5\" y=\"-536\" font-family=\"monospace\" font-size=\"10.00\">AccumulateGrad</text>\n",
       "</g>\n",
       "<!-- 140122661022112&#45;&gt;140122661022256 -->\n",
       "<g id=\"edge18\" class=\"edge\">\n",
       "<title>140122661022112&#45;&gt;140122661022256</title>\n",
       "<path fill=\"none\" stroke=\"black\" d=\"M345.52,-528.75C343.93,-521.72 341.64,-511.62 339.65,-502.84\"/>\n",
       "<polygon fill=\"black\" stroke=\"black\" points=\"343.07,-502.07 337.44,-493.09 336.24,-503.62 343.07,-502.07\"/>\n",
       "</g>\n",
       "<!-- 140125123387520 -->\n",
       "<g id=\"node21\" class=\"node\">\n",
       "<title>140125123387520</title>\n",
       "<polygon fill=\"lightblue\" stroke=\"black\" points=\"386,-614 309,-614 309,-584 386,-584 386,-614\"/>\n",
       "<text text-anchor=\"middle\" x=\"347.5\" y=\"-602\" font-family=\"monospace\" font-size=\"10.00\">x1</text>\n",
       "<text text-anchor=\"middle\" x=\"347.5\" y=\"-591\" font-family=\"monospace\" font-size=\"10.00\"> (3, 1024)</text>\n",
       "</g>\n",
       "<!-- 140125123387520&#45;&gt;140122661022112 -->\n",
       "<g id=\"edge19\" class=\"edge\">\n",
       "<title>140125123387520&#45;&gt;140122661022112</title>\n",
       "<path fill=\"none\" stroke=\"black\" d=\"M347.5,-583.84C347.5,-576.21 347.5,-566.7 347.5,-558.45\"/>\n",
       "<polygon fill=\"black\" stroke=\"black\" points=\"351,-558.27 347.5,-548.27 344,-558.27 351,-558.27\"/>\n",
       "</g>\n",
       "<!-- 140122661022064&#45;&gt;140122661022256 -->\n",
       "<g id=\"edge20\" class=\"edge\">\n",
       "<title>140122661022064&#45;&gt;140122661022256</title>\n",
       "<path fill=\"none\" stroke=\"black\" d=\"M258.28,-528.98C272.68,-520.69 294.81,-507.94 311.69,-498.22\"/>\n",
       "<polygon fill=\"black\" stroke=\"black\" points=\"313.53,-501.19 320.45,-493.17 310.04,-495.13 313.53,-501.19\"/>\n",
       "</g>\n",
       "<!-- 140122661022352&#45;&gt;140122661021776 -->\n",
       "<g id=\"edge22\" class=\"edge\">\n",
       "<title>140122661022352&#45;&gt;140122661021776</title>\n",
       "<path fill=\"none\" stroke=\"black\" d=\"M435.87,-473.75C432.92,-466.65 428.67,-456.4 424.99,-447.56\"/>\n",
       "<polygon fill=\"black\" stroke=\"black\" points=\"428.13,-445.98 421.07,-438.09 421.67,-448.67 428.13,-445.98\"/>\n",
       "</g>\n",
       "<!-- 140122661022208 -->\n",
       "<g id=\"node24\" class=\"node\">\n",
       "<title>140122661022208</title>\n",
       "<polygon fill=\"lightgrey\" stroke=\"black\" points=\"487,-548 416,-548 416,-529 487,-529 487,-548\"/>\n",
       "<text text-anchor=\"middle\" x=\"451.5\" y=\"-536\" font-family=\"monospace\" font-size=\"10.00\">TBackward</text>\n",
       "</g>\n",
       "<!-- 140122661022208&#45;&gt;140122661022352 -->\n",
       "<g id=\"edge24\" class=\"edge\">\n",
       "<title>140122661022208&#45;&gt;140122661022352</title>\n",
       "<path fill=\"none\" stroke=\"black\" d=\"M449.52,-528.75C447.93,-521.72 445.64,-511.62 443.65,-502.84\"/>\n",
       "<polygon fill=\"black\" stroke=\"black\" points=\"447.07,-502.07 441.44,-493.09 440.24,-503.62 447.07,-502.07\"/>\n",
       "</g>\n",
       "<!-- 140122661022640 -->\n",
       "<g id=\"node25\" class=\"node\">\n",
       "<title>140122661022640</title>\n",
       "<polygon fill=\"lightgrey\" stroke=\"black\" points=\"522,-608.5 421,-608.5 421,-589.5 522,-589.5 522,-608.5\"/>\n",
       "<text text-anchor=\"middle\" x=\"471.5\" y=\"-596.5\" font-family=\"monospace\" font-size=\"10.00\">AccumulateGrad</text>\n",
       "</g>\n",
       "<!-- 140122661022640&#45;&gt;140122661022208 -->\n",
       "<g id=\"edge25\" class=\"edge\">\n",
       "<title>140122661022640&#45;&gt;140122661022208</title>\n",
       "<path fill=\"none\" stroke=\"black\" d=\"M468.55,-589.37C465.71,-581.07 461.34,-568.28 457.73,-557.72\"/>\n",
       "<polygon fill=\"black\" stroke=\"black\" points=\"461.01,-556.5 454.46,-548.17 454.39,-558.76 461.01,-556.5\"/>\n",
       "</g>\n",
       "<!-- 140122661021632 -->\n",
       "<g id=\"node27\" class=\"node\">\n",
       "<title>140122661021632</title>\n",
       "<polygon fill=\"lightgrey\" stroke=\"black\" points=\"551,-438 480,-438 480,-419 551,-419 551,-438\"/>\n",
       "<text text-anchor=\"middle\" x=\"515.5\" y=\"-426\" font-family=\"monospace\" font-size=\"10.00\">TBackward</text>\n",
       "</g>\n",
       "<!-- 140122661022640&#45;&gt;140122661021632 -->\n",
       "<g id=\"edge28\" class=\"edge\">\n",
       "<title>140122661022640&#45;&gt;140122661021632</title>\n",
       "<path fill=\"none\" stroke=\"black\" d=\"M476.52,-589.45C482.01,-579.74 490.66,-563.23 495.5,-548 506.4,-513.65 511.7,-471.7 513.99,-448.05\"/>\n",
       "<polygon fill=\"black\" stroke=\"black\" points=\"517.48,-448.3 514.88,-438.02 510.51,-447.67 517.48,-448.3\"/>\n",
       "</g>\n",
       "<!-- 140125123419712 -->\n",
       "<g id=\"node26\" class=\"node\">\n",
       "<title>140125123419712</title>\n",
       "<polygon fill=\"lightblue\" stroke=\"black\" points=\"516,-680 427,-680 427,-650 516,-650 516,-680\"/>\n",
       "<text text-anchor=\"middle\" x=\"471.5\" y=\"-668\" font-family=\"monospace\" font-size=\"10.00\">fc_hh.weight</text>\n",
       "<text text-anchor=\"middle\" x=\"471.5\" y=\"-657\" font-family=\"monospace\" font-size=\"10.00\"> (10, 10)</text>\n",
       "</g>\n",
       "<!-- 140125123419712&#45;&gt;140122661022640 -->\n",
       "<g id=\"edge26\" class=\"edge\">\n",
       "<title>140125123419712&#45;&gt;140122661022640</title>\n",
       "<path fill=\"none\" stroke=\"black\" d=\"M471.5,-649.8C471.5,-640.7 471.5,-628.79 471.5,-618.9\"/>\n",
       "<polygon fill=\"black\" stroke=\"black\" points=\"475,-618.84 471.5,-608.84 468,-618.84 475,-618.84\"/>\n",
       "</g>\n",
       "<!-- 140122661021632&#45;&gt;140122661021536 -->\n",
       "<g id=\"edge27\" class=\"edge\">\n",
       "<title>140122661021632&#45;&gt;140122661021536</title>\n",
       "<path fill=\"none\" stroke=\"black\" d=\"M511.37,-418.97C502.41,-400.48 481.05,-356.4 469.05,-331.64\"/>\n",
       "<polygon fill=\"black\" stroke=\"black\" points=\"472.19,-330.1 464.68,-322.63 465.89,-333.16 472.19,-330.1\"/>\n",
       "</g>\n",
       "<!-- 140122661021296 -->\n",
       "<g id=\"node28\" class=\"node\">\n",
       "<title>140122661021296</title>\n",
       "<polygon fill=\"lightgrey\" stroke=\"black\" points=\"602,-196 531,-196 531,-177 602,-177 602,-196\"/>\n",
       "<text text-anchor=\"middle\" x=\"566.5\" y=\"-184\" font-family=\"monospace\" font-size=\"10.00\">TBackward</text>\n",
       "</g>\n",
       "<!-- 140122661021296&#45;&gt;140122661020960 -->\n",
       "<g id=\"edge29\" class=\"edge\">\n",
       "<title>140122661021296&#45;&gt;140122661020960</title>\n",
       "<path fill=\"none\" stroke=\"black\" d=\"M550.11,-176.98C533.93,-168.57 508.93,-155.59 490.12,-145.81\"/>\n",
       "<polygon fill=\"black\" stroke=\"black\" points=\"491.67,-142.68 481.19,-141.17 488.45,-148.89 491.67,-142.68\"/>\n",
       "</g>\n",
       "<!-- 140122661021824 -->\n",
       "<g id=\"node29\" class=\"node\">\n",
       "<title>140122661021824</title>\n",
       "<polygon fill=\"lightgrey\" stroke=\"black\" points=\"622,-256.5 521,-256.5 521,-237.5 622,-237.5 622,-256.5\"/>\n",
       "<text text-anchor=\"middle\" x=\"571.5\" y=\"-244.5\" font-family=\"monospace\" font-size=\"10.00\">AccumulateGrad</text>\n",
       "</g>\n",
       "<!-- 140122661021824&#45;&gt;140122661021296 -->\n",
       "<g id=\"edge30\" class=\"edge\">\n",
       "<title>140122661021824&#45;&gt;140122661021296</title>\n",
       "<path fill=\"none\" stroke=\"black\" d=\"M570.76,-237.37C570.07,-229.25 569,-216.81 568.11,-206.39\"/>\n",
       "<polygon fill=\"black\" stroke=\"black\" points=\"571.58,-205.83 567.24,-196.17 564.61,-206.43 571.58,-205.83\"/>\n",
       "</g>\n",
       "<!-- 140125123419904 -->\n",
       "<g id=\"node30\" class=\"node\">\n",
       "<title>140125123419904</title>\n",
       "<polygon fill=\"lightblue\" stroke=\"black\" points=\"616,-328 527,-328 527,-298 616,-298 616,-328\"/>\n",
       "<text text-anchor=\"middle\" x=\"571.5\" y=\"-316\" font-family=\"monospace\" font-size=\"10.00\">fc_hy.weight</text>\n",
       "<text text-anchor=\"middle\" x=\"571.5\" y=\"-305\" font-family=\"monospace\" font-size=\"10.00\"> (1, 10)</text>\n",
       "</g>\n",
       "<!-- 140125123419904&#45;&gt;140122661021824 -->\n",
       "<g id=\"edge31\" class=\"edge\">\n",
       "<title>140125123419904&#45;&gt;140122661021824</title>\n",
       "<path fill=\"none\" stroke=\"black\" d=\"M571.5,-297.8C571.5,-288.7 571.5,-276.79 571.5,-266.9\"/>\n",
       "<polygon fill=\"black\" stroke=\"black\" points=\"575,-266.84 571.5,-256.84 568,-266.84 575,-266.84\"/>\n",
       "</g>\n",
       "</g>\n",
       "</svg>\n"
      ],
      "text/plain": [
       "<graphviz.dot.Digraph at 0x7f70d96f6610>"
      ]
     },
     "execution_count": 8,
     "metadata": {},
     "output_type": "execute_result"
    }
   ],
   "source": [
    "import torchviz\n",
    "\n",
    "torchviz.make_dot(\n",
    "    y2, # Note: Change here to y2 to see the fullly unrolled graph!\n",
    "    params=dict(list(rnn.named_parameters()) + [('x1', x1), ('x2', x2)])\n",
    ")"
   ]
  },
  {
   "cell_type": "markdown",
   "metadata": {},
   "source": [
    "## LSTM and GRU\n",
    "---"
   ]
  },
  {
   "cell_type": "markdown",
   "metadata": {},
   "source": [
    "We talked about the vanishing gradients problem with RNN, however, we didn't mention how to deal with those.\n",
    "Luckyly, Gradient based methods invented long time ago...\n",
    "Today we will talk about **Long Short term Memory (LSTM)** and **Gated Recurrent Unit (GRU)**. <br>\n",
    "\n",
    "both are a type of recurrent cell that tries to preserve long term information. The idea of LSTM was presented back in 1997, but flourished in the age of deep learning.\n",
    "\n",
    "The cell have `memory` or `context` that's base on the `state` of basic RNN and on 3 main gates: \n",
    "\n",
    "- Input gate: decides when to read data into the cell.\n",
    "- Output gate: outputs the entries from the cell.\n",
    "- Forget gate: a mechanism to reset the content of the cell.\n",
    "These gates learn which information is relevant to forget or remember during the training process. The gates contain a non-linear activision function (sigmoid).\n",
    "\n",
    "\n",
    "* we denote the input  $X_t \\in \\mathbb{R}^{n\\times d}$ at timestemp $t$ and the hidden state of the previous time step is $H_{t−1}\\in \\mathbb{R}^{n\\times h}$.\n",
    "\n",
    "\n",
    "\n",
    "<center><img src=\"resources/LSTM.PNG\" width=\"800\" /></center>\n"
   ]
  },
  {
   "cell_type": "markdown",
   "metadata": {},
   "source": [
    "- **Forget gate**: $$ F_t = \\sigma(X_tW_{xf} +H_{t-1}W_{hf} +b_f) \\in \\mathbb{R}^{n\\times f}, $$\n",
    "- **Input gate**: $$ I_t = \\sigma(X_tW_{xi} +H_{t-1}W_{hi} +b_i) \\in \\mathbb{R}^{n\\times h},$$\n",
    "- **Output gate**: $$ O_t = \\sigma(X_tW_{xo} +H_{t-1}W_{ho} +b_o) \\in \\mathbb{R}^{n\\times o}, $$\n",
    "\n",
    "- **candidate memory**:$$ \\tilde{C}_t = \\text{tanh}(X_tW_{xc} +H_{t-1}W_{hc} +b_c) \\in \\mathbb{R}^{n\\times c}$$\n",
    "\n",
    "- **memory / context**: $$ C_t = F_t \\odot C_{t-1} + I_{t} \\odot \\tilde{C}_t$$\n",
    " \n",
    "- **hidden state**: $$ H_t = O_t \\odot \\text{tanh}(C_t)$$\n",
    "\n",
    "\n",
    "as you can see, we save 2 diffrent states, `hidden` and `context` (and of course it's not mentioned, but we have the output as well).\n",
    "\n",
    "the idea really help with vanishing gradients, yet a big set of weights is added to the simple RNN."
   ]
  },
  {
   "cell_type": "markdown",
   "metadata": {},
   "source": [
    "Now we will see that pytorch implementation can also take the hole seqance and deal with it at once"
   ]
  },
  {
   "cell_type": "code",
   "execution_count": 37,
   "metadata": {},
   "outputs": [
    {
     "name": "stdout",
     "output_type": "stream",
     "text": [
      "input shape = torch.Size([5, 3, 10])\n",
      "hidden shape = torch.Size([2, 3, 20])\n",
      "output shape = torch.Size([5, 3, 20])\n"
     ]
    },
    {
     "data": {
      "text/plain": [
       "torch.Size([2, 3, 20])"
      ]
     },
     "execution_count": 37,
     "metadata": {},
     "output_type": "execute_result"
    }
   ],
   "source": [
    "lstm = nn.LSTM(10, 20, 2) #LSTM is not an encoder decoder, thus we can project the output size, but default we use the hidden size\n",
    "input = torch.randn(5, 3, 10) #5 batch size, seq of 3, input dim 10\n",
    "\n",
    "h0 = torch.randn(2, 3, 20) #2 for 2 layers of the LSTM\n",
    "c0 = torch.randn(2, 3, 20)\n",
    "output, (hn, cn) = lstm(input, (h0, c0))\n",
    "\n",
    "print('input shape =',input.shape)\n",
    "print('hidden shape =',h0.shape)\n",
    "print('output shape =',output.shape)"
   ]
  },
  {
   "cell_type": "markdown",
   "metadata": {},
   "source": [
    "We now have 8 sets of weights to learn (i.e., the U and W for each of the 4\n",
    "gates within each unit), whereas with simple recurrent units we only had 2. Training\n",
    "these additional parameters imposes a much significantly higher training cost. \n",
    "\n",
    "**Gated Recurrent Unit** or **GRU** ease this burden by dispensing with the\n",
    "use of a separate context vector, and by reducing the number of gates to 2 — a reset gate, r and an update gate, z.\n",
    "\n",
    "<center><img src=\"resources/gru_1.svg\" width=\"700\" /></center>"
   ]
  },
  {
   "cell_type": "markdown",
   "metadata": {},
   "source": [
    "- **reset gate**:\n",
    "$$ R_t = \\sigma(X_tW_{xr} + H_{t-1}W_{hr} +b_r) \\in \\mathbb{R}^{n \\times h}$$\n",
    "- **update gate**:\n",
    "$$ Z_t = \\sigma(X_tW_{xz} + H_{t-1}W_{hz} +b_z) \\in \\mathbb{R}^{n \\times h} $$\n",
    "\n",
    "- **candidate hidden state**: \n",
    " $$ \\tilde{H}_{t} = \\text{tanh}\\left(X_t W_{xh} + (R_t \\odot H_{t-1})W_{hh} \\right) + b_h$$\n",
    "- **hidden state**:\n",
    "$$ H_t = Z_t \\odot H_{t-1} +(1-Z_t) \\odot \\tilde{H}_t. $$"
   ]
  },
  {
   "cell_type": "markdown",
   "metadata": {},
   "source": [
    "\n",
    "* Whenever the update gate $Z_t$ is close to 1, we simply retain the old state. In this case the information from $X_t$ is essentially ignored, effectively skipping time step $t$ in the dependency chain. \n",
    "* In contrast, whenever $Z_t$ is close to 0, the new latent state $H_t$ approaches the candidate latent state $\\tilde{H}_t$.\n",
    "* These designs can help us cope with the vanishing gradient problem in RNNs and better capture dependencies for sequences with large time step distances."
   ]
  },
  {
   "cell_type": "markdown",
   "metadata": {},
   "source": [
    "Here we have only 2 sets of weights to avoid the vanishing gradients problem, and it words pretty well,\n",
    "note that both cells still have the output weights, so **RNN** has `2` sets of parameters, **LSTM** has `9` sets of parameters and **GRU** has `3` sets of parameters. "
   ]
  },
  {
   "cell_type": "code",
   "execution_count": 23,
   "metadata": {},
   "outputs": [
    {
     "name": "stdout",
     "output_type": "stream",
     "text": [
      "1480\n",
      "5920\n",
      "4440\n"
     ]
    }
   ],
   "source": [
    "def num_params(layer):\n",
    "    return sum([p.numel() for p in layer.parameters()])\n",
    "\n",
    "rnn = nn.RNN(10, 20, 2)\n",
    "lstm = nn.LSTM(10, 20, 2)\n",
    "gru = nn.GRU(10,20,2)\n",
    "print(f'RNN params: {num_params(rnn)}')\n",
    "print(f'LSTM params: {num_params(lstm)}')\n",
    "print(f'GRU params: {num_params(gru)}')"
   ]
  },
  {
   "cell_type": "markdown",
   "metadata": {},
   "source": [
    "## BI-DIRECTIONAL RNN\n",
    "---\n",
    "This units solve to some degree the vanishing gradients. please note that non of them have resiliance to exploding gradients.<br>\n",
    "\n",
    "However, we didn't talk about the problem of future context.\n",
    "\n",
    "NLP has very complex tasks that we can't cover in this tutorial and deserve a course of itself.\n",
    "\n",
    "However, we can think of problems such as part-of speech (POS) taging or translation. and figure that for some tasks, future input is require in order to forcast the current prediction.\n",
    "\n",
    "\n",
    "\"Where are you meeting him? here by the rocks, and his favorite food is roasted fox!\"\n",
    "\n",
    "\"איפה אתה פוגש אותו? כאן ליד הסלעים, והאוכל האהוב עליו הוא שועל צלוי!\"\n",
    "<center><img src=\"resources/Fairuse_Gruffalo.jpg\" width=\"200\" /></center>\n",
    "\n",
    "roasted fox start with adjective and then noun, while in hebrew it's more common to have the noun first and then the adjective. how can we translate the sentence if the hidden state does not contain the future noun?\n",
    "\n",
    "For that we use Bi-directional RNN!\n",
    "<center><img src=\"resources/bi.png\" width=\"900\" /></center>"
   ]
  },
  {
   "cell_type": "markdown",
   "metadata": {},
   "source": [
    "## Embedding\n",
    "---\n",
    "\n",
    "What is a **word embedding**? How do we get one?\n",
    "\n",
    "Embeddings encode tokens as tensors in a way that maintain some **semantic** meaning for our task.\n",
    "\n",
    "<center><img src=\"resources/word_embeddings.png\" width=\"700\"/></center>\n",
    "\n",
    "brief about ways to embed:\n",
    "\n",
    "1. Embedding Layer: We train an embeding layer with our desired size, take a long time and require a lot of data, but learn the specific relations in our corpus\n",
    "\n",
    "2. Word2Vec: statistical method for efficiently learning a standalone word embedding from a text corpus. it's based on CBOW (continues bag of words) and C-SKIP-GRAM (continues skip-gram).\n",
    "\n",
    "3. GloVe (Global Vectors for Word Representation):extension to the word2vec method for efficiently learning word vectors. using matrix factorization techniques such as Latent Semantic Analysis (LSA). if Word2Vec use a window to determine the context, GloVe used the statistics of a word to accure in the hole text.\n",
    "\n",
    "Here we will demostrate basic Embedding"
   ]
  },
  {
   "cell_type": "code",
   "execution_count": 8,
   "metadata": {},
   "outputs": [
    {
     "name": "stdout",
     "output_type": "stream",
     "text": [
      "tensor([3, 4, 0, 1, 3, 3])\n"
     ]
    },
    {
     "data": {
      "text/plain": [
       "tensor([[ 0.6491, -0.7437,  1.3138,  1.7084, -0.9098, -0.9446, -0.5828,  0.3724],\n",
       "        [ 0.2279,  0.9814,  0.7209,  1.5430, -0.3830,  0.4787, -0.0475, -0.5978],\n",
       "        [-0.3343,  1.0899, -0.9758,  0.2273, -1.9611, -0.4196,  0.8106, -1.3409],\n",
       "        [-0.7607,  1.0778,  0.2587,  0.9059,  0.7229, -1.0490, -0.6753, -1.5529],\n",
       "        [ 0.6491, -0.7437,  1.3138,  1.7084, -0.9098, -0.9446, -0.5828,  0.3724],\n",
       "        [ 0.6491, -0.7437,  1.3138,  1.7084, -0.9098, -0.9446, -0.5828,  0.3724]],\n",
       "       grad_fn=<EmbeddingBackward>)"
      ]
     },
     "execution_count": 8,
     "metadata": {},
     "output_type": "execute_result"
    }
   ],
   "source": [
    "embedding_layer = nn.Embedding(num_embeddings=5, embedding_dim=8)\n",
    "\n",
    "token_idx = torch.randint(low=0, high=5, size=(6,))\n",
    "print(token_idx)\n",
    "embedding_layer(token_idx)"
   ]
  },
  {
   "cell_type": "markdown",
   "metadata": {
    "slideshow": {
     "slide_type": "slide"
    }
   },
   "source": [
    "## Sentiment analysis for movie reviews\n",
    "---"
   ]
  },
  {
   "cell_type": "markdown",
   "metadata": {
    "slideshow": {
     "slide_type": "subslide"
    }
   },
   "source": [
    "The task: Given a review about a movie written by some user, decide whether it's **positive**, **negative** or **neutral**.\n",
    "\n",
    "<center><img src=\"resources/sentiment_analysis.png\" width=\"500\" /></center>\n"
   ]
  },
  {
   "cell_type": "markdown",
   "metadata": {
    "slideshow": {
     "slide_type": "subslide"
    }
   },
   "source": [
    "Classically this is considered a challenging task if approached based on keywords alone.\n",
    "\n",
    "Consider:\n",
    "\n",
    "     \"This movie was actually neither that funny, nor super witty.\"\n",
    "     \n",
    "To comprehend such a sentence, it's intuitive to see that some \"state\" must be kept when \"reading\" it."
   ]
  },
  {
   "cell_type": "markdown",
   "metadata": {},
   "source": [
    "So far we only worked with images or tabular data.\n",
    "all the optimization process we lean on works with neumerical parameters, so what can we do to work with numbers again?<br>\n",
    "\n",
    "<br>\n",
    "we will use the simple folowing steps:\n",
    "* Load the dataset\n",
    "* Decide on tokens and tokenize our dataset (words/ chars)\n",
    "* Build a vocabulary from all existing tokens\n",
    "* Encode each text/sentence into sequences of numerical numerical\n",
    "\n",
    "\n",
    "For the sentiment analysis task, we will use `torchtext` to accelerate the preperation process.<br>\n",
    "We're goint to use IMDB dataset: this dataset contains movie reviews which are labeled as positive and negative.<br>\n",
    "If you want to load other datasets or load a custom dataset: https://torchtext.readthedocs.io/en/latest/datasets.html\n",
    "\n",
    "Denote some Special tokens:\n",
    "* \\<sos> - start of sentence\n",
    "* \\<pad> - use to pad sentences so we can load batch of sentences with diffrent lenghts.\n",
    "* \\<eos> - end of a sentence.\n",
    "* \\<unk> - for workd that doesn't come in the train set at all or if the model thinks that no word in the vocabulary is good as next word"
   ]
  },
  {
   "cell_type": "markdown",
   "metadata": {},
   "source": [
    "let's check what is the encoding assigned for `else` and what word belong to the token `10`"
   ]
  },
  {
   "cell_type": "code",
   "execution_count": 9,
   "metadata": {},
   "outputs": [],
   "source": [
    "review_parser = torchtext.data.Field(\n",
    "    sequential=True, use_vocab=True, lower=True,\n",
    "    init_token='<sos>', eos_token='<eos>', dtype=torch.long,\n",
    "    tokenize='spacy', tokenizer_language='en_core_web_sm'\n",
    ")\n",
    "\n",
    "# This Field object converts the text labels into numeric values (0,1,2)\n",
    "label_parser = torchtext.data.Field(\n",
    "    is_target=True, sequential=False, unk_token=None, use_vocab=True\n",
    ")"
   ]
  },
  {
   "cell_type": "code",
   "execution_count": 10,
   "metadata": {},
   "outputs": [
    {
     "name": "stdout",
     "output_type": "stream",
     "text": [
      "Number of training samples: 8544\n",
      "Number of test     samples: 2210\n"
     ]
    }
   ],
   "source": [
    "# Load SST, tokenize the samples and labels\n",
    "# ds_X are Dataset objects which will use the parsers to return tensors\n",
    "ds_train, ds_valid, ds_test = torchtext.datasets.SST.splits(\n",
    "    review_parser, label_parser, root=data_dir\n",
    ")\n",
    "\n",
    "n_train = len(ds_train)\n",
    "print(f'Number of training samples: {n_train}')\n",
    "print(f'Number of test     samples: {len(ds_test)}')"
   ]
  },
  {
   "cell_type": "code",
   "execution_count": 11,
   "metadata": {},
   "outputs": [
    {
     "name": "stdout",
     "output_type": "stream",
     "text": [
      "sample 0111 [positive]:\n",
      "review: the film aims to be funny , uplifting and moving , sometimes all at once .\n",
      "\n",
      "sample 4321 [neutral]:\n",
      "review: the most anti - human big studio picture since 3000 miles to graceland .\n",
      "\n",
      "sample 7777 [negative]:\n",
      "review: an ugly , revolting movie .\n",
      "\n",
      "sample 0000 [positive]:\n",
      "review: the rock is destined to be the 21st century 's new ` ` conan '' and that he 's going to make a splash even greater than arnold schwarzenegger , jean - claud van damme or steven segal .\n",
      "\n"
     ]
    }
   ],
   "source": [
    "for i in ([111, 4321, 7777, 0]):\n",
    "    example = ds_train[i]\n",
    "    label = example.label\n",
    "    review = str.join(\" \", example.text)\n",
    "    print(f'sample {i:04d} [{label}]:\\nreview: {review}\\n')"
   ]
  },
  {
   "cell_type": "code",
   "execution_count": 12,
   "metadata": {},
   "outputs": [
    {
     "data": {
      "image/png": "[encoded data removed]",
      "text/plain": [
       "<Figure size 432x288 with 1 Axes>"
      ]
     },
     "metadata": {
      "needs_background": "light"
     },
     "output_type": "display_data"
    }
   ],
   "source": [
    "hist = [ds_train[i].label for i in range(len(ds_train))]\n",
    "plt.hist(hist);"
   ]
  },
  {
   "cell_type": "code",
   "execution_count": 13,
   "metadata": {},
   "outputs": [
    {
     "name": "stdout",
     "output_type": "stream",
     "text": [
      "Number of tokens in training samples: 15482\n",
      "Number of tokens in training labels: 3\n"
     ]
    }
   ],
   "source": [
    "review_parser.build_vocab(ds_train)\n",
    "label_parser.build_vocab(ds_train)\n",
    "vocab = review_parser.vocab\n",
    "print(f\"Number of tokens in training samples: {len(review_parser.vocab)}\")\n",
    "print(f\"Number of tokens in training labels: {len(label_parser.vocab)}\")"
   ]
  },
  {
   "cell_type": "code",
   "execution_count": 14,
   "metadata": {},
   "outputs": [
    {
     "name": "stdout",
     "output_type": "stream",
     "text": [
      "first 20 tokens:\n",
      " ['<unk>', '<pad>', '<sos>', '<eos>', '.', 'the', ',', 'a', 'and', 'of', 'to', '-', 'is', \"'s\", 'it', 'that', 'in', 'as', 'but', 'film']\n",
      "\n"
     ]
    }
   ],
   "source": [
    "print(f'first 20 tokens:\\n', review_parser.vocab.itos[:20], end='\\n\\n')"
   ]
  },
  {
   "cell_type": "code",
   "execution_count": 15,
   "metadata": {},
   "outputs": [
    {
     "name": "stdout",
     "output_type": "stream",
     "text": [
      "word=film            index=19\n",
      "word=actor           index=492\n",
      "word=schwarzenegger  index=3404\n",
      "word=spielberg       index=715\n",
      "index=19             is the word =film\n",
      "index=492            is the word =actor\n",
      "index=3404           is the word =schwarzenegger\n",
      "index=715            is the word =spielberg\n"
     ]
    }
   ],
   "source": [
    "# Show that some words exist in the vocab\n",
    "for w in ['film', 'actor', 'schwarzenegger', 'spielberg']:\n",
    "    print(f'word={w:15s} index={review_parser.vocab.stoi[w]}')\n",
    "    \n",
    "for i in [19,492,3404,715]:\n",
    "    print(f'index={str(i):14} is the word ={review_parser.vocab.itos[i]}')\n"
   ]
  },
  {
   "cell_type": "code",
   "execution_count": 16,
   "metadata": {},
   "outputs": [
    {
     "name": "stdout",
     "output_type": "stream",
     "text": [
      "labels vocab:\n",
      " {'positive': 0, 'negative': 1, 'neutral': 2}\n"
     ]
    }
   ],
   "source": [
    "print(f'labels vocab:\\n', dict(label_parser.vocab.stoi))"
   ]
  },
  {
   "cell_type": "code",
   "execution_count": 17,
   "metadata": {},
   "outputs": [
    {
     "name": "stdout",
     "output_type": "stream",
     "text": [
      "X = \n",
      " tensor([[    2,     2,     2,     2],\n",
      "        [  890,  2198,    20,     7],\n",
      "        [  767,    26,    24,   791],\n",
      "        [    7,   230,  8094,   473],\n",
      "        [ 1447,    16,   639,    15],\n",
      "        [    6,    10,     9,    85],\n",
      "        [ 7963,     5,  4670,  2832],\n",
      "        [ 3786,    19, 15096,   310],\n",
      "        [   11,    20,     6,     4],\n",
      "        [ 3824,     7, 10486,     3],\n",
      "        [ 2120,  5436,   499,     1],\n",
      "        [    9,   340,     7,     1],\n",
      "        [    7,    84,   459,     1],\n",
      "        [  162,  5840, 15340,     1],\n",
      "        [14578,     6,   492,     1],\n",
      "        [   30,    26,     6,     1],\n",
      "        [    5,   139,     8,     1],\n",
      "        [  908,   274,     7,     1],\n",
      "        [    9,    10,  5325,     1],\n",
      "        [13747,   150, 10678,     1],\n",
      "        [    4,    39,  3087,     1],\n",
      "        [    3,    26,  2712,     1],\n",
      "        [    1,   189,   289,     1],\n",
      "        [    1,    28,  1312,     1],\n",
      "        [    1,  6925,     4,     1],\n",
      "        [    1,    10,     3,     1],\n",
      "        [    1,     5,     1,     1],\n",
      "        [    1,  1127,     1,     1],\n",
      "        [    1,     4,     1,     1],\n",
      "        [    1,     3,     1,     1]]) torch.Size([30, 4])\n",
      "\n",
      "y = \n",
      " tensor([0, 1, 0, 1]) torch.Size([4])\n"
     ]
    }
   ],
   "source": [
    "BATCH_SIZE = 4\n",
    "\n",
    "# BucketIterator creates batches with samples of similar length\n",
    "# to minimize the number of <pad> tokens in the batch.\n",
    "dl_train, dl_valid, dl_test = torchtext.data.BucketIterator.splits(\n",
    "    (ds_train, ds_valid, ds_test), batch_size=BATCH_SIZE,\n",
    "    shuffle=True, device=device)\n",
    "\n",
    "\n",
    "batch = next(iter(dl_train))\n",
    "\n",
    "X, y = batch.text, batch.label\n",
    "print('X = \\n', X, X.shape, end='\\n\\n')\n",
    "print('y = \\n', y, y.shape)"
   ]
  },
  {
   "cell_type": "markdown",
   "metadata": {
    "slideshow": {
     "slide_type": "subslide"
    }
   },
   "source": [
    "Our sample tensor `X` is of shape `(sentence_length, batch_size)`, in our case batch is 1.\n",
    "\n",
    "Note that:\n",
    "1. `sentence_length` is fixed since we picked a max_len, otherwise it will change every batch! You can re-run the previous blocks without max_len.\n",
    "2. `sentence_length` dimension first,soon you will see why"
   ]
  },
  {
   "cell_type": "markdown",
   "metadata": {
    "slideshow": {
     "slide_type": "slide"
    }
   },
   "source": [
    "### Model\n",
    "\n",
    "We'll now create our sentiment analysis model based on the simple `RNNLayer` we've implemented above."
   ]
  },
  {
   "cell_type": "markdown",
   "metadata": {
    "slideshow": {
     "slide_type": "subslide"
    }
   },
   "source": [
    "embedding_layer = nn.Embedding(num_embeddings=5, embedding_dim=8)\n",
    "\n",
    "token_idx = torch.randint(low=0, high=5, size=(6,))\n",
    "print(token_idx)\n",
    "embedding_layer(token_idx)The model will:\n",
    "- Take an input batch of tokenized sentences.\n",
    "- Compute a dense word-embedding of each token.\n",
    "- Process the sentence **sequentially** through the RNN layer.\n",
    "- Produce a `(B, 3)` tensor, which we'll interpret as class probabilities for each sentence in the batch."
   ]
  },
  {
   "cell_type": "markdown",
   "metadata": {
    "slideshow": {
     "slide_type": "subslide"
    }
   },
   "source": [
    "OK, model time:"
   ]
  },
  {
   "cell_type": "code",
   "execution_count": 18,
   "metadata": {
    "slideshow": {
     "slide_type": "fragment"
    }
   },
   "outputs": [],
   "source": [
    "class SentimentRNN(nn.Module):\n",
    "    def __init__(self, vocab_dim, embedding_dim, h_dim, out_dim):\n",
    "        super().__init__()\n",
    "        \n",
    "        # nn.Embedding converts from token index to dense tensor\n",
    "        self.embedding = nn.Embedding(vocab_dim, embedding_dim)\n",
    "\n",
    "        # Our own Vanilla RNN layer, without phi_y so it outputs a class score\n",
    "        self.rnn = RNNLayer(in_dim=embedding_dim, h_dim=h_dim, out_dim=out_dim, phi_y=None)\n",
    "        \n",
    "        # To convert class scores to log-probability we'll apply log-softmax\n",
    "        self.log_softmax = nn.LogSoftmax(dim=1)\n",
    "        \n",
    "    def forward(self, X):\n",
    "        # X shape: (S, B) Note batch dim is not first!\n",
    "        \n",
    "        embedded = self.embedding(X) # embedded shape: (S, B, E)\n",
    "        \n",
    "        # Loop over (batch of) tokens in the sentence(s)\n",
    "        ht = None\n",
    "        for xt in embedded:           # xt is (B, E)\n",
    "            yt, ht = self.rnn(xt, ht) # yt is (B, D_out)\n",
    "        \n",
    "        # Class scores to log-probability\n",
    "        yt_log_proba = self.log_softmax(yt)\n",
    "        \n",
    "        return yt_log_proba"
   ]
  },
  {
   "cell_type": "markdown",
   "metadata": {
    "slideshow": {
     "slide_type": "fragment"
    }
   },
   "source": [
    "Let's instantiate our model."
   ]
  },
  {
   "cell_type": "code",
   "execution_count": 19,
   "metadata": {
    "slideshow": {
     "slide_type": "subslide"
    }
   },
   "outputs": [
    {
     "data": {
      "text/plain": [
       "SentimentRNN(\n",
       "  (embedding): Embedding(15482, 100)\n",
       "  (rnn): RNNLayer(\n",
       "    (fc_xh): Linear(in_features=100, out_features=128, bias=False)\n",
       "    (fc_hh): Linear(in_features=128, out_features=128, bias=True)\n",
       "    (fc_hy): Linear(in_features=128, out_features=3, bias=True)\n",
       "  )\n",
       "  (log_softmax): LogSoftmax(dim=1)\n",
       ")"
      ]
     },
     "execution_count": 19,
     "metadata": {},
     "output_type": "execute_result"
    }
   ],
   "source": [
    "INPUT_DIM = len(vocab)\n",
    "EMBEDDING_DIM = 100\n",
    "HIDDEN_DIM = 128\n",
    "OUTPUT_DIM = 3\n",
    "\n",
    "model = SentimentRNN(INPUT_DIM, EMBEDDING_DIM, HIDDEN_DIM, OUTPUT_DIM)\n",
    "model"
   ]
  },
  {
   "cell_type": "markdown",
   "metadata": {
    "slideshow": {
     "slide_type": "subslide"
    }
   },
   "source": [
    "Test a manual forward pass:"
   ]
  },
  {
   "cell_type": "code",
   "execution_count": 20,
   "metadata": {
    "scrolled": true,
    "slideshow": {
     "slide_type": "fragment"
    }
   },
   "outputs": [
    {
     "name": "stdout",
     "output_type": "stream",
     "text": [
      "model(X) = \n",
      " tensor([[-1.3343, -0.7934, -1.2575],\n",
      "        [-1.0558, -1.7047, -0.7545],\n",
      "        [-1.3150, -0.8064, -1.2549],\n",
      "        [-1.3331, -0.7939, -1.2579]], grad_fn=<LogSoftmaxBackward>) torch.Size([4, 3])\n",
      "labels =  tensor([0, 1, 0, 1])\n"
     ]
    }
   ],
   "source": [
    "print(f'model(X) = \\n', model(X), model(X).shape)\n",
    "print(f'labels = ', y)"
   ]
  },
  {
   "cell_type": "markdown",
   "metadata": {
    "slideshow": {
     "slide_type": "subslide"
    }
   },
   "source": [
    "How big is our model?"
   ]
  },
  {
   "cell_type": "code",
   "execution_count": 21,
   "metadata": {
    "slideshow": {
     "slide_type": "fragment"
    }
   },
   "outputs": [
    {
     "name": "stdout",
     "output_type": "stream",
     "text": [
      "The RNN model has 1,577,899 trainable weights.\n"
     ]
    }
   ],
   "source": [
    "def count_parameters(model):\n",
    "    return sum(p.numel() for p in model.parameters() if p.requires_grad)\n",
    "\n",
    "print(f'The RNN model has {count_parameters(model):,} trainable weights.')"
   ]
  },
  {
   "cell_type": "markdown",
   "metadata": {
    "slideshow": {
     "slide_type": "fragment"
    }
   },
   "source": [
    "Why so many? We used only one RNN layer.\n",
    "\n",
    "Where are most of the weights?"
   ]
  },
  {
   "cell_type": "markdown",
   "metadata": {
    "slideshow": {
     "slide_type": "slide"
    }
   },
   "source": [
    "### Training\n",
    "\n",
    "Let's complete the example by showing the regular pytorch-style train loop with this model.\n",
    "\n",
    "We'll run only a few epochs on a small subset just to test that it works."
   ]
  },
  {
   "cell_type": "code",
   "execution_count": 22,
   "metadata": {
    "slideshow": {
     "slide_type": "subslide"
    }
   },
   "outputs": [],
   "source": [
    "def train(model, optimizer, loss_fn, dataloader, max_epochs=100, max_batches=200):\n",
    "    for epoch_idx in range(max_epochs):\n",
    "        total_loss, num_correct = 0, 0\n",
    "        start_time = time.time()\n",
    "\n",
    "        for batch_idx, batch in enumerate(dataloader):\n",
    "            X, y = batch.text, batch.label\n",
    "\n",
    "            # Forward pass\n",
    "            y_pred_log_proba = model(X)\n",
    "\n",
    "            # Backward pass\n",
    "            optimizer.zero_grad()\n",
    "            loss = loss_fn(y_pred_log_proba, y)\n",
    "            loss.backward()\n",
    "\n",
    "            # Weight updates\n",
    "            optimizer.step()\n",
    "\n",
    "            # Calculate accuracy\n",
    "            total_loss += loss.item()\n",
    "            y_pred = torch.argmax(y_pred_log_proba, dim=1)\n",
    "            num_correct += torch.sum(y_pred == y).float().item()\n",
    "\n",
    "            if batch_idx == max_batches-1:\n",
    "                break\n",
    "                \n",
    "        print(f\"Epoch #{epoch_idx}, loss={total_loss /(max_batches):.3f}, accuracy={num_correct /(max_batches*BATCH_SIZE):.3f}, elapsed={time.time()-start_time:.1f} sec\")"
   ]
  },
  {
   "cell_type": "code",
   "execution_count": 23,
   "metadata": {
    "slideshow": {
     "slide_type": "subslide"
    }
   },
   "outputs": [
    {
     "name": "stdout",
     "output_type": "stream",
     "text": [
      "Epoch #0, loss=1.101, accuracy=0.425, elapsed=4.2 sec\n",
      "Epoch #1, loss=1.086, accuracy=0.416, elapsed=4.3 sec\n",
      "Epoch #2, loss=1.068, accuracy=0.421, elapsed=4.1 sec\n"
     ]
    }
   ],
   "source": [
    "import torch.optim as optim\n",
    "\n",
    "rnn_model = SentimentRNN(INPUT_DIM, EMBEDDING_DIM, HIDDEN_DIM, OUTPUT_DIM).to(device)\n",
    "\n",
    "optimizer = optim.Adam(rnn_model.parameters(), lr=1e-3)\n",
    "\n",
    "# Recall: LogSoftmax + NLL is equiv to CrossEntropy on the class scores\n",
    "loss_fn = nn.NLLLoss()\n",
    "\n",
    "train(rnn_model, optimizer, loss_fn, dl_train, max_epochs=3) # Demo, please don't use it for your HW as is!"
   ]
  },
  {
   "cell_type": "code",
   "execution_count": 24,
   "metadata": {},
   "outputs": [],
   "source": [
    "def present_accuracy(model, dataloader,show=True):\n",
    "    model.eval() # put in evaluation mode\n",
    "    total_correct = 0\n",
    "    total = 0\n",
    "    confusion_matrix = np.zeros([3,3], int)\n",
    "    with torch.no_grad():\n",
    "        for data in dataloader:\n",
    "            X, y = data.text.to(device), data.label.to(device)\n",
    "            y_pred_log_proba = model(X)\n",
    "            predicted = torch.argmax(y_pred_log_proba, dim=1)\n",
    "            total += len(data)\n",
    "            total_correct += (predicted == y).sum().item()\n",
    "            for i, l in enumerate(y):\n",
    "                confusion_matrix[l.item(), predicted[i].item()] += 1 \n",
    "\n",
    "    model_accuracy = total_correct / total * 100\n",
    "    print(\"Test accuracy: {:.3f}%\".format(model_accuracy))\n",
    "    if show:\n",
    "        labels = ('0','1','2')\n",
    "        fig, ax = plt.subplots(1,1,figsize=(8,6))\n",
    "        ax.matshow(confusion_matrix, aspect='auto', vmin=0, vmax=1000, cmap=plt.get_cmap('Blues'))\n",
    "        plt.ylabel('Actual Category')\n",
    "        plt.yticks(range(3), labels)\n",
    "        plt.xlabel('Predicted Category')\n",
    "        plt.xticks(range(3), labels)\n",
    "        plt.show()\n",
    "\n",
    "\n",
    "from sklearn import metrics\n",
    "\n",
    "\n",
    "def print_stats(model, dataloader):\n",
    "    model.eval() # put in evaluation mode\n",
    "    trues = []\n",
    "    preds = []\n",
    "    with torch.no_grad():\n",
    "        for data in dataloader:\n",
    "            X, y = data.text.to(device), data.label.to(device)\n",
    "            trues+=list(y.cpu())\n",
    "            y_pred_log_proba = model(X)\n",
    "            predicted = torch.argmax(y_pred_log_proba, dim=1)\n",
    "            preds+= list(predicted.cpu())            \n",
    "    print(metrics.classification_report(trues, preds, digits=3))"
   ]
  },
  {
   "cell_type": "code",
   "execution_count": 25,
   "metadata": {},
   "outputs": [
    {
     "name": "stdout",
     "output_type": "stream",
     "text": [
      "Test accuracy: 39.326%\n"
     ]
    },
    {
     "data": {
      "image/png": "[encoded data removed]",
      "text/plain": [
       "<Figure size 576x432 with 1 Axes>"
      ]
     },
     "metadata": {
      "needs_background": "light"
     },
     "output_type": "display_data"
    }
   ],
   "source": [
    "present_accuracy(rnn_model, dl_train)"
   ]
  },
  {
   "cell_type": "code",
   "execution_count": 26,
   "metadata": {},
   "outputs": [
    {
     "name": "stdout",
     "output_type": "stream",
     "text": [
      "              precision    recall  f1-score   support\n",
      "\n",
      "           0      0.444     0.273     0.338      3610\n",
      "           1      0.390     0.746     0.513      3310\n",
      "           2      0.000     0.000     0.000      1624\n",
      "\n",
      "    accuracy                          0.404      8544\n",
      "   macro avg      0.278     0.340     0.284      8544\n",
      "weighted avg      0.339     0.404     0.341      8544\n",
      "\n"
     ]
    }
   ],
   "source": [
    "print_stats(rnn_model, dl_train)"
   ]
  },
  {
   "cell_type": "markdown",
   "metadata": {
    "slideshow": {
     "slide_type": "subslide"
    }
   },
   "source": [
    "#### Limitations\n",
    "\n",
    "As usual this is a very naïve model, just for demonstration.\n",
    "It lacks many tricks of the NLP trade, such was pre-trained embeddings,\n",
    "gated RNN units, deep or bi-directional models, dropout, etc.\n",
    "\n",
    "Don't expect SotA results :)"
   ]
  },
  {
   "cell_type": "markdown",
   "metadata": {},
   "source": [
    "## Time-Series Forecasting: Predicting Stock Prices Using An LSTM Model\n",
    "---"
   ]
  },
  {
   "cell_type": "markdown",
   "metadata": {},
   "source": [
    "Now we learned how to work with words and documents, how about making money by forecasting in NASDAQ?\n",
    "\n",
    "as a disclaimer, i will try to explain, why it's nearly impossible to beat the market, but it's still a great tool to be familiar with, and who knows, maybe you would think out of the box and beat the market, just don't forget to tip your favorit T.A after :)"
   ]
  },
  {
   "cell_type": "markdown",
   "metadata": {},
   "source": [
    "we will run this section regardless on the tutorial, so we're going to import all libraries again...\n",
    "\n",
    "note that `alpha_vantage` just help us to get the stocks data from https://www.alphavantage.co/.\n",
    "\n",
    "if you don't want it as part of your enviroment, just use `conda update` with the json file again...\n",
    "\n",
    "### Attention\n",
    "\n",
    "**this is not a recommandation to use alpha_vantage API, it's you can use yahoo database from pandas or whatever other API, or even scrape the data yourself**"
   ]
  },
  {
   "cell_type": "code",
   "execution_count": 39,
   "metadata": {},
   "outputs": [],
   "source": [
    "! pip install alpha_vantage -q\n",
    "\n",
    "# pip install numpy\n",
    "import numpy as np\n",
    "\n",
    "# pip install torch\n",
    "import torch\n",
    "import torch.nn as nn\n",
    "import torch.nn.functional as F\n",
    "import torch.optim as optim\n",
    "from torch.utils.data import Dataset\n",
    "from torch.utils.data import DataLoader\n",
    "\n",
    "# pip install matplotlib\n",
    "import matplotlib.pyplot as plt\n",
    "from matplotlib.pyplot import figure\n",
    "\n",
    "# pip install alpha_vantage\n",
    "from alpha_vantage.timeseries import TimeSeries \n",
    "\n",
    "device = torch.device('cuda' if torch.cuda.is_available() else 'cpu')"
   ]
  },
  {
   "cell_type": "markdown",
   "metadata": {},
   "source": [
    "now we need to determine some parameters, and we're going to use a dictionary config for that.<br>\n",
    "when usually we deal only with batch size and learning rate, here we devide the keys to some sections (so we actually have a dict of dicts)<br>\n",
    "- **alpha_vantage**: what params we want to use (here we use only the closing price and only IBM symbole)\n",
    "- **data**: we determine window size, as the input seq len for the model and the split size for train and validation\n",
    "- **plots**: just some parameters for the plots\n",
    "- **model**: some model params\n",
    "- **training**: some parameters for the training process"
   ]
  },
  {
   "cell_type": "code",
   "execution_count": 52,
   "metadata": {},
   "outputs": [],
   "source": [
    "config = {\n",
    "    \"alpha_vantage\": {\n",
    "        \"key\": \"YOUR_API_KEY\", # Claim your free API key here: https://www.alphavantage.co/support/#api-key\n",
    "        \"symbol\": \"IBM\",   #can use APPL or anything you would like\n",
    "        \"outputsize\": \"full\",\n",
    "        \"key_adjusted_close\": \"5. adjusted close\",\n",
    "    },\n",
    "    \"data\": {\n",
    "        \"window_size\": 20,\n",
    "        \"train_split_size\": 0.80,\n",
    "    }, \n",
    "    \"plots\": {\n",
    "        \"show_plots\": True,\n",
    "        \"xticks_interval\": 90,\n",
    "        \"color_actual\": \"#001f3f\",\n",
    "        \"color_train\": \"#3D9970\",\n",
    "        \"color_val\": \"#0074D9\",\n",
    "        \"color_pred_train\": \"#3D9970\",\n",
    "        \"color_pred_val\": \"#0074D9\",\n",
    "        \"color_pred_test\": \"#FF4136\",\n",
    "    },\n",
    "    \"model\": {\n",
    "        \"input_size\": 1, # since we are only using 1 feature, close price\n",
    "        \"num_lstm_layers\": 2,\n",
    "        \"lstm_size\": 32,\n",
    "        \"dropout\": 0.2,\n",
    "    },\n",
    "    \"training\": {\n",
    "        \"device\": \"cpu\", # \"cuda\" or \"cpu\"\n",
    "        \"batch_size\": 64,\n",
    "        \"num_epoch\": 100,\n",
    "        \"learning_rate\": 0.01,\n",
    "        \"scheduler_step_size\": 40,\n",
    "    }\n",
    "}"
   ]
  },
  {
   "cell_type": "code",
   "execution_count": 53,
   "metadata": {},
   "outputs": [
    {
     "name": "stdout",
     "output_type": "stream",
     "text": [
      "Number data points: 5547 from 1999-11-01 to 2021-11-15\n"
     ]
    },
    {
     "data": {
      "image/png": "[encoded data removed]",
      "text/plain": [
       "<Figure size 2000x400 with 1 Axes>"
      ]
     },
     "metadata": {},
     "output_type": "display_data"
    }
   ],
   "source": [
    "def download_data(config, plot=False):\n",
    "    # get the data from alpha vantage\n",
    "\n",
    "    ts = TimeSeries(key=config[\"alpha_vantage\"][\"key\"])\n",
    "    data, meta_data = ts.get_daily_adjusted(config[\"alpha_vantage\"][\"symbol\"], outputsize=config[\"alpha_vantage\"][\"outputsize\"])\n",
    "\n",
    "    data_date = [date for date in data.keys()]\n",
    "    data_date.reverse()\n",
    "\n",
    "    data_close_price = [float(data[date][config[\"alpha_vantage\"][\"key_adjusted_close\"]]) for date in data.keys()]\n",
    "    data_close_price.reverse()\n",
    "    data_close_price = np.array(data_close_price)\n",
    "\n",
    "    num_data_points = len(data_date)\n",
    "    display_date_range = \"from \" + data_date[0] + \" to \" + data_date[num_data_points-1]\n",
    "    print(\"Number data points:\", num_data_points, display_date_range)\n",
    "\n",
    "    if plot:\n",
    "        fig = figure(figsize=(25, 5), dpi=80)\n",
    "        fig.patch.set_facecolor((1.0, 1.0, 1.0))\n",
    "        plt.plot(data_date, data_close_price, color=config[\"plots\"][\"color_actual\"])\n",
    "        xticks = [data_date[i] if ((i%config[\"plots\"][\"xticks_interval\"]==0 and (num_data_points-i) > config[\"plots\"][\"xticks_interval\"]) or i==num_data_points-1) else None for i in range(num_data_points)] # make x ticks nice\n",
    "        x = np.arange(0,len(xticks))\n",
    "        plt.xticks(x, xticks, rotation='vertical')\n",
    "        plt.title(\"Daily close price for \" + config[\"alpha_vantage\"][\"symbol\"] + \", \" + display_date_range)\n",
    "        plt.grid(b=None, which='major', axis='y', linestyle='--')\n",
    "        plt.show()\n",
    "\n",
    "    return data_date, data_close_price, num_data_points, display_date_range\n",
    "\n",
    "data_date, data_close_price, num_data_points, display_date_range = download_data(config, plot=config[\"plots\"][\"show_plots\"])"
   ]
  },
  {
   "cell_type": "code",
   "execution_count": 54,
   "metadata": {},
   "outputs": [],
   "source": [
    "class Normalizer():\n",
    "    def __init__(self):\n",
    "        self.mu = None\n",
    "        self.sd = None\n",
    "\n",
    "    def fit_transform(self, x):\n",
    "        self.mu = np.mean(x, axis=(0), keepdims=True)\n",
    "        self.sd = np.std(x, axis=(0), keepdims=True)\n",
    "        normalized_x = (x - self.mu)/self.sd\n",
    "        return normalized_x\n",
    "\n",
    "    def inverse_transform(self, x):\n",
    "        return (x*self.sd) + self.mu\n",
    "\n",
    "# normalize\n",
    "scaler = Normalizer()\n",
    "normalized_data_close_price = scaler.fit_transform(data_close_price)"
   ]
  },
  {
   "cell_type": "markdown",
   "metadata": {},
   "source": [
    "fit_transform don't change the distribution, but simply normelize it, so we won't predict too high numbers..."
   ]
  },
  {
   "cell_type": "code",
   "execution_count": 72,
   "metadata": {},
   "outputs": [
    {
     "data": {
      "image/png": "[encoded data removed]",
      "text/plain": [
       "<Figure size 432x288 with 1 Axes>"
      ]
     },
     "metadata": {
      "needs_background": "light"
     },
     "output_type": "display_data"
    }
   ],
   "source": [
    "plt.hist(data_close_price);"
   ]
  },
  {
   "cell_type": "code",
   "execution_count": 73,
   "metadata": {},
   "outputs": [
    {
     "data": {
      "image/png": "[encoded data removed]",
      "text/plain": [
       "<Figure size 432x288 with 1 Axes>"
      ]
     },
     "metadata": {
      "needs_background": "light"
     },
     "output_type": "display_data"
    }
   ],
   "source": [
    "plt.hist(normalized_data_close_price);"
   ]
  },
  {
   "cell_type": "code",
   "execution_count": 55,
   "metadata": {},
   "outputs": [
    {
     "data": {
      "image/png": "[encoded data removed]",
      "text/plain": [
       "<Figure size 2000x400 with 1 Axes>"
      ]
     },
     "metadata": {},
     "output_type": "display_data"
    }
   ],
   "source": [
    "def prepare_data_x(x, window_size):\n",
    "    # perform windowing\n",
    "    n_row = x.shape[0] - window_size + 1\n",
    "    output = np.lib.stride_tricks.as_strided(x, shape=(n_row,window_size), strides=(x.strides[0],x.strides[0]))\n",
    "    return output[:-1], output[-1]\n",
    "\n",
    "def prepare_data_y(x, window_size):\n",
    "    # # perform simple moving average\n",
    "    # output = np.convolve(x, np.ones(window_size), 'valid') / window_size\n",
    "\n",
    "    #even easier, use the next day as label\n",
    "    output = x[window_size:]\n",
    "    return output\n",
    "\n",
    "def prepare_data(normalized_data_close_price, config, plot=False):\n",
    "    data_x, data_x_unseen = prepare_data_x(normalized_data_close_price, window_size=config[\"data\"][\"window_size\"])\n",
    "    data_y = prepare_data_y(normalized_data_close_price, window_size=config[\"data\"][\"window_size\"])\n",
    "\n",
    "    # split dataset\n",
    "\n",
    "    split_index = int(data_y.shape[0]*config[\"data\"][\"train_split_size\"])\n",
    "    data_x_train = data_x[:split_index]\n",
    "    data_x_val = data_x[split_index:]\n",
    "    data_y_train = data_y[:split_index]\n",
    "    data_y_val = data_y[split_index:]\n",
    "\n",
    "    if plot:\n",
    "        # prepare data for plotting\n",
    "\n",
    "        to_plot_data_y_train = np.zeros(num_data_points)\n",
    "        to_plot_data_y_val = np.zeros(num_data_points)\n",
    "\n",
    "        to_plot_data_y_train[config[\"data\"][\"window_size\"]:split_index+config[\"data\"][\"window_size\"]] = scaler.inverse_transform(data_y_train)\n",
    "        to_plot_data_y_val[split_index+config[\"data\"][\"window_size\"]:] = scaler.inverse_transform(data_y_val)\n",
    "\n",
    "        to_plot_data_y_train = np.where(to_plot_data_y_train == 0, None, to_plot_data_y_train)\n",
    "        to_plot_data_y_val = np.where(to_plot_data_y_val == 0, None, to_plot_data_y_val)\n",
    "\n",
    "        ## plots\n",
    "\n",
    "        fig = figure(figsize=(25, 5), dpi=80)\n",
    "        fig.patch.set_facecolor((1.0, 1.0, 1.0))\n",
    "        plt.plot(data_date, to_plot_data_y_train, label=\"Prices (train)\", color=config[\"plots\"][\"color_train\"])\n",
    "        plt.plot(data_date, to_plot_data_y_val, label=\"Prices (validation)\", color=config[\"plots\"][\"color_val\"])\n",
    "        xticks = [data_date[i] if ((i%config[\"plots\"][\"xticks_interval\"]==0 and (num_data_points-i) > config[\"plots\"][\"xticks_interval\"]) or i==num_data_points-1) else None for i in range(num_data_points)] # make x ticks nice\n",
    "        x = np.arange(0,len(xticks))\n",
    "        plt.xticks(x, xticks, rotation='vertical')\n",
    "        plt.title(\"Daily close prices for \" + config[\"alpha_vantage\"][\"symbol\"] + \" - showing training and validation data\")\n",
    "        plt.grid(b=None, which='major', axis='y', linestyle='--')\n",
    "        plt.legend()\n",
    "        plt.show()\n",
    "\n",
    "    return split_index, data_x_train, data_y_train, data_x_val, data_y_val, data_x_unseen\n",
    "\n",
    "split_index, data_x_train, data_y_train, data_x_val, data_y_val, data_x_unseen = prepare_data(normalized_data_close_price, config, plot=config[\"plots\"][\"show_plots\"])"
   ]
  },
  {
   "cell_type": "code",
   "execution_count": 56,
   "metadata": {},
   "outputs": [
    {
     "name": "stdout",
     "output_type": "stream",
     "text": [
      "Train data shape (4421, 20, 1) (4421,)\n",
      "Validation data shape (1106, 20, 1) (1106,)\n"
     ]
    }
   ],
   "source": [
    "class TimeSeriesDataset(Dataset):\n",
    "    def __init__(self, x, y):\n",
    "        x = np.expand_dims(x, 2) # in our case, we have only 1 feature, so we need to convert `x` into [batch, sequence, features] for the model\n",
    "        self.x = x.astype(np.float32)\n",
    "        self.y = y.astype(np.float32)\n",
    "        \n",
    "    def __len__(self):\n",
    "        return len(self.x)\n",
    "\n",
    "    def __getitem__(self, idx):\n",
    "        return (self.x[idx], self.y[idx])\n",
    "\n",
    "dataset_train = TimeSeriesDataset(data_x_train, data_y_train)\n",
    "dataset_val = TimeSeriesDataset(data_x_val, data_y_val)\n",
    "\n",
    "print(\"Train data shape\", dataset_train.x.shape, dataset_train.y.shape)\n",
    "print(\"Validation data shape\", dataset_val.x.shape, dataset_val.y.shape)"
   ]
  },
  {
   "cell_type": "code",
   "execution_count": 57,
   "metadata": {},
   "outputs": [],
   "source": [
    "class GRU_stocks_Model(nn.Module):\n",
    "    def __init__(self, input_size=1, hidden_layer_size=32, num_layers=2, output_size=1, dropout=0.2):\n",
    "        super().__init__()\n",
    "        self.hidden_layer_size = hidden_layer_size\n",
    "\n",
    "        self.linear_1 = nn.Linear(input_size, hidden_layer_size)\n",
    "        self.relu = nn.ReLU()\n",
    "        self.gru = nn.GRU(hidden_layer_size, hidden_size=self.hidden_layer_size, num_layers=num_layers, batch_first=True)\n",
    "        self.dropout = nn.Dropout(dropout)\n",
    "        self.linear_2 = nn.Linear(num_layers*hidden_layer_size, output_size)\n",
    "        \n",
    "        self.init_weights()\n",
    "\n",
    "    def init_weights(self):\n",
    "        for name, param in self.gru.named_parameters():\n",
    "            if 'bias' in name:\n",
    "                 nn.init.constant_(param, 0.0)\n",
    "            elif 'weight_ih' in name:\n",
    "                 nn.init.kaiming_normal_(param)\n",
    "            elif 'weight_hh' in name:\n",
    "                 nn.init.orthogonal_(param)\n",
    "\n",
    "    def forward(self, x):\n",
    "        batchsize = x.shape[0]\n",
    "\n",
    "        # layer 1\n",
    "        x = self.linear_1(x)\n",
    "        x = self.relu(x)\n",
    "        \n",
    "        #gru\n",
    "        #if you choose to use lstm:\n",
    "        #lstm_out, (h_n, c_n) = self.lstm(x)\n",
    "        gru_out, h_n = self.gru(x)\n",
    "        \n",
    "        # reshape output from hidden cell into [batch, features] for `linear_2`\n",
    "        x = h_n.permute(1, 0, 2).reshape(batchsize, -1) \n",
    "        \n",
    "        # layer 2\n",
    "        x = self.dropout(x)\n",
    "        predictions = self.linear_2(x)\n",
    "        return predictions[:,-1]\n",
    "\n",
    "stocks_Model = GRU_stocks_Model(input_size=config[\"model\"][\"input_size\"], hidden_layer_size=config[\"model\"][\"lstm_size\"], num_layers=config[\"model\"][\"num_lstm_layers\"], output_size=1, dropout=config[\"model\"][\"dropout\"])\n",
    "stocks_Model = stocks_Model.to(config[\"training\"][\"device\"])"
   ]
  },
  {
   "cell_type": "code",
   "execution_count": 58,
   "metadata": {},
   "outputs": [
    {
     "name": "stdout",
     "output_type": "stream",
     "text": [
      "Epoch[1/100] | loss train:0.026825, test:0.543990 | lr:0.010000\n",
      "Epoch[11/100] | loss train:0.000961, test:0.540005 | lr:0.010000\n",
      "Epoch[21/100] | loss train:0.000750, test:0.512467 | lr:0.010000\n",
      "Epoch[31/100] | loss train:0.000904, test:0.554754 | lr:0.010000\n",
      "Epoch[41/100] | loss train:0.000754, test:0.600936 | lr:0.001000\n",
      "Epoch[51/100] | loss train:0.000626, test:0.600307 | lr:0.001000\n",
      "Epoch[61/100] | loss train:0.000607, test:0.625222 | lr:0.001000\n",
      "Epoch[71/100] | loss train:0.000496, test:0.555383 | lr:0.001000\n",
      "Epoch[81/100] | loss train:0.000576, test:0.607356 | lr:0.000100\n",
      "Epoch[91/100] | loss train:0.000466, test:0.620627 | lr:0.000100\n"
     ]
    }
   ],
   "source": [
    "def run_epoch(dataloader, is_training=False):\n",
    "    epoch_loss = 0\n",
    "\n",
    "    if is_training:\n",
    "        stocks_Model.train()\n",
    "    else:\n",
    "        stocks_Model.eval()\n",
    "\n",
    "    for idx, (x, y) in enumerate(dataloader):\n",
    "        if is_training:\n",
    "            optimizer.zero_grad()\n",
    "\n",
    "        batchsize = x.shape[0]\n",
    "\n",
    "        x = x.to(config[\"training\"][\"device\"])\n",
    "        y = y.to(config[\"training\"][\"device\"])\n",
    "\n",
    "        out = stocks_Model(x)\n",
    "        loss = criterion(out.contiguous(), y.contiguous())\n",
    "\n",
    "        if is_training:\n",
    "            loss.backward()\n",
    "            optimizer.step()\n",
    "\n",
    "        epoch_loss += (loss.detach().item() / batchsize)\n",
    "\n",
    "    lr = scheduler.get_last_lr()[0]\n",
    "\n",
    "    return epoch_loss, lr\n",
    "\n",
    "# create `DataLoader`\n",
    "train_dataloader = DataLoader(dataset_train, batch_size=config[\"training\"][\"batch_size\"], shuffle=True)\n",
    "val_dataloader = DataLoader(dataset_val, batch_size=config[\"training\"][\"batch_size\"], shuffle=True)\n",
    "\n",
    "# define optimizer, scheduler and loss function\n",
    "criterion = nn.MSELoss()\n",
    "optimizer = optim.Adam(stocks_Model.parameters(), lr=config[\"training\"][\"learning_rate\"], betas=(0.9, 0.98), eps=1e-9)\n",
    "scheduler = optim.lr_scheduler.StepLR(optimizer, step_size=config[\"training\"][\"scheduler_step_size\"], gamma=0.1)\n",
    "\n",
    "# begin training\n",
    "for epoch in range(config[\"training\"][\"num_epoch\"]):\n",
    "    loss_train, lr_train = run_epoch(train_dataloader, is_training=True)\n",
    "    loss_val, lr_val = run_epoch(val_dataloader)\n",
    "    scheduler.step()\n",
    "    if epoch%10 ==0:\n",
    "        print('Epoch[{}/{}] | loss train:{:.6f}, test:{:.6f} | lr:{:.6f}'\n",
    "                  .format(epoch+1, config[\"training\"][\"num_epoch\"], loss_train, loss_val, lr_train))\n"
   ]
  },
  {
   "cell_type": "code",
   "execution_count": 59,
   "metadata": {},
   "outputs": [
    {
     "data": {
      "image/png": "[encoded data removed]",
      "text/plain": [
       "<Figure size 2000x400 with 1 Axes>"
      ]
     },
     "metadata": {},
     "output_type": "display_data"
    },
    {
     "data": {
      "image/png": "[encoded data removed]",
      "text/plain": [
       "<Figure size 2000x400 with 1 Axes>"
      ]
     },
     "metadata": {},
     "output_type": "display_data"
    }
   ],
   "source": [
    "# here we re-initialize dataloader so the data doesn't shuffled, so we can plot the values by date\n",
    "\n",
    "train_dataloader = DataLoader(dataset_train, batch_size=config[\"training\"][\"batch_size\"], shuffle=False)\n",
    "val_dataloader = DataLoader(dataset_val, batch_size=config[\"training\"][\"batch_size\"], shuffle=False)\n",
    "\n",
    "stocks_Model.eval()\n",
    "\n",
    "# predict on the training data, to see how well the model managed to learn and memorize\n",
    "\n",
    "predicted_train = np.array([])\n",
    "\n",
    "for idx, (x, y) in enumerate(train_dataloader):\n",
    "    x = x.to(config[\"training\"][\"device\"])\n",
    "    out = stocks_Model(x)\n",
    "    out = out.cpu().detach().numpy()\n",
    "    predicted_train = np.concatenate((predicted_train, out))\n",
    "\n",
    "# predict on the validation data, to see how the model does\n",
    "\n",
    "predicted_val = np.array([])\n",
    "\n",
    "for idx, (x, y) in enumerate(val_dataloader):\n",
    "    x = x.to(config[\"training\"][\"device\"])\n",
    "    out = stocks_Model(x)\n",
    "    out = out.cpu().detach().numpy()\n",
    "    predicted_val = np.concatenate((predicted_val, out))\n",
    "\n",
    "if config[\"plots\"][\"show_plots\"]:\n",
    "\n",
    "    # prepare data for plotting, show predicted prices\n",
    "\n",
    "    to_plot_data_y_train_pred = np.zeros(num_data_points)\n",
    "    to_plot_data_y_val_pred = np.zeros(num_data_points)\n",
    "\n",
    "    to_plot_data_y_train_pred[config[\"data\"][\"window_size\"]:split_index+config[\"data\"][\"window_size\"]] = scaler.inverse_transform(predicted_train)\n",
    "    to_plot_data_y_val_pred[split_index+config[\"data\"][\"window_size\"]:] = scaler.inverse_transform(predicted_val)\n",
    "\n",
    "    to_plot_data_y_train_pred = np.where(to_plot_data_y_train_pred == 0, None, to_plot_data_y_train_pred)\n",
    "    to_plot_data_y_val_pred = np.where(to_plot_data_y_val_pred == 0, None, to_plot_data_y_val_pred)\n",
    "\n",
    "    # plots\n",
    "\n",
    "    fig = figure(figsize=(25, 5), dpi=80)\n",
    "    fig.patch.set_facecolor((1.0, 1.0, 1.0))\n",
    "    plt.plot(data_date, data_close_price, label=\"Actual prices\", color=config[\"plots\"][\"color_actual\"])\n",
    "    plt.plot(data_date, to_plot_data_y_train_pred, label=\"Predicted prices (train)\", color=config[\"plots\"][\"color_pred_train\"])\n",
    "    plt.plot(data_date, to_plot_data_y_val_pred, label=\"Predicted prices (validation)\", color=config[\"plots\"][\"color_pred_val\"])\n",
    "    plt.title(\"Compare predicted prices to actual prices\")\n",
    "    xticks = [data_date[i] if ((i%config[\"plots\"][\"xticks_interval\"]==0 and (num_data_points-i) > config[\"plots\"][\"xticks_interval\"]) or i==num_data_points-1) else None for i in range(num_data_points)] # make x ticks nice\n",
    "    x = np.arange(0,len(xticks))\n",
    "    plt.xticks(x, xticks, rotation='vertical')\n",
    "    plt.grid(b=None, which='major', axis='y', linestyle='--')\n",
    "    plt.legend()\n",
    "    plt.show()\n",
    "\n",
    "    # prepare data for plotting, zoom in validation\n",
    "\n",
    "    to_plot_data_y_val_subset = scaler.inverse_transform(data_y_val)\n",
    "    to_plot_predicted_val = scaler.inverse_transform(predicted_val)\n",
    "    to_plot_data_date = data_date[split_index+config[\"data\"][\"window_size\"]:]\n",
    "\n",
    "    # plots\n",
    "\n",
    "    fig = figure(figsize=(25, 5), dpi=80)\n",
    "    fig.patch.set_facecolor((1.0, 1.0, 1.0))\n",
    "    plt.plot(to_plot_data_date, to_plot_data_y_val_subset, label=\"Actual prices\", color=config[\"plots\"][\"color_actual\"])\n",
    "    plt.plot(to_plot_data_date, to_plot_predicted_val, label=\"Predicted prices (validation)\", color=config[\"plots\"][\"color_pred_val\"])\n",
    "    plt.title(\"Zoom in to examine predicted price on validation data portion\")\n",
    "    xticks = [to_plot_data_date[i] if ((i%int(config[\"plots\"][\"xticks_interval\"]/5)==0 and (len(to_plot_data_date)-i) > config[\"plots\"][\"xticks_interval\"]/6) or i==len(to_plot_data_date)-1) else None for i in range(len(to_plot_data_date))] # make x ticks nice\n",
    "    xs = np.arange(0,len(xticks))\n",
    "    plt.xticks(xs, xticks, rotation='vertical')\n",
    "    plt.grid(b=None, which='major', axis='y', linestyle='--')\n",
    "    plt.legend()\n",
    "    plt.show()"
   ]
  },
  {
   "cell_type": "code",
   "execution_count": 60,
   "metadata": {},
   "outputs": [
    {
     "data": {
      "image/png": "[encoded data removed]",
      "text/plain": [
       "<Figure size 2000x400 with 1 Axes>"
      ]
     },
     "metadata": {},
     "output_type": "display_data"
    },
    {
     "name": "stdout",
     "output_type": "stream",
     "text": [
      "Predicted close price of the next trading day: 47.71\n"
     ]
    }
   ],
   "source": [
    "# predict on the unseen data, tomorrow's price \n",
    "\n",
    "stocks_Model.eval()\n",
    "\n",
    "x = torch.tensor(data_x_unseen).float().to(config[\"training\"][\"device\"]).unsqueeze(0).unsqueeze(2) # this is the data type and shape required, [batch, sequence, feature]\n",
    "prediction = stocks_Model(x)\n",
    "prediction = prediction.cpu().detach().numpy()\n",
    "prediction = scaler.inverse_transform(prediction)[0]\n",
    "\n",
    "if config[\"plots\"][\"show_plots\"]:\n",
    "        \n",
    "    # prepare plots\n",
    "\n",
    "    plot_range = 10\n",
    "    to_plot_data_y_val = np.zeros(plot_range)\n",
    "    to_plot_data_y_val_pred = np.zeros(plot_range)\n",
    "    to_plot_data_y_test_pred = np.zeros(plot_range)\n",
    "\n",
    "    to_plot_data_y_val[:plot_range-1] = scaler.inverse_transform(data_y_val)[-plot_range+1:]\n",
    "    to_plot_data_y_val_pred[:plot_range-1] = scaler.inverse_transform(predicted_val)[-plot_range+1:]\n",
    "\n",
    "    to_plot_data_y_test_pred[plot_range-1] = prediction\n",
    "\n",
    "    to_plot_data_y_val = np.where(to_plot_data_y_val == 0, None, to_plot_data_y_val)\n",
    "    to_plot_data_y_val_pred = np.where(to_plot_data_y_val_pred == 0, None, to_plot_data_y_val_pred)\n",
    "    to_plot_data_y_test_pred = np.where(to_plot_data_y_test_pred == 0, None, to_plot_data_y_test_pred)\n",
    "\n",
    "    # plot\n",
    "\n",
    "    plot_date_test = data_date[-plot_range+1:]\n",
    "    plot_date_test.append(\"next trading day\")\n",
    "\n",
    "    fig = figure(figsize=(25, 5), dpi=80)\n",
    "    fig.patch.set_facecolor((1.0, 1.0, 1.0))\n",
    "    plt.plot(plot_date_test, to_plot_data_y_val, label=\"Actual prices\", marker=\".\", markersize=10, color=config[\"plots\"][\"color_actual\"])\n",
    "    plt.plot(plot_date_test, to_plot_data_y_val_pred, label=\"Past predicted prices\", marker=\".\", markersize=10, color=config[\"plots\"][\"color_pred_val\"])\n",
    "    plt.plot(plot_date_test, to_plot_data_y_test_pred, label=\"Predicted price for next day\", marker=\".\", markersize=20, color=config[\"plots\"][\"color_pred_test\"])\n",
    "    plt.title(\"Predicted close price of the next trading day\")\n",
    "    plt.grid(b=None, which='major', axis='y', linestyle='--')\n",
    "    plt.legend()\n",
    "    plt.show()\n",
    "\n",
    "print(\"Predicted close price of the next trading day:\", round(prediction, 2))"
   ]
  },
  {
   "cell_type": "markdown",
   "metadata": {},
   "source": [
    "## Links\n",
    "---"
   ]
  },
  {
   "cell_type": "markdown",
   "metadata": {},
   "source": [
    "[RNN vs LSTM vs GRU](https://medium.com/analytics-vidhya/rnn-vs-gru-vs-lstm-863b0b7b1573)<br>\n",
    "[LSTM and Bidirectional LSTM for Regression](https://towardsdatascience.com/lstm-and-bidirectional-lstm-for-regression-4fddf910c655)<br>\n",
    "https://nlp.stanford.edu/pubs/glove.pdf glove"
   ]
  },
  {
   "cell_type": "markdown",
   "metadata": {
    "slideshow": {
     "slide_type": "skip"
    }
   },
   "source": [
    "\n",
    "## Credits\n",
    "---\n",
    "\n",
    "This tutorial was written by [Moshe Kimhi](https://www.linkedin.com/in/moshekimhi/)<br>\n",
    "To re-use, please provide attribution and link to the original.\n",
    "\n",
    "\n",
    "Stock prediction from https://www.alphavantage.co/academy/<br>\n",
    "some of the RNN images from tutorials given by [Aviv Rosenberg](https://avivr.net).<br>\n",
    "\n",
    "\n",
    "Some images in this tutorial were taken and/or adapted from the following sources:\n",
    "- http://d2l.ai\n",
    "- http://giphy.com \n",
    "- Fundamentals of Deep Learning, Nikhil Buduma, Oreilly 2017\n",
    "- Sebastian Ruder, \"On word embeddings - Part 1\", 2016, https://ruder.io\n",
    "- http://karpathy.github.io\n",
    "- Stanford cs231n"
   ]
  },
  {
   "cell_type": "code",
   "execution_count": null,
   "metadata": {},
   "outputs": [],
   "source": []
  }
 ],
 "metadata": {
  "celltoolbar": "Slideshow",
  "kernelspec": {
   "display_name": "Python 3",
   "language": "python",
   "name": "python3"
  },
  "language_info": {
   "codemirror_mode": {
    "name": "ipython",
    "version": 3
   },
   "file_extension": ".py",
   "mimetype": "text/x-python",
   "name": "python",
   "nbconvert_exporter": "python",
   "pygments_lexer": "ipython3",
   "version": "3.8.6"
  }
 },
 "nbformat": 4,
 "nbformat_minor": 4
}
