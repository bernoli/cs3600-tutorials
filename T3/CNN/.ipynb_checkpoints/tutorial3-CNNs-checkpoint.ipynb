{
 "cells": [
  {
   "cell_type": "markdown",
   "metadata": {
    "slideshow": {
     "slide_type": "slide"
    }
   },
   "source": [
    "$$\n",
    "\\newcommand{\\mat}[1]{\\boldsymbol {#1}}\n",
    "\\newcommand{\\mattr}[1]{\\boldsymbol {#1}^\\top}\n",
    "\\newcommand{\\matinv}[1]{\\boldsymbol {#1}^{-1}}\n",
    "\\newcommand{\\vec}[1]{\\boldsymbol {#1}}\n",
    "\\newcommand{\\vectr}[1]{\\boldsymbol {#1}^\\top}\n",
    "\\newcommand{\\rvar}[1]{\\mathrm {#1}}\n",
    "\\newcommand{\\rvec}[1]{\\boldsymbol{\\mathrm{#1}}}\n",
    "\\newcommand{\\diag}{\\mathop{\\mathrm {diag}}}\n",
    "\\newcommand{\\set}[1]{\\mathbb {#1}}\n",
    "\\newcommand{\\norm}[1]{\\left\\lVert#1\\right\\rVert}\n",
    "\\newcommand{\\pderiv}[2]{\\frac{\\partial #1}{\\partial #2}}\n",
    "\\newcommand{\\bb}[1]{\\boldsymbol{#1}}\n",
    "$$\n",
    "\n",
    "# CS3600: Deep Learning\n",
    "# Tutorial 3: Convolutional Neural Networks"
   ]
  },
  {
   "cell_type": "markdown",
   "metadata": {
    "slideshow": {
     "slide_type": "subslide"
    }
   },
   "source": [
    "## Introduction\n",
    "\n",
    "In this tutorial, we will cover:\n",
    "\n",
    "- Convolution and Convolutional layers\n",
    "- Pooling layers\n",
    "- Batch Normalization\n",
    "- Dropout regulatization\n",
    "- Network architecture (with code examples)\n",
    "- Residual nets"
   ]
  },
  {
   "cell_type": "code",
   "execution_count": 1,
   "metadata": {
    "slideshow": {
     "slide_type": "subslide"
    },
    "tags": []
   },
   "outputs": [],
   "source": [
    "# Setup\n",
    "%matplotlib inline\n",
    "import os\n",
    "import time\n",
    "import sys\n",
    "import numpy as np\n",
    "import matplotlib.pyplot as plt\n",
    "\n",
    "import torch\n",
    "import torch.nn as nn\n",
    "import torchvision\n",
    "import torchvision.transforms as transforms"
   ]
  },
  {
   "cell_type": "code",
   "execution_count": 2,
   "metadata": {
    "slideshow": {
     "slide_type": "fragment"
    }
   },
   "outputs": [],
   "source": [
    "plt.rcParams['font.size'] = 20\n",
    "data_dir = os.path.expanduser('~/.pytorch-datasets')"
   ]
  },
  {
   "cell_type": "markdown",
   "metadata": {
    "slideshow": {
     "slide_type": "slide"
    }
   },
   "source": [
    "## Theory Reminders"
   ]
  },
  {
   "cell_type": "markdown",
   "metadata": {
    "slideshow": {
     "slide_type": "fragment"
    }
   },
   "source": [
    "### Multilayer Perceptron (MLP)"
   ]
  },
  {
   "cell_type": "markdown",
   "metadata": {
    "slideshow": {
     "slide_type": "fragment"
    }
   },
   "source": [
    "#### Model\n",
    "\n",
    "<center><img src=\"img/mlp.png\" width=500 /></center>"
   ]
  },
  {
   "cell_type": "markdown",
   "metadata": {
    "slideshow": {
     "slide_type": "subslide"
    }
   },
   "source": [
    "Composed of multiple **layers**.\n",
    "\n",
    "Each layer $j$ consists of $n_j$ regular perceptrons (\"neurons\") which calculate:\n",
    "$$\n",
    "\\vec{y}_j = \\varphi\\left( \\mat{W}_j \\vec{y}_{j-1} + \\vec{b}_j \\right),~\n",
    "\\mat{W}_j\\in\\set{R}^{n_{j}\\times n_{j-1}},~ \\vec{b}_j\\in\\set{R}^{n_j}.\n",
    "$$"
   ]
  },
  {
   "cell_type": "markdown",
   "metadata": {
    "slideshow": {
     "slide_type": "subslide"
    }
   },
   "source": [
    "Given an input sample $\\vec{x}^i$, the computed function of an $L$-layer MLP is:\n",
    "$$\n",
    "\\vec{y}_L^i= \\varphi \\left(\n",
    "\\mat{W}_L \\varphi \\left( \\cdots\n",
    "\\varphi \\left( \\mat{W}_1 \\vec{x}^i + \\vec{b}_1 \\right)\n",
    "\\cdots \\right)\n",
    "+ \\vec{b}_L \\right)\n",
    "$$"
   ]
  },
  {
   "cell_type": "markdown",
   "metadata": {
    "slideshow": {
     "slide_type": "fragment"
    }
   },
   "source": [
    "**Potent hypothesis class**: An MLP with $L>1$, can approximate virtually any continuous function given enough parameters (Cybenko, 1989)."
   ]
  },
  {
   "cell_type": "markdown",
   "metadata": {
    "slideshow": {
     "slide_type": "subslide"
    }
   },
   "source": [
    "## Limitations of MLPs for image classification"
   ]
  },
  {
   "cell_type": "markdown",
   "metadata": {
    "slideshow": {
     "slide_type": "fragment"
    }
   },
   "source": [
    "1. Number of parameters increases quadratically with input size <br>\n",
    "28x28 MNIST image: 784 weights per neuron in the first layer<br>\n",
    "a 1000x1000x3 color image: 3M weights **per neuron**"
   ]
  },
  {
   "cell_type": "markdown",
   "metadata": {
    "slideshow": {
     "slide_type": "subslide"
    }
   },
   "source": [
    "Huge number of parameters greatly increases risk of overfitting\n",
    "\n",
    "  <center><img src=\"https://upload.wikimedia.org/wikipedia/commons/thumb/1/19/Overfitting.svg/1200px-Overfitting.svg.png\" width=\"400\" alt=\"overfit1\"></center>\n",
    "  "
   ]
  },
  {
   "cell_type": "markdown",
   "metadata": {
    "slideshow": {
     "slide_type": "subslide"
    }
   },
   "source": [
    "2. highly sensitivity, even for the simplest transformations\n",
    "\n",
    "<img src=\"./img/tut_8_alignment3.png\" width=\"600\">\n",
    "\n",
    "<img src=\"./img/tut_8_alignment4.png\" width=\"600\">\n",
    "\n",
    "## Basic 2D Transformations matematical example\n",
    "\n",
    "<img src=\"./img/tut_8_alignment5.png\" width=\"600\">\n"
   ]
  },
  {
   "cell_type": "markdown",
   "metadata": {
    "slideshow": {
     "slide_type": "fragment"
    }
   },
   "source": [
    "We still want to use powerful tools on images that can deal with this limitations\n",
    "\n",
    "## Convolution\n",
    "(first apear in D'Alembert's derivation of Taylor's theorem in Recherches sur différents points importants du système du monde, published in 1754)\n",
    "<center><img src=\"https://betterexplained.com/ColorizedMath/content/img/Convolution.png\" width=\"800\" /></center>\n",
    "\n",
    "<center><img src=\"https://upload.wikimedia.org/wikipedia/commons/b/b9/Convolution_of_spiky_function_with_box2.gif\" width=\"800\" /></center>\n",
    "\n",
    "image and gif from [betterexplained.com](http://www.betterexplained.com)\n",
    "\n",
    "\n",
    "\n",
    "<center><img src=\"https://slidetodoc.com/presentation_image/5cc687d9c963ec7522940c1886fb0689/image-2.jpg\" width=\"700\" /></center>\n",
    "\n",
    "just from the algebraic properties, we already gain shift invariant, and homogenues helps us for scale invariance\n"
   ]
  },
  {
   "cell_type": "markdown",
   "metadata": {
    "slideshow": {
     "slide_type": "slide"
    }
   },
   "source": [
    "## Convolutional Layers"
   ]
  },
  {
   "cell_type": "markdown",
   "metadata": {
    "slideshow": {
     "slide_type": "fragment"
    }
   },
   "source": [
    "\n",
    "Mathematically, 1D convolution define as:\n",
    "$$\n",
    "\\left\\{\\vec{g}\\ast\\vec{f}\\right\\}_j = \\sum_{i} g_{j-i} f_{i}.\n",
    "$$\n",
    "\n",
    "\n",
    "2D convolution can be defined as:\n",
    "$$ f[n, m] * g[n,m] = \\sum_{k=-\\infty}^{\\infty}\\sum_{l=-\\infty}^{\\infty} f[k, l]\\cdot g[n-k, m-l] $$\n",
    "\n"
   ]
  },
  {
   "cell_type": "markdown",
   "metadata": {
    "slideshow": {
     "slide_type": "slide"
    }
   },
   "source": [
    "### For Images"
   ]
  },
  {
   "cell_type": "markdown",
   "metadata": {
    "slideshow": {
     "slide_type": "fragment"
    }
   },
   "source": [
    "Given an input tensor $\\vec{x}$ of shape $(C_{\\text{in}}, H_{\\text{in}}, W_{\\text{in}})$,\n",
    "a convolutional layer produces an output tensor $\\vec{y}$ of shape $(C_{\\text{out}}, H_{\\text{out}}, W_{\\text{out}})$,\n",
    "such that:"
   ]
  },
  {
   "cell_type": "markdown",
   "metadata": {
    "slideshow": {
     "slide_type": "fragment"
    }
   },
   "source": [
    "$$\n",
    "\\vec{y}^j = \\sum_{i=1}^{C_\\text{in}} \\vec{w}^{ij}\\ast\\vec{x}^i+b^j;\\ j=1,2,\\dots,C_\\text{out}\n",
    "$$\n",
    "is the $j$-th feature map (or channel) of the output tensor $\\vec{y}$, the $\\ast$ denotes convolution, and $x^i$ is the $i$-th input feature map.\n"
   ]
  },
  {
   "cell_type": "markdown",
   "metadata": {
    "slideshow": {
     "slide_type": "fragment"
    }
   },
   "source": [
    "Convolution is a **linear** and **shift-equivariant** operator."
   ]
  },
  {
   "cell_type": "markdown",
   "metadata": {
    "slideshow": {
     "slide_type": "subslide"
    }
   },
   "source": [
    "Linear means it can be represented simply as a matrix multiplication.\n",
    "\n",
    "Shift-equivariance means that a shifted input will result in an output shifted by the same amount.\n",
    "Due to this property, the matrix representing a convolution is always a **Toeplitz** matrix.\n",
    "\n",
    "<center><img src=\"img/toeplitz.png\" width=\"500\" /></center>"
   ]
  },
  {
   "cell_type": "markdown",
   "metadata": {},
   "source": [
    "### Visual view as a filter base\n",
    "\n",
    "Imagine sliding the filter along the input and computing an inner product at each point.\n",
    "\n",
    "<center><img src=\"https://miro.medium.com/max/1400/1*D6iRfzDkz-sEzyjYoVZ73w.gif\" width=\"700\" /></center>\n",
    "\n",
    "in this example we use 1d image (grayscale) and 1d kernel (or 1 filter) means- the output will be 1d as well. \n",
    "\n",
    "as for RGB image, if we each filer will be 3D since the definistion is to find the information from all channels, and we could have more then one filter:\n",
    "\n",
    "<center><img src=\"img/cnn_filters.png\" width=\"900\" /></center>\n",
    "\n",
    "\n",
    "Each 2D slice of an input and output volume is known as **feature map** or a **channel**."
   ]
  },
  {
   "cell_type": "markdown",
   "metadata": {
    "slideshow": {
     "slide_type": "subslide"
    }
   },
   "source": [
    "### Hyperparameters & dimentions\n",
    "\n",
    "Assume an input volume of shape $(C_{\\mathrm{in}}, H_{\\mathrm{in}}, W_{\\mathrm{in}})$, i.e. channels, height, width.\n",
    "Define,\n",
    "\n",
    "1. Number of kernels, $ K \\geq 1$.\n",
    "2. Spatial extent (size) of each kernel, $F \\geq 1$. \n",
    "3. Stride $S\\geq 1$: spatial distance between consecutive applications of a kernel.\n",
    "4. Padding $P\\geq 0$: Number of \"pixels\" to zero-pad around each input feature map.\n",
    "5. Dilation $D \\geq 1$: Spacing between kernel elements when applying to input."
   ]
  },
  {
   "cell_type": "markdown",
   "metadata": {
    "slideshow": {
     "slide_type": "subslide"
    }
   },
   "source": [
    "In the following animations, **blue** maps are inputs,\n",
    "**green** maps are outputs and\n",
    "the **shaded** area is the kernel with $F=3$.\n",
    "\n",
    "| $P=0,~S=1,~D=1$ | $P=1,~S=1,~D=1$ | $P=1,~S=2,~D=1$ | $P=0,~S=1,~D=2$ |\n",
    "|-----------------|-----------------|-----------------| --------------- |\n",
    "|<img src=\"https://raw.githubusercontent.com/vdumoulin/conv_arithmetic/master/gif/no_padding_no_strides.gif\" width=\"250\"/>| <img src=\"https://raw.githubusercontent.com/vdumoulin/conv_arithmetic/master/gif/same_padding_no_strides.gif\" width=\"250\"/> | <img src=\"https://raw.githubusercontent.com/vdumoulin/conv_arithmetic/master/gif/padding_strides.gif\" width=\"250\"/> | <img src=\"https://raw.githubusercontent.com/vdumoulin/conv_arithmetic/master/gif/dilation.gif\" width=\"250\"/> |\n",
    "\n",
    "\n",
    "We can see that the second combination, $F=3,~P=1,~S=1,~D=1$, leads to identical sizes of input and output feature maps."
   ]
  },
  {
   "cell_type": "markdown",
   "metadata": {
    "slideshow": {
     "slide_type": "subslide"
    }
   },
   "source": [
    "Then, given a set of hyperparameters,\n",
    "\n",
    "- Each convolution kernel will (usually) be a tensor of shape $(C_{\\mathrm{in}}, F, F)$.\n",
    "- The ouput volume dimensions will be:\n",
    "\n",
    "  $$\\begin{align}\n",
    "  H_{\\mathrm{out}} &= \\left\\lfloor \\frac{H_{\\mathrm{in}} + 2P - D\\cdot(F-1) -1}{S} \\right\\rfloor + 1\\\\\n",
    "  W_{\\mathrm{out}} &= \\left\\lfloor \\frac{W_{\\mathrm{in}} + 2P - D\\cdot(F-1) -1}{S} \\right\\rfloor + 1\\\\\n",
    "  C_{\\mathrm{out}} &= K\\\\\n",
    "  \\end{align}$$"
   ]
  },
  {
   "cell_type": "markdown",
   "metadata": {
    "slideshow": {
     "slide_type": "subslide"
    }
   },
   "source": [
    "- The number of parameters in a convolutional layer will be:"
   ]
  },
  {
   "cell_type": "markdown",
   "metadata": {
    "slideshow": {
     "slide_type": "fragment"
    }
   },
   "source": [
    "$$\n",
    "\\underbrace{K}_{\\mathrm{kernels}} \\cdot \\left(\n",
    "\\underbrace{C_{\\mathrm{in}} \\cdot F^2}_{\\mathrm{kernel\\ parameters}} + \\underbrace{1}_{\\mathrm{bias\\ term}}\n",
    "\\right)\n",
    "$$"
   ]
  },
  {
   "cell_type": "markdown",
   "metadata": {
    "slideshow": {
     "slide_type": "fragment"
    }
   },
   "source": [
    "**Example**: Input image is 1000x1000x3, and the first conv layer has $10$ kernels of size 5x5.\n",
    "The number of parameters in the first layer will be: $ 10 \\cdot 3 \\cdot 5^2 + 10 = 760 $.\n"
   ]
  },
  {
   "cell_type": "markdown",
   "metadata": {
    "slideshow": {
     "slide_type": "subslide"
    }
   },
   "source": [
    "### Pytorch `Conv2d` layer example"
   ]
  },
  {
   "cell_type": "code",
   "execution_count": 3,
   "metadata": {
    "scrolled": true,
    "slideshow": {
     "slide_type": "fragment"
    }
   },
   "outputs": [
    {
     "name": "stdout",
     "output_type": "stream",
     "text": [
      "Files already downloaded and verified\n"
     ]
    }
   ],
   "source": [
    "tf = transforms.Compose([transforms.ToTensor()])\n",
    "ds_cifar10 = torchvision.datasets.CIFAR10(data_dir, download=True, train=True, transform=tf)"
   ]
  },
  {
   "cell_type": "code",
   "execution_count": 4,
   "metadata": {
    "slideshow": {
     "slide_type": "subslide"
    }
   },
   "outputs": [
    {
     "name": "stdout",
     "output_type": "stream",
     "text": [
      "x0 shape with batch dim: torch.Size([1, 3, 32, 32])\n"
     ]
    }
   ],
   "source": [
    "# Load first CIFAR10 image\n",
    "x0,y0 = ds_cifar10[0]\n",
    "\n",
    "# add batch dimension\n",
    "x0 = x0.unsqueeze(0)\n",
    "\n",
    "# Note: channels come before spatial extent\n",
    "print('x0 shape with batch dim:', x0.shape)"
   ]
  },
  {
   "cell_type": "code",
   "execution_count": 5,
   "metadata": {
    "slideshow": {
     "slide_type": "fragment"
    }
   },
   "outputs": [],
   "source": [
    "# A function to count the number of parameters in an nn.Module.\n",
    "def num_params(layer):\n",
    "    return sum([p.numel() for p in layer.parameters()])"
   ]
  },
  {
   "cell_type": "markdown",
   "metadata": {
    "slideshow": {
     "slide_type": "subslide"
    }
   },
   "source": [
    "Let's create our first conv layer with pytorch:"
   ]
  },
  {
   "cell_type": "code",
   "execution_count": 6,
   "metadata": {
    "slideshow": {
     "slide_type": "fragment"
    }
   },
   "outputs": [
    {
     "name": "stdout",
     "output_type": "stream",
     "text": [
      "conv1: 280 parameters\n"
     ]
    }
   ],
   "source": [
    "import torch.nn as nn\n",
    "\n",
    "# First conv layer: works on input image volume\n",
    "conv1 = nn.Conv2d(in_channels=x0.shape[1], out_channels=10, padding=1, kernel_size=3, stride=1)\n",
    "\n",
    "print(f'conv1: {num_params(conv1)} parameters')"
   ]
  },
  {
   "cell_type": "markdown",
   "metadata": {
    "slideshow": {
     "slide_type": "fragment"
    }
   },
   "source": [
    "Number of parameters: $10\\cdot(3\\cdot3^2+1)=280$"
   ]
  },
  {
   "cell_type": "code",
   "execution_count": 7,
   "metadata": {
    "scrolled": true,
    "slideshow": {
     "slide_type": "subslide"
    }
   },
   "outputs": [
    {
     "name": "stdout",
     "output_type": "stream",
     "text": [
      "Input image shape:       torch.Size([1, 3, 32, 32])\n",
      "After first conv layer:  torch.Size([1, 10, 32, 32])\n"
     ]
    }
   ],
   "source": [
    "# Apply the layer to an input\n",
    "print(f'{\"Input image shape:\":25s}{x0.shape}')\n",
    "\n",
    "y1 = conv1(x0)\n",
    "print(f'{\"After first conv layer:\":25s}{y1.shape}')"
   ]
  },
  {
   "cell_type": "code",
   "execution_count": 8,
   "metadata": {
    "scrolled": true,
    "slideshow": {
     "slide_type": "fragment"
    }
   },
   "outputs": [
    {
     "name": "stdout",
     "output_type": "stream",
     "text": [
      "conv2: 7220 parameters\n",
      "After second conv layer: torch.Size([1, 20, 14, 14])\n"
     ]
    }
   ],
   "source": [
    "# Second conv layer: works on output volume of first layer\n",
    "conv2 = nn.Conv2d(in_channels=10, out_channels=20, padding=0, kernel_size=6, stride=2)\n",
    "print(f'conv2: {num_params(conv2)} parameters')\n",
    "\n",
    "y2 = conv2(conv1(x0))\n",
    "print(f'{\"After second conv layer:\":25s}{y2.shape}')"
   ]
  },
  {
   "cell_type": "markdown",
   "metadata": {
    "slideshow": {
     "slide_type": "fragment"
    }
   },
   "source": [
    "New spatial extent:\n",
    "\n",
    "$$\n",
    "H_{\\mathrm{out}} = \\left\\lfloor \\frac{H_{\\mathrm{in}} + 2P -F}{S} \\right\\rfloor + 1\n",
    "=\n",
    "\\left\\lfloor \\frac{32 + 2\\cdot 0 -6}{2} \\right\\rfloor + 1\n",
    "=\n",
    "14\n",
    "$$\n"
   ]
  },
  {
   "cell_type": "markdown",
   "metadata": {
    "slideshow": {
     "slide_type": "fragment"
    }
   },
   "source": [
    "**Note**: observe that the width and height dimensions of the input image were never specified!\n",
    "more on the significance of that later."
   ]
  },
  {
   "cell_type": "markdown",
   "metadata": {
    "slideshow": {
     "slide_type": "slide"
    }
   },
   "source": [
    "## Pooling layers"
   ]
  },
  {
   "cell_type": "markdown",
   "metadata": {
    "slideshow": {
     "slide_type": "subslide"
    }
   },
   "source": [
    "In addition to strides, another way to reduce the size of feature maps between the convolutional layers,\n",
    "is by adding **pooling** layers."
   ]
  },
  {
   "cell_type": "markdown",
   "metadata": {
    "slideshow": {
     "slide_type": "subslide"
    }
   },
   "source": [
    "A pooling layer has the following hyperparameters (but **no trainable parameters**):\n",
    "\n",
    "1. Spatial extent (size) of each pooling kernel, $F \\geq 2$. \n",
    "1. Stride $S\\geq 2$: spatial distance between consecutive applications.\n",
    "1. Operation (e.g. max, average, $p$-norm)\n",
    "\n",
    "**Example**: $\\max$-pooling with $F=2,~S=2$ performing a factor-2 downsample:\n",
    "\n",
    "<center><img src=\"img/maxpool.png\" width=\"600\" /></center>"
   ]
  },
  {
   "cell_type": "markdown",
   "metadata": {
    "slideshow": {
     "slide_type": "subslide"
    }
   },
   "source": [
    "### Why pool feature maps after convolutions?"
   ]
  },
  {
   "cell_type": "markdown",
   "metadata": {
    "slideshow": {
     "slide_type": "fragment"
    }
   },
   "source": [
    "- Reduce feature-map size for next layers (sufficient computation, less prun to overfit).\n",
    "\n",
    "- increase the **receptive field** of each layer faster.\n",
    "\n",
    "<center><img src=\"img/receptive_field2.png\" width=\"400\" /></center>"
   ]
  },
  {
   "cell_type": "markdown",
   "metadata": {
    "slideshow": {
     "slide_type": "subslide"
    }
   },
   "source": [
    "- Receptive field size increases more rapidly if we add pooling, strides or dilation.\n",
    "- We want successive conv layers to be affected by increasingly larger parts of the input image.\n",
    "- This allows us to learn a hierarchy of visual features.\n",
    "\n",
    "<center><img src=\"img/feature_hierarchy.png\" width=\"700\" /></center>"
   ]
  },
  {
   "cell_type": "markdown",
   "metadata": {
    "slideshow": {
     "slide_type": "subslide"
    }
   },
   "source": [
    "### PyTorch `Pool2d` layer example"
   ]
  },
  {
   "cell_type": "code",
   "execution_count": 9,
   "metadata": {
    "slideshow": {
     "slide_type": "fragment"
    }
   },
   "outputs": [
    {
     "name": "stdout",
     "output_type": "stream",
     "text": [
      "After second conv layer: torch.Size([1, 20, 14, 14])\n",
      "After max-pool:          torch.Size([1, 20, 7, 7])\n"
     ]
    }
   ],
   "source": [
    "pool = nn.MaxPool2d(kernel_size=2, stride=2)\n",
    "\n",
    "print(f'{\"After second conv layer:\":25s}{conv2(conv1(x0)).shape}')\n",
    "print(f'{\"After max-pool:\":25s}{pool(conv2(conv1(x0))).shape}')"
   ]
  },
  {
   "cell_type": "markdown",
   "metadata": {},
   "source": [
    "### Batch normalization"
   ]
  },
  {
   "cell_type": "markdown",
   "metadata": {},
   "source": [
    " Batch normalization is a technique for improving the speed, performance, and stability of deep neural networks.\n",
    "- The reasons behind its effectiveness remain under discussion\n",
    "- It is used to normalize the input layer by adjusting and scaling the activations.\n",
    "- BN works for all pixels of the feature - channel-wize  ( $\\gamma, \\beta \\in \\mathcal{R}^{C} $).\n",
    "\n",
    "<img src=\"./img/tut_conv_bn_algo.png\" style=\"height:300px\">"
   ]
  },
  {
   "cell_type": "markdown",
   "metadata": {},
   "source": [
    "### Recall about Regularization"
   ]
  },
  {
   "cell_type": "markdown",
   "metadata": {},
   "source": [
    "- In ML class, you learned that in some cases, there is a need to put regulatization on the model weights (Lasso, L2 etc..) to ristrict it from reaching a local undesired minima of the loss function.\n",
    "- In class we talked about the phenomena of over-fitting, that is essentially a model who learned the distribusion of the train set, a little too well.\n",
    "\n",
    "- We also mentioned in class that accuracy might not be the only thing that's important to us when we make a prediction.<br>\n",
    "\n",
    "Now we will present a diffrent kind of regularization that is actually part of the network architecture."
   ]
  },
  {
   "cell_type": "markdown",
   "metadata": {},
   "source": [
    "#### Dropout Regularization"
   ]
  },
  {
   "cell_type": "markdown",
   "metadata": {},
   "source": [
    "* First presented in <a href=\"http://jmlr.org/papers/v15/srivastava14a.html\">Dropout: A Simple Way to Prevent Neural Networks from Overfitting</a>, 2014.\n",
    "* Dropout is a regularization method that approximates training a large number of neural networks with different architectures in parallel.\n",
    "* During training, some number of layer outputs (i.e. neurons) are randomly ignored or “dropped out” with some probability $p$. This has the effect of making the layer look-like and be treated-like a layer with a different number of nodes and connectivity to the prior layer.\n",
    "* Dropout has the effect of making the training process noisy, forcing nodes within a layer to probabilistically take on more or less responsibility for the inputs.\n",
    "* Dropout is activated **only during training** (`model.train()`). In test time, it is turned off (`model.eval()`).\n",
    "\n",
    "Read more - <a href=\"https://machinelearningmastery.com/dropout-for-regularizing-deep-neural-networks/\">A Gentle Introduction to Dropout for Regularizing Deep Neural Networks</a>\n",
    "\n",
    "<img src=\"https://www.oreilly.com/library/view/tensorflow-for-deep/9781491980446/assets/tfdl_0408.png\" style=\"height:300px\">\n",
    "from oreilly.com"
   ]
  },
  {
   "cell_type": "markdown",
   "metadata": {
    "slideshow": {
     "slide_type": "slide"
    }
   },
   "source": [
    "## Network Architecture"
   ]
  },
  {
   "cell_type": "markdown",
   "metadata": {
    "slideshow": {
     "slide_type": "fragment"
    }
   },
   "source": [
    "The basic way to build an architecture of a deep convolutional neural net, is to repeat groups of **conv-relu** layers, optionally sprinkle in some **pooling** in between and top it all off with an **FC-softmax** combination.\n",
    "\n",
    "\n",
    "Why does such a scheme make sense, e.g. for image classification?"
   ]
  },
  {
   "cell_type": "markdown",
   "metadata": {
    "slideshow": {
     "slide_type": "slide"
    }
   },
   "source": [
    "<center><img src=\"img/arch.png\" width=\"700\" /></center>"
   ]
  },
  {
   "cell_type": "markdown",
   "metadata": {
    "slideshow": {
     "slide_type": "subslide"
    }
   },
   "source": [
    "In the above image,\n",
    "\n",
    "- all the **conv** blocks shown are actually **conv-relu** (or some other nonlinearity).\n",
    "- The repeating **conv-conv-...-pool** blocks are learned, non-linear feature extractors: they learn to detect specific features in an image (e.g. lines at different orientations).\n",
    "- The pooling controls the receptive field increase, so that more high-level features can be generated by each conv group (e.g. shapes composed from multiple simple lines).\n",
    "- The **FC-softmax** at the end is just an MLP that uses the extracted features for classification.\n",
    "- Training end-to-end learns the classifier together with the features!"
   ]
  },
  {
   "cell_type": "markdown",
   "metadata": {
    "slideshow": {
     "slide_type": "fragment"
    }
   },
   "source": [
    "- The rightmost architecture is called VGG, and used to be a relevant architecture for ImageNet classification.\n",
    "- Other types of layers, such as normalization layers are usually also added.\n",
    "\n",
    "<center><img src=\"https://www.researchgate.net/profile/Clifford-Yang/publication/325137356/figure/fig2/AS:670371271413777@1536840374533/llustration-of-the-network-architecture-of-VGG-19-model-conv-means-convolution-FC-means.jpg\" width=\"700\" /></center>\n",
    "VGG 19 - 16 conv layers and 3 FC layers"
   ]
  },
  {
   "cell_type": "markdown",
   "metadata": {
    "slideshow": {
     "slide_type": "subslide"
    }
   },
   "source": [
    "There are many other things to consider as part of the architecture:\n",
    "- Size of conv kernels\n",
    "- Number of consecutive convolutions\n",
    "- Use of batch normalization to speed up training\n",
    "- Dropout for improved generalization\n",
    "- Not using FC layers (we'll see later)\n",
    "- Skip connections (we'll see later)\n",
    "\n",
    "All of these could be hyperparameters to cross-validate over!"
   ]
  },
  {
   "cell_type": "markdown",
   "metadata": {
    "slideshow": {
     "slide_type": "subslide"
    }
   },
   "source": [
    "Many different network architectures exist, made famous mainly by repeated improvements on the ImageNet classification challenge since 2012.\n",
    "\n",
    "<center><img src=\"img/net_archs.png\" width=\"1100\" /></center>"
   ]
  },
  {
   "cell_type": "markdown",
   "metadata": {
    "slideshow": {
     "slide_type": "fragment"
    }
   },
   "source": [
    "Notable ImageNet-winning architectures:\n",
    "\n",
    "- AlexNet, 5 layers (2012): Based on LeNet, deeper, with ReLU, trained with GPUs\n",
    "- Inception/GoogLeNet, 22 layers (2014): Multiple (small) kernel sizes at same depth\n",
    "- ResNet, 152 (!) layers (2015): Skip connections\n",
    "\n",
    "[SOTA image classification on imagenet](https://paperswithcode.com/sota/image-classification-on-imagenet)"
   ]
  },
  {
   "cell_type": "markdown",
   "metadata": {
    "slideshow": {
     "slide_type": "subslide"
    }
   },
   "source": [
    "### What filters are deep CNNs learning?"
   ]
  },
  {
   "cell_type": "markdown",
   "metadata": {
    "slideshow": {
     "slide_type": "subslide"
    }
   },
   "source": [
    "CNNs capture hierarchical features, with deeper layers capturing higher-level, class-specific features\n",
    "(Zeiler & Fergus, 2013).\n",
    "\n",
    "<center><img src=\"img/zf1.png\" width=\"1000\"/></center>"
   ]
  },
  {
   "cell_type": "markdown",
   "metadata": {
    "slideshow": {
     "slide_type": "skip"
    }
   },
   "source": [
    "This visualization shows patterns which maximally-activate kernels at various layers of a conv net."
   ]
  },
  {
   "cell_type": "markdown",
   "metadata": {
    "slideshow": {
     "slide_type": "subslide"
    }
   },
   "source": [
    "### PyTorch network architecture example\n",
    "----"
   ]
  },
  {
   "cell_type": "markdown",
   "metadata": {},
   "source": [
    "We're going to preform a classification task on CIFAR10 dataset - 60000 32x32 images, balanced between classes with 5k for train and 1k for test for each class\n",
    "<center><img src=\"https://production-media.paperswithcode.com/datasets/CIFAR-10-0000000431-b71f61c0_U5n3Glr.jpg\" width=\"400\"/></center>\n"
   ]
  },
  {
   "cell_type": "code",
   "execution_count": 26,
   "metadata": {},
   "outputs": [
    {
     "name": "stdout",
     "output_type": "stream",
     "text": [
      "Files already downloaded and verified\n",
      "Files already downloaded and verified\n"
     ]
    }
   ],
   "source": [
    "# define pre-processing steps on the images\n",
    "# also called \"data augementation\" (only done for the train set)\n",
    "\n",
    "transform_train = transforms.Compose([\n",
    "    transforms.RandomCrop(32, padding=4),\n",
    "    transforms.RandomHorizontalFlip(),\n",
    "    transforms.ToTensor(),\n",
    "    transforms.Normalize((0.4914, 0.4822, 0.4465), (0.2023, 0.1994, 0.2010)), #mean and var for imagenet R.G.B channels\n",
    "])\n",
    "\n",
    "# Normalize the test set same as training set without augmentation\n",
    "transform_test = transforms.Compose([\n",
    "    transforms.ToTensor(),\n",
    "    transforms.Normalize((0.4914, 0.4822, 0.4465), (0.2023, 0.1994, 0.2010)),\n",
    "])\n",
    "\n",
    "#tupple of the classes names\n",
    "classes = ('plane', 'car', 'bird', 'cat', 'deer', \n",
    "           'dog', 'frog', 'horse', 'ship', 'truck')\n",
    "# load dataset\n",
    "trainset = torchvision.datasets.CIFAR10(\n",
    "    root='./datasets', train=True, download=True, transform=transform_train)\n",
    "\n",
    "testset = torchvision.datasets.CIFAR10(\n",
    "    root='./datasets', train=False, download=True, transform=transform_test)"
   ]
  },
  {
   "cell_type": "code",
   "execution_count": 27,
   "metadata": {},
   "outputs": [
    {
     "name": "stdout",
     "output_type": "stream",
     "text": [
      "<class 'torch.Tensor'>\n",
      "im shape: torch.Size([3, 32, 32]) and label shape: torch.Size([])\n"
     ]
    },
    {
     "name": "stderr",
     "output_type": "stream",
     "text": [
      "WARNING:matplotlib.image:Clipping input data to the valid range for imshow with RGB data ([0..1] for floats or [0..255] for integers).\n",
      "WARNING:matplotlib.image:Clipping input data to the valid range for imshow with RGB data ([0..1] for floats or [0..255] for integers).\n",
      "WARNING:matplotlib.image:Clipping input data to the valid range for imshow with RGB data ([0..1] for floats or [0..255] for integers).\n",
      "WARNING:matplotlib.image:Clipping input data to the valid range for imshow with RGB data ([0..1] for floats or [0..255] for integers).\n"
     ]
    },
    {
     "data": {
      "image/png": "[encoded data removed]",
      "text/plain": [
       "<Figure size 864x180 with 4 Axes>"
      ]
     },
     "metadata": {},
     "output_type": "display_data"
    }
   ],
   "source": [
    "# let's see some of the images\n",
    "def convert_to_imshow_format(image):\n",
    "    # first convert back to [0,1] range from [-1,1] range\n",
    "    image = image / 2 + 0.5\n",
    "    image = image.numpy()\n",
    "    # convert from CHW to HWC\n",
    "    # from 3x32x32 to 32x32x3\n",
    "    return image.transpose(1,2,0)\n",
    "\n",
    "trainloader = torch.utils.data.DataLoader(trainset, \n",
    "                                          batch_size=4,\n",
    "                                          shuffle=True)\n",
    "dataiter = iter(trainloader)\n",
    "images, labels = dataiter.next()\n",
    "print(type(images[0]))\n",
    "print(f'im shape: {images[0].shape} and label shape: {labels[0].shape}')\n",
    "\n",
    "fig, axes = plt.subplots(1, len(images), figsize=(12,2.5))\n",
    "for idx, image in enumerate(images):\n",
    "    axes[idx].imshow(convert_to_imshow_format(image))\n",
    "    axes[idx].set_title(classes[labels[idx]])\n",
    "    axes[idx].set_xticks([])\n",
    "    axes[idx].set_yticks([])"
   ]
  },
  {
   "cell_type": "code",
   "execution_count": 42,
   "metadata": {},
   "outputs": [],
   "source": [
    "class RU_Cifar_CNN(nn.Module):\n",
    "    \"\"\"Simple CNN for the CIFAR-10 \"\"\"\n",
    "    def __init__(self):\n",
    "        \"\"\"contaion the basic blocks of the network\"\"\"\n",
    "        super(RU_Cifar_CNN, self).__init__()\n",
    "\n",
    "        self.conv_layers = nn.Sequential(\n",
    "\n",
    "            # Conv Layer block 1\n",
    "            nn.Conv2d(in_channels=3, out_channels=32, kernel_size=3, padding=1),\n",
    "            nn.BatchNorm2d(32),\n",
    "            nn.ReLU(inplace=True),\n",
    "            nn.Conv2d(in_channels=32, out_channels=64, kernel_size=3, padding=1),\n",
    "            nn.ReLU(inplace=True),\n",
    "            nn.MaxPool2d(kernel_size=2, stride=2),\n",
    "\n",
    "            # Conv Layer block 2\n",
    "            nn.Conv2d(in_channels=64, out_channels=128, kernel_size=3, padding=1),\n",
    "            nn.BatchNorm2d(128),\n",
    "            nn.ReLU(inplace=True),\n",
    "            nn.Conv2d(in_channels=128, out_channels=128, kernel_size=3, padding=1),\n",
    "            nn.ReLU(inplace=True),\n",
    "            nn.MaxPool2d(kernel_size=2, stride=2),\n",
    "            nn.Dropout2d(p=0.05),\n",
    "\n",
    "            # Conv Layer block 3\n",
    "            nn.Conv2d(in_channels=128, out_channels=256, kernel_size=3, padding=1),\n",
    "            nn.BatchNorm2d(256),\n",
    "            nn.ReLU(inplace=True),\n",
    "            nn.Conv2d(in_channels=256, out_channels=256, kernel_size=3, padding=1),\n",
    "            nn.ReLU(inplace=True),\n",
    "            nn.MaxPool2d(kernel_size=2, stride=2),\n",
    "            \n",
    "            # Conv Layer block 4\n",
    "            nn.Conv2d(in_channels=256, out_channels=256, kernel_size=3, padding=1),\n",
    "            nn.BatchNorm2d(256),\n",
    "            nn.ReLU(inplace=True),\n",
    "            nn.Conv2d(in_channels=256, out_channels=128, kernel_size=3, padding=1),\n",
    "            nn.ReLU(inplace=True),\n",
    "            nn.MaxPool2d(kernel_size=2, stride=2),\n",
    "            \n",
    "        )\n",
    "        \n",
    "        self.fc_layers = nn.Sequential(\n",
    "            nn.Dropout(p=0.1),\n",
    "            nn.Linear(512, 256),\n",
    "            nn.ReLU(inplace=True),\n",
    "            nn.Dropout(p=0.1),\n",
    "            nn.Linear(256, 10)\n",
    "        )\n",
    "\n",
    "\n",
    "    def forward(self, x):\n",
    "        \"\"\"Perform forward.\"\"\"\n",
    "        \n",
    "        # conv layers\n",
    "        x = self.conv_layers(x)\n",
    "        \n",
    "        # flatten\n",
    "        x = x.view(x.size(0), -1)\n",
    "        \n",
    "        # fc layer\n",
    "        x = self.fc_layers(x)\n",
    "\n",
    "        return x"
   ]
  },
  {
   "cell_type": "code",
   "execution_count": 59,
   "metadata": {},
   "outputs": [
    {
     "name": "stdout",
     "output_type": "stream",
     "text": [
      "RU_Cifar_CNN(\n",
      "  (conv_layers): Sequential(\n",
      "    (0): Conv2d(3, 32, kernel_size=(3, 3), stride=(1, 1), padding=(1, 1))\n",
      "    (1): BatchNorm2d(32, eps=1e-05, momentum=0.1, affine=True, track_running_stats=True)\n",
      "    (2): ReLU(inplace=True)\n",
      "    (3): Conv2d(32, 64, kernel_size=(3, 3), stride=(1, 1), padding=(1, 1))\n",
      "    (4): ReLU(inplace=True)\n",
      "    (5): MaxPool2d(kernel_size=2, stride=2, padding=0, dilation=1, ceil_mode=False)\n",
      "    (6): Conv2d(64, 128, kernel_size=(3, 3), stride=(1, 1), padding=(1, 1))\n",
      "    (7): BatchNorm2d(128, eps=1e-05, momentum=0.1, affine=True, track_running_stats=True)\n",
      "    (8): ReLU(inplace=True)\n",
      "    (9): Conv2d(128, 128, kernel_size=(3, 3), stride=(1, 1), padding=(1, 1))\n",
      "    (10): ReLU(inplace=True)\n",
      "    (11): MaxPool2d(kernel_size=2, stride=2, padding=0, dilation=1, ceil_mode=False)\n",
      "    (12): Dropout2d(p=0.05, inplace=False)\n",
      "    (13): Conv2d(128, 256, kernel_size=(3, 3), stride=(1, 1), padding=(1, 1))\n",
      "    (14): BatchNorm2d(256, eps=1e-05, momentum=0.1, affine=True, track_running_stats=True)\n",
      "    (15): ReLU(inplace=True)\n",
      "    (16): Conv2d(256, 256, kernel_size=(3, 3), stride=(1, 1), padding=(1, 1))\n",
      "    (17): ReLU(inplace=True)\n",
      "    (18): MaxPool2d(kernel_size=2, stride=2, padding=0, dilation=1, ceil_mode=False)\n",
      "    (19): Conv2d(256, 256, kernel_size=(3, 3), stride=(1, 1), padding=(1, 1))\n",
      "    (20): BatchNorm2d(256, eps=1e-05, momentum=0.1, affine=True, track_running_stats=True)\n",
      "    (21): ReLU(inplace=True)\n",
      "    (22): Conv2d(256, 256, kernel_size=(3, 3), stride=(1, 1), padding=(1, 1))\n",
      "    (23): ReLU(inplace=True)\n",
      "    (24): MaxPool2d(kernel_size=2, stride=2, padding=0, dilation=1, ceil_mode=False)\n",
      "  )\n",
      "  (fc_layers): Sequential(\n",
      "    (0): Dropout(p=0.1, inplace=False)\n",
      "    (1): Linear(in_features=1024, out_features=512, bias=True)\n",
      "    (2): ReLU(inplace=True)\n",
      "    (3): Dropout(p=0.1, inplace=False)\n",
      "    (4): Linear(in_features=512, out_features=10, bias=True)\n",
      "  )\n",
      ")\n",
      "num trainable weights:  2837514\n",
      "num trainable weights for vanila net:  62006\n"
     ]
    }
   ],
   "source": [
    "RU_CNN = RU_Cifar_CNN()\n",
    "num_trainable_params = sum([p.numel() for p in RU_CNN.parameters() if p.requires_grad])\n",
    "print(RU_CNN)\n",
    "print(\"num trainable weights: \", num_trainable_params)\n"
   ]
  },
  {
   "cell_type": "code",
   "execution_count": 44,
   "metadata": {
    "scrolled": true,
    "slideshow": {
     "slide_type": "subslide"
    }
   },
   "outputs": [
    {
     "name": "stdout",
     "output_type": "stream",
     "text": [
      "x0 shape= torch.Size([1, 3, 32, 32])\n",
      "\n",
      "CNN(x0)= tensor([[ 0.2144,  0.1755,  0.0065,  0.0565,  0.0398,  0.0681,  0.1521, -0.0287,\n",
      "         -0.1250, -0.0934]], grad_fn=<AddmmBackward>)\n",
      "\n",
      "shape= torch.Size([1, 10])\n"
     ]
    }
   ],
   "source": [
    "# Test forward pass\n",
    "print('x0 shape=', x0.shape, end='\\n\\n')\n",
    "print('CNN(x0)=', RU_CNN(x0), end='\\n\\n')\n",
    "print('shape=', RU_CNN(x0).shape)"
   ]
  },
  {
   "cell_type": "markdown",
   "metadata": {},
   "source": [
    "#### Time to train our model\n"
   ]
  },
  {
   "cell_type": "code",
   "execution_count": 56,
   "metadata": {},
   "outputs": [
    {
     "name": "stdout",
     "output_type": "stream",
     "text": [
      "cuda:0\n"
     ]
    }
   ],
   "source": [
    "# hyper-parameters\n",
    "batch_size = 512\n",
    "learning_rate = 1e-4\n",
    "epochs = 4\n",
    "\n",
    "# dataloaders - creating batches and shuffling the data\n",
    "trainloader = torch.utils.data.DataLoader(\n",
    "    trainset, batch_size=batch_size, shuffle=True)#, num_workers=2)\n",
    "testloader = torch.utils.data.DataLoader(\n",
    "    testset, batch_size=batch_size, shuffle=False)#, num_workers=2)\n",
    "\n",
    "# device - cpu or gpu?\n",
    "device = torch.device(\"cuda:0\" if torch.cuda.is_available() else \"cpu\")\n",
    "print(device)\n",
    "# loss function\n",
    "loss_fn = nn.CrossEntropyLoss()\n",
    "\n",
    "# build our model and send it to the device\n",
    "model = RU_CNN.to(device) # no need for parameters as we alredy defined them in the class\n",
    "\n",
    "# optimizer - SGD, Adam, RMSProp...\n",
    "optimizer = torch.optim.Adam(model.parameters(), lr=learning_rate)"
   ]
  },
  {
   "cell_type": "code",
   "execution_count": 46,
   "metadata": {},
   "outputs": [],
   "source": [
    "def evaluate_accuracy(model, dataloader, device):\n",
    "    model.eval() #important\n",
    "    total_correct = 0\n",
    "    total_images = 0\n",
    "    confusion_matrix = np.zeros([10,10], int)\n",
    "    with torch.no_grad():\n",
    "        for data in dataloader:\n",
    "            images, labels = data\n",
    "            images = images.to(device)\n",
    "            labels = labels.to(device)\n",
    "            outputs = model(images)\n",
    "            _, predicted = torch.max(outputs.data, 1)\n",
    "            total_images += labels.size(0)\n",
    "            total_correct += (predicted == labels).sum().item()\n",
    "            for i, l in enumerate(labels):\n",
    "                confusion_matrix[l.item(), predicted[i].item()] += 1 \n",
    "\n",
    "    model_accuracy = total_correct / total_images * 100\n",
    "    return model_accuracy, confusion_matrix"
   ]
  },
  {
   "cell_type": "code",
   "execution_count": 51,
   "metadata": {},
   "outputs": [],
   "source": [
    "# training loop\n",
    "def train_and_eval(model,optimizer,loss_fn, trainloader,testloader,epochs=20):\n",
    "    #TRAIN\n",
    "    for epoch in range(1, epochs + 1):\n",
    "        model.train()  # put in training mode\n",
    "        running_loss = 0.0\n",
    "        epoch_time = time.time()\n",
    "        for i, data in enumerate(trainloader, 0):\n",
    "            # get the inputs\n",
    "            inputs, labels = data\n",
    "            # send them to device\n",
    "            inputs = inputs.to(device)\n",
    "            labels = labels.to(device)\n",
    "\n",
    "            # forward + backward + optimize\n",
    "            outputs = model(inputs)  # forward pass\n",
    "            loss = loss_fn(outputs, labels)  # calculate the loss\n",
    "            # always remember those 3!!\n",
    "            optimizer.zero_grad()  # zero the parameter gradients\n",
    "            loss.backward()  # backpropagation\n",
    "            optimizer.step()  # update parameters\n",
    "\n",
    "            # print statistics\n",
    "            running_loss += loss.data.item()\n",
    "\n",
    "        # Normalizing the loss by the total number of train batches\n",
    "        running_loss /= len(trainloader)\n",
    "\n",
    "        # Calculate training/test set accuracy of the existing model\n",
    "        train_accuracy, _ = evaluate_accuracy(model, trainloader, device)\n",
    "        test_accuracy, _ = evaluate_accuracy(model, testloader, device)\n",
    "        epoch_time = time.time() - epoch_time\n",
    "        \n",
    "        log = \"Epoch: {} | Loss: {:.4f} | Training accuracy: {:.3f}% | Test accuracy: {:.3f}% | \".format(epoch, running_loss, train_accuracy, test_accuracy)\n",
    "        log += \"Epoch Time: {:.2f} secs\".format(epoch_time)\n",
    "        print(log)\n",
    "\n",
    "        # save model - just an example\n",
    "        if epoch % 20 == 0:\n",
    "            print('Saving the model')\n",
    "            state = {'net': model.state_dict(),'epoch': epoch}\n",
    "            if not os.path.isdir('checkpoints'):\n",
    "                os.mkdir('checkpoints')\n",
    "            torch.save(state, './checkpoints/RU_cnn_'+str(epoch)+'.pth')\n",
    "\n",
    "    \n",
    "    #EVALUATE\n",
    "    if os.path.isdir('checkpoints'):        \n",
    "        state = torch.load('./checkpoints/RU_cnn_20.pth', map_location=device)\n",
    "        model.load_state_dict(state['net'])\n",
    "    \n",
    "    test_accuracy, confusion_matrix = evaluate_accuracy(model, testloader, device)\n",
    "    print(\"test accuracy: {:.3f}%\".format(test_accuracy))\n",
    "\n",
    "    # plot confusion matrix\n",
    "    fig, ax = plt.subplots(1,1,figsize=(8,6))\n",
    "    ax.matshow(confusion_matrix, aspect='auto', vmin=0, vmax=1000, cmap=plt.get_cmap('Blues'))\n",
    "    plt.ylabel('Actual Category')\n",
    "    plt.yticks(range(10), classes)\n",
    "    plt.xlabel('Predicted Category')\n",
    "    plt.xticks(range(10), classes)\n",
    "    plt.show()"
   ]
  },
  {
   "cell_type": "code",
   "execution_count": 57,
   "metadata": {},
   "outputs": [
    {
     "name": "stdout",
     "output_type": "stream",
     "text": [
      "Epoch: 1 | Loss: 0.6171 | Training accuracy: 80.066% | Test accuracy: 78.060% | Epoch Time: 114.17 secs\n",
      "Epoch: 2 | Loss: 0.5721 | Training accuracy: 79.822% | Test accuracy: 78.310% | Epoch Time: 114.71 secs\n",
      "Epoch: 3 | Loss: 0.5478 | Training accuracy: 82.126% | Test accuracy: 79.890% | Epoch Time: 112.01 secs\n",
      "test accuracy: 79.890%\n"
     ]
    },
    {
     "data": {
      "image/png": "[encoded data removed]",
      "text/plain": [
       "<Figure size 576x432 with 1 Axes>"
      ]
     },
     "metadata": {
      "needs_background": "light"
     },
     "output_type": "display_data"
    }
   ],
   "source": [
    "train_and_eval(RU_CNN,optimizer,loss_fn, trainloader,testloader,epochs=epochs)"
   ]
  },
  {
   "cell_type": "code",
   "execution_count": 62,
   "metadata": {},
   "outputs": [],
   "source": [
    "import torch.nn.functional as F\n",
    "class Vanila_Net(nn.Module):\n",
    "    def __init__(self):\n",
    "        super(Vanila_Net, self).__init__()\n",
    "        self.conv1 = nn.Conv2d(3, 6, 5)\n",
    "        self.pool = nn.MaxPool2d(2, 2)\n",
    "        self.conv2 = nn.Conv2d(6, 16, 5)\n",
    "        self.fc1 = nn.Linear(16 * 5 * 5, 120)\n",
    "        self.fc2 = nn.Linear(120, 84)\n",
    "        self.fc3 = nn.Linear(84, 10)\n",
    "\n",
    "    def forward(self, x):\n",
    "        x = self.pool(F.relu(self.conv1(x)))\n",
    "        x = self.pool(F.relu(self.conv2(x)))\n",
    "        x = x.view(-1, 16 * 5 * 5)\n",
    "        x = F.relu(self.fc1(x))\n",
    "        x = F.relu(self.fc2(x))\n",
    "        x = self.fc3(x)\n",
    "        return x"
   ]
  },
  {
   "cell_type": "code",
   "execution_count": 63,
   "metadata": {},
   "outputs": [
    {
     "name": "stdout",
     "output_type": "stream",
     "text": [
      "num trainable weights for vanila net:  62006\n",
      "Epoch: 1 | Loss: 2.2911 | Training accuracy: 18.738% | Test accuracy: 19.160% | Epoch Time: 36.76 secs\n",
      "Epoch: 2 | Loss: 2.1601 | Training accuracy: 25.124% | Test accuracy: 27.010% | Epoch Time: 36.85 secs\n",
      "Epoch: 3 | Loss: 1.9884 | Training accuracy: 28.462% | Test accuracy: 31.450% | Epoch Time: 36.76 secs\n",
      "Epoch: 4 | Loss: 1.9132 | Training accuracy: 31.078% | Test accuracy: 33.650% | Epoch Time: 36.82 secs\n",
      "Epoch: 5 | Loss: 1.8556 | Training accuracy: 32.936% | Test accuracy: 35.320% | Epoch Time: 36.66 secs\n",
      "Epoch: 6 | Loss: 1.8094 | Training accuracy: 34.340% | Test accuracy: 37.410% | Epoch Time: 36.82 secs\n",
      "Epoch: 7 | Loss: 1.7781 | Training accuracy: 34.850% | Test accuracy: 37.740% | Epoch Time: 36.72 secs\n",
      "Epoch: 8 | Loss: 1.7538 | Training accuracy: 35.542% | Test accuracy: 38.660% | Epoch Time: 36.71 secs\n",
      "Epoch: 9 | Loss: 1.7329 | Training accuracy: 36.466% | Test accuracy: 39.360% | Epoch Time: 36.81 secs\n",
      "Epoch: 10 | Loss: 1.7165 | Training accuracy: 37.050% | Test accuracy: 39.940% | Epoch Time: 36.83 secs\n",
      "Epoch: 11 | Loss: 1.7008 | Training accuracy: 37.836% | Test accuracy: 40.610% | Epoch Time: 36.70 secs\n",
      "Epoch: 12 | Loss: 1.6891 | Training accuracy: 38.034% | Test accuracy: 41.060% | Epoch Time: 36.80 secs\n",
      "Epoch: 13 | Loss: 1.6769 | Training accuracy: 38.974% | Test accuracy: 41.600% | Epoch Time: 36.76 secs\n",
      "Epoch: 14 | Loss: 1.6634 | Training accuracy: 39.454% | Test accuracy: 42.500% | Epoch Time: 36.73 secs\n",
      "Epoch: 15 | Loss: 1.6504 | Training accuracy: 39.574% | Test accuracy: 42.520% | Epoch Time: 36.85 secs\n",
      "Epoch: 16 | Loss: 1.6387 | Training accuracy: 39.998% | Test accuracy: 43.270% | Epoch Time: 36.75 secs\n",
      "Epoch: 17 | Loss: 1.6296 | Training accuracy: 40.552% | Test accuracy: 44.110% | Epoch Time: 36.80 secs\n",
      "Epoch: 18 | Loss: 1.6189 | Training accuracy: 41.214% | Test accuracy: 44.230% | Epoch Time: 36.68 secs\n",
      "Epoch: 19 | Loss: 1.6112 | Training accuracy: 41.346% | Test accuracy: 44.250% | Epoch Time: 36.85 secs\n",
      "Epoch: 20 | Loss: 1.6013 | Training accuracy: 41.738% | Test accuracy: 45.250% | Epoch Time: 36.83 secs\n",
      "Saving the model\n",
      "test accuracy: 45.250%\n"
     ]
    },
    {
     "data": {
      "image/png": "[encoded data removed]",
      "text/plain": [
       "<Figure size 576x432 with 1 Axes>"
      ]
     },
     "metadata": {
      "needs_background": "light"
     },
     "output_type": "display_data"
    }
   ],
   "source": [
    "vanila = Vanila_Net()\n",
    "vanila_size = sum([p.numel() for p in vanila.parameters() if p.requires_grad])\n",
    "print(\"num trainable weights for vanila net: \", vanila_size)\n",
    "\n",
    "vanila.to(device)\n",
    "optimizer2 = torch.optim.Adam(vanila.parameters(), lr=learning_rate)\n",
    "train_and_eval(vanila,optimizer2,loss_fn, trainloader,testloader,epochs=epochs)"
   ]
  },
  {
   "cell_type": "markdown",
   "metadata": {
    "slideshow": {
     "slide_type": "slide"
    }
   },
   "source": [
    "## Residual Networks"
   ]
  },
  {
   "cell_type": "markdown",
   "metadata": {
    "slideshow": {
     "slide_type": "fragment"
    }
   },
   "source": [
    "We talked about deeper networks to create a deeper receptive field.\n",
    "However, is **deeper** always mean **better**?\n",
    "\n",
    "<center><img src=\"img/deeper_meme.jpeg\"/></center>\n"
   ]
  },
  {
   "cell_type": "markdown",
   "metadata": {
    "slideshow": {
     "slide_type": "subslide"
    }
   },
   "source": [
    "In theory, adding an addition layer as idendity should provide the same accuracy as before"
   ]
  },
  {
   "cell_type": "markdown",
   "metadata": {
    "slideshow": {
     "slide_type": "subslide"
    }
   },
   "source": [
    "In practice we have two major problems:\n",
    "\n",
    "1. vanishing gradients (very long chain of partial derivitivs)\n",
    "2. Large parameter space is hard to optimize"
   ]
  },
  {
   "cell_type": "markdown",
   "metadata": {
    "slideshow": {
     "slide_type": "subslide"
    }
   },
   "source": [
    "<center><img src=\"https://neurohive.io/wp-content/uploads/2019/01/plain-networks-training-results-770x272.png\" width=\"600\"/></center>\n",
    "\n",
    "I.e., even if the same solution (or better) exists, SGD-based optimization can't find it. **Optimization error** increased with depth."
   ]
  },
  {
   "cell_type": "markdown",
   "metadata": {
    "slideshow": {
     "slide_type": "subslide"
    }
   },
   "source": [
    "ResNets attempt to address these issues by building a network architecture composed of convolutional blocks with added **shortcut-connections**:\n",
    "\n",
    "<center><img src=\"img/resnet_block2.png\" width=\"800\"/></center>\n",
    "\n",
    "(Left: basic block; right: bottleneck block).\n",
    "\n",
    "resnet images from [neurohive](https://neurohive.io/en/popular-networks/resnet/)\n",
    "\n",
    "Here the weight layers are `3x3` or `1x1` convolutions followed by batch-normalization.\n",
    "\n",
    "**Why do these shortcut-connections help?**"
   ]
  },
  {
   "cell_type": "markdown",
   "metadata": {
    "slideshow": {
     "slide_type": "subslide"
    }
   },
   "source": [
    "These shortcuts create two key advantages:\n",
    "- Allow gradients to flow freely backwards\n",
    "- Each block only learns the \"residual mapping\" - some delta from the identity mapping (easier to optimize)"
   ]
  },
  {
   "cell_type": "markdown",
   "metadata": {
    "slideshow": {
     "slide_type": "fragment"
    }
   },
   "source": [
    "Implementation with guidance in homework"
   ]
  },
  {
   "cell_type": "markdown",
   "metadata": {},
   "source": [
    "### Further reading\n",
    "\n",
    "We just learned a lot about CNNs and about how good of a tool it is.\n",
    "\n",
    "Now we'll show few challenges that we need to know and try to deal with"
   ]
  },
  {
   "cell_type": "markdown",
   "metadata": {},
   "source": [
    "#### adverserial attacks\n",
    "\n",
    "networks provide a prediction score for all classes and choose the hightes scored one\n",
    "\n",
    "* black box attack: small pertubations or added noise to the input image can change the prediction entierly.\n",
    "* white box attack: with knowledge about the network weaknesses, we can change few neurons or the input to the network in an harmfull way.\n",
    "\n",
    "here are some examples for an attack preformed by software and by printing a sticker:\n",
    "\n",
    "<center><img src=\"https://openai.com/content/images/2017/02/adversarial_img_1.png\" width=\"800\"/></center>\n",
    "<center><img src=\"https://media.kasperskycontenthub.com/wp-content/uploads/sites/43/2021/06/23101450/Adversarial_attacks_02.png\" width=\"800\"/></center>\n",
    "\n",
    "and you can read much more about it in the links provided below"
   ]
  },
  {
   "cell_type": "markdown",
   "metadata": {},
   "source": [
    "#### inherant networks biases"
   ]
  },
  {
   "cell_type": "markdown",
   "metadata": {},
   "source": [
    "Remember the first class? we talked about compass and about fairness.\n",
    "\n",
    "Then we didn't know the Deep learning tools so well, but we talked about fairness that can come from the data.\n",
    "It turns out that CNNs (and DNNs in general) suffer from bias even when the classes are balanced or when we think that we balanced the representation in the data\n",
    "\n",
    "<center><img src=\"img/resnet prediction.PNG\" width=\"800\"/></center>\n",
    "\n",
    "There is a major research in this subject, however there is no simple solution and engneers need to work hard all over to find the cause for models biases.\n",
    "\n",
    " [ConvNets and ImageNet Beyond Accuracy: Understanding Mistakes and Uncovering Biases](https://arxiv.org/abs/1711.11443)"
   ]
  },
  {
   "cell_type": "markdown",
   "metadata": {},
   "source": [
    "### disclaimer\n",
    "\n",
    "this was just few of the active problems with image classification (that shared with other fields).\n",
    "\n",
    "the fields of interpretability of deep learning, as well as deep models uncertainty are floating with hundreds of research papers every year\n",
    "\n",
    "personaly i belive that we have much more to learn and you can dig online and share with your friends via piazza"
   ]
  },
  {
   "cell_type": "markdown",
   "metadata": {
    "slideshow": {
     "slide_type": "subslide"
    }
   },
   "source": [
    "#### Thanks!"
   ]
  },
  {
   "cell_type": "markdown",
   "metadata": {},
   "source": [
    "**Links**\n",
    "\n",
    "**convolutions**<br>\n",
    "[Convolution explained](https://betterexplained.com/articles/intuitive-convolution/)<br>\n",
    "[video of deep nn in torch](https://www.youtube.com/watch?v=_H3aw6wkCv0&ab_channel=PyData)<br>\n",
    "\n",
    "**dropout**<br>\n",
    "[intro to dropout](https://machinelearningmastery.com/dropout-for-regularizing-deep-neural-networks/)\n",
    "\n",
    "**resnet**<br>\n",
    "[resnet short overview](https://neurohive.io/en/popular-networks/resnet/)\n",
    "\n",
    "**adverserial attacks**<br>\n",
    "[How to confuse antimalware neural networks](https://securelist.com/how-to-confuse-antimalware-neural-networks-adversarial-attacks-and-protection/102949/)<br>\n",
    "[Attacking Machine Learning with Adversarial Examples](https://openai.com/blog/adversarial-example-research/)<br>\n",
    "[What Is Adversarial Machine Learning? Attack Methods in 2021](https://viso.ai/deep-learning/adversarial-machine-learning/)<br>\n",
    "[Understanding Adversarial Attacks on Deep Learning Based\n",
    "Medical Image Analysis Systems](https://arxiv.org/pdf/1907.10456.pdf)<br>\n",
    "\n",
    "**bias**<br>\n",
    "[Bias in face recognition](https://towardsdatascience.com/bias-in-machine-learning-how-facial-recognition-models-show-signs-of-racism-sexism-and-ageism-32549e2c972d)<br>"
   ]
  },
  {
   "cell_type": "markdown",
   "metadata": {
    "slideshow": {
     "slide_type": "skip"
    }
   },
   "source": [
    "\n",
    "**Credits**\n",
    "\n",
    "This tutorial was written by [Moshe Kimhi](https://www.linkedin.com/in/moshekimhi/)<br>\n",
    "To re-use, please provide attribution and link to the original.\n",
    "\n",
    "Some of the contant based on [Aviv Rosenberg](https://avivr.net) and [Tal Daniel](https://www.linkedin.com/in/tal-daniel-2b919513b/) tutorials .<br>\n",
    "\n",
    "\n",
    "Some images in this tutorial were taken and/or adapted from the following sources:\n",
    "\n",
    "- Sebastian Raschka, https://sebastianraschka.com/\n",
    "- Deep Learning, Goodfellow, Bengio and Courville, MIT Press, 2016\n",
    "- Fundamentals of Deep Learning, Nikhil Buduma, Oreilly 2017\n",
    "- Deep Learning with Python, Francios Chollet, Manning 2018\n",
    "- Stanford cs231n course notes by Andrej Karpathy\n",
    "- https://github.com/vdumoulin/conv_arithmetic\n",
    "- Long, J., Shelhamer, E., & Darrell, T. (2015). Fully convolutional networks for semantic segmentation. In Proceedings of the IEEE conference on computer vision and pattern recognition.\n",
    "- Canziani, A., Paszke, A., & Culurciello, E. (2016). An analysis of deep neural network models for practical applications.\n",
    "- He, K., Zhang, X., Ren, S., & Sun, J. (2016). Deep residual learning for image recognition. In Proceedings of the IEEE conference on computer vision and pattern recognition.\n",
    "- A Comprehensive Introduction to Different Types of Convolutions in Deep Learning, Kulun Bai"
   ]
  }
 ],
 "metadata": {
  "celltoolbar": "Slideshow",
  "kernelspec": {
   "display_name": "Python 3",
   "language": "python",
   "name": "python3"
  },
  "language_info": {
   "codemirror_mode": {
    "name": "ipython",
    "version": 3
   },
   "file_extension": ".py",
   "mimetype": "text/x-python",
   "name": "python",
   "nbconvert_exporter": "python",
   "pygments_lexer": "ipython3",
   "version": "3.8.6"
  },
  "rise": {
   "scroll": true
  }
 },
 "nbformat": 4,
 "nbformat_minor": 4
}
