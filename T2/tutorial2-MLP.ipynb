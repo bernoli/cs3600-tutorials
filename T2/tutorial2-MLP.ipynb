{
 "cells": [
  {
   "cell_type": "markdown",
   "metadata": {},
   "source": [
    "$$\n",
    "\\newcommand{\\mat}[1]{\\boldsymbol {#1}}\n",
    "\\newcommand{\\mattr}[1]{\\boldsymbol {#1}^\\top}\n",
    "\\newcommand{\\matinv}[1]{\\boldsymbol {#1}^{-1}}\n",
    "\\newcommand{\\vec}[1]{\\boldsymbol {#1}}\n",
    "\\newcommand{\\vectr}[1]{\\boldsymbol {#1}^\\top}\n",
    "\\newcommand{\\rvar}[1]{\\mathrm {#1}}\n",
    "\\newcommand{\\rvec}[1]{\\boldsymbol{\\mathrm{#1}}}\n",
    "\\newcommand{\\diag}{\\mathop{\\mathrm {diag}}}\n",
    "\\newcommand{\\set}[1]{\\mathbb {#1}}\n",
    "\\newcommand{\\norm}[1]{\\left\\lVert#1\\right\\rVert}\n",
    "\\newcommand{\\pderiv}[2]{\\frac{\\partial #1}{\\partial #2}}\n",
    "\\newcommand{\\bb}[1]{\\boldsymbol{#1}}\n",
    "$$"
   ]
  },
  {
   "cell_type": "markdown",
   "metadata": {},
   "source": [
    "<img src=\"../3600.jpg\" width=500 />\n",
    "\n",
    "# Tutorial 2: Multilayer Perceptron"
   ]
  },
  {
   "cell_type": "markdown",
   "metadata": {
    "slideshow": {
     "slide_type": "slide"
    }
   },
   "source": [
    "## Todays Agenda\n",
    "---\n",
    "* recap on linear models\n",
    "* Linear (fully connected) layers\n",
    "* Activation functions\n",
    "* 2-Layer MLP implementation from scratch (last time we use numpy for networks)\n",
    "* N-layer MLP with PyTorch's `nn`, `autograd` and `optim` modules"
   ]
  },
  {
   "cell_type": "markdown",
   "metadata": {},
   "source": [
    "## imports\n",
    "---"
   ]
  },
  {
   "cell_type": "code",
   "execution_count": 199,
   "metadata": {
    "slideshow": {
     "slide_type": "subslide"
    },
    "tags": []
   },
   "outputs": [],
   "source": [
    "# Setup\n",
    "%matplotlib inline\n",
    "import os\n",
    "import numpy as np\n",
    "import sklearn\n",
    "import torch\n",
    "import matplotlib.pyplot as plt\n",
    "from typing import Sequence"
   ]
  },
  {
   "cell_type": "code",
   "execution_count": 200,
   "metadata": {
    "slideshow": {
     "slide_type": "fragment"
    },
    "tags": []
   },
   "outputs": [],
   "source": [
    "plt.rcParams['font.size'] = 20"
   ]
  },
  {
   "cell_type": "markdown",
   "metadata": {
    "slideshow": {
     "slide_type": "slide"
    }
   },
   "source": [
    "## Reminders and recaps\n",
    "---\n",
    "### Perceptrons and linear models"
   ]
  },
  {
   "cell_type": "markdown",
   "metadata": {
    "slideshow": {
     "slide_type": "fragment"
    }
   },
   "source": [
    "The following hypothesis class\n",
    "$$\n",
    "\\mathcal{H} =\n",
    "\\left\\{ h: \\mathcal{X}\\rightarrow\\mathcal{Y}\n",
    "~\\vert~\n",
    "h(\\vec{x}) = \\varphi(\\vectr{w}\\vec{x}+b); \\vec{w}\\in\\set{R}^D,~b\\in\\set{R}\\right\\}\n",
    "$$\n",
    "where $\\varphi(\\cdot)$ is some nonlinear function, is composed of functions representing the **perceptron** model."
   ]
  },
  {
   "cell_type": "markdown",
   "metadata": {
    "slideshow": {
     "slide_type": "subslide"
    }
   },
   "source": [
    "Schematic of a single perceptron, and it's inspiration, a biological neuron.\n",
    "\n",
    "<img src=\"imgs/n2.png\" width=500 /> <img src=\"imgs/neuron.png\" width=500 /> "
   ]
  },
  {
   "cell_type": "markdown",
   "metadata": {
    "slideshow": {
     "slide_type": "fragment"
    }
   },
   "source": [
    "### logistic regression \n",
    "we train a model using the logistic function (aka sigmoid):\n",
    "$$\\varphi(\\vec{z})=\\sigma(\\vec{z})=\\frac{1}{1+\\exp(-\\vec{z})}\\in[0,1].$$"
   ]
  },
  {
   "cell_type": "markdown",
   "metadata": {
    "slideshow": {
     "slide_type": "subslide"
    }
   },
   "source": [
    "**Limitation**: logistic regression is still a linear classifier. In what sense is it linear if we use a non-linear function?\n",
    "\n",
    "$$\\hat{y} = \\sigma(\\vectr{w}\\vec{x}+b)$$"
   ]
  },
  {
   "cell_type": "markdown",
   "metadata": {
    "slideshow": {
     "slide_type": "fragment"
    }
   },
   "source": [
    "**Linear** in the sense that output depends only on a linear combination of weights and inputs.\n",
    "we can also call it- first moment of the input.\n",
    "\n",
    "Decision boundaries are therefore straight lines, or can be transformed to linear via link function."
   ]
  },
  {
   "cell_type": "markdown",
   "metadata": {
    "slideshow": {
     "slide_type": "subslide"
    }
   },
   "source": [
    "If we define $y(\\vec{x})=\\vectr{w}\\vec{x}+b$, then the **decision surface** of the classifier is $y(\\vec{x})=\\text{const}$ (usually zero)."
   ]
  },
  {
   "cell_type": "markdown",
   "metadata": {
    "slideshow": {
     "slide_type": "fragment"
    }
   },
   "source": [
    "<center><img src=\"imgs/linear_discriminant.png\" width=\"700\"/></center>\n",
    "<center><img src=\"imgs/logistic-regression-example.jpg\" width=\"700\"/></center>\n",
    "\n"
   ]
  },
  {
   "cell_type": "markdown",
   "metadata": {
    "slideshow": {
     "slide_type": "subslide"
    }
   },
   "source": [
    "What if our data is not linearly separable? \n",
    "in most cases in the real world, we want to learn a non-linear combination of the input, such as the examples below\n",
    "\n",
    "<center><img src=\"imgs/nonlinear_datasets.png\" width=\"1200\"/></center>\n",
    "\n",
    "or even something more abstract, like a corrolation between 2 or more inputs"
   ]
  },
  {
   "cell_type": "markdown",
   "metadata": {
    "slideshow": {
     "slide_type": "subslide"
    }
   },
   "source": [
    "Can we still use e.g. logistic regression?"
   ]
  },
  {
   "cell_type": "markdown",
   "metadata": {
    "slideshow": {
     "slide_type": "subslide"
    }
   },
   "source": [
    "What if we first apply a **fixed** nonlinear transformation to the data?\n",
    "\n",
    "For some $\\psi: \\set{R}^d \\rightarrow \\set{R}^D$, what does the following classifier do?\n",
    "\n",
    "$$\\hat{y} = \\varphi(\\vectr{w}\\psi(\\vec{x})+b).$$"
   ]
  },
  {
   "cell_type": "markdown",
   "metadata": {
    "slideshow": {
     "slide_type": "fragment"
    }
   },
   "source": [
    "Now we can get nonlinear decision boundaries with respect to $\\vec{x}$.\n",
    "\n",
    "But how can we choose a nonlinear transformation?  \n",
    "in **Machine Learning** you learn to look at the data and manually craft those kernel functions.\n",
    "\n",
    "* what if the input is from high dimention and we can't look at it?\n",
    "* waht if we look at some graphs of diffrent inputs, but we're not sure witch ones are impotant? (x1 vs x2? x3 corrolation with x5?)\n",
    "* what do we do when we look but we don't know how to model the relation? we choose a set of functions and do hypothesis testing? \n",
    "* what if we want to **learn** the non-linearity?"
   ]
  },
  {
   "cell_type": "markdown",
   "metadata": {
    "slideshow": {
     "slide_type": "slide"
    }
   },
   "source": [
    "## Multilayer Perceptron (MLP)\n",
    "---"
   ]
  },
  {
   "cell_type": "markdown",
   "metadata": {
    "slideshow": {
     "slide_type": "fragment"
    }
   },
   "source": [
    "### Model\n",
    "\n",
    "<center><img src=\"imgs/mlp.png\" width=1000 /></center>\n",
    "\n",
    "Composed of $L$ **layers**, each layer $l$ with $n_l$ **perceptron** (\"neuron\") units."
   ]
  },
  {
   "cell_type": "markdown",
   "metadata": {
    "slideshow": {
     "slide_type": "subslide"
    }
   },
   "source": [
    "Each layer $l$ operates on the output of the previous layer ($\\vec{y}_{l-1}$) and calculates:\n",
    "\n",
    "$$\n",
    "\\vec{y}_l = \\varphi\\left( \\mat{W}_l \\vec{y}_{l-1} + \\vec{b}_l \\right),~\n",
    "\\mat{W}_l\\in\\set{R}^{n_{l}\\times n_{l-1}},~ \\vec{b}_l\\in\\set{R}^{n_l},~ l \\in \\{1,2,\\dots,L\\}.\n",
    "$$\n",
    "\n",
    "- Note that both input and output are **vectors**. We can think of the above equation as describing a layer of **multiple perceptrons**.\n",
    "- We'll henceforth refer to such layers as **fully-connected** or FC layers.\n",
    "- The first layer accepts the input of the model, i.e. $\\vec{y}_0=\\vec{x}\\in\\set{R}^d$.\n",
    "- The last layer, $L$, is the output layer, so $y_L$ is the output of the model.\n",
    "- The layers $1, 2, \\dots, L-1$ are called hidden layers."
   ]
  },
  {
   "cell_type": "markdown",
   "metadata": {
    "slideshow": {
     "slide_type": "subslide"
    }
   },
   "source": [
    "How powerful is an MLP model? I.e. which functions can it approximate?"
   ]
  },
  {
   "cell_type": "markdown",
   "metadata": {
    "slideshow": {
     "slide_type": "subslide"
    }
   },
   "source": [
    "**Universal approximator theorem**\n",
    "\n",
    "Given enough parameters, an MLP with $L>1$ and any non-linear activation function, can approximate any continuous function up to any specified precision (Cybenko, 1989).\n",
    "\n",
    "The MLP is therefore a **potent hypothesis class** (recall approximation error).\n",
    "\n",
    "See [here](http://neuralnetworksanddeeplearning.com/chap4.html) for an intuitive explanation of the UAT.\n",
    "\n",
    "Personally, i prefer to look at it as aproximation we do using non-linearities.\n",
    "sort of in the notion of Taylor series expantion:\n",
    "<center><img src=\"imgs/taylor.png\" width=\"600\"/></center>\n",
    "\n",
    "in taylor expantion we use all moments, but the idea remain the same, aproximation of a function when reducing the error."
   ]
  },
  {
   "cell_type": "markdown",
   "metadata": {
    "slideshow": {
     "slide_type": "subslide"
    }
   },
   "source": [
    "Given an input sample $\\vec{x}^i$, the computed function of an $L$-layer MLP is:\n",
    "$$\n",
    "\\vec{y}_L^i= \\varphi \\left(\n",
    "\\mat{W}_L \\varphi \\left( \\cdots\n",
    "\\varphi \\left( \\mat{W}_1 \\vec{x}^i + \\vec{b}_1 \\right)\n",
    "\\cdots \\right)\n",
    "+ \\vec{b}_L \\right)\n",
    "$$\n",
    "\n",
    "This expression is fully differentiable w.r.t. parameters using the **Chain Rule**.\n",
    "\n",
    "And notice that $\\vec{y}_L^i = \\varphi(\\mat{W}_L \\vec{y}_{L-1}^i + \\vec{b}_L)$ is just the linear model we started with.\n",
    "\n",
    "So, intuitively, we can think of $\\vec{y}_{L-1}$ as **learned** non-linear features of the input! In other words, $\\vec{y}_{L-1} = \\psi_{\\vec{\\Theta}}(\\vec{x})$."
   ]
  },
  {
   "cell_type": "markdown",
   "metadata": {
    "slideshow": {
     "slide_type": "subslide"
    }
   },
   "source": [
    "Since an MLP it has a non-linear dependency on it's inputs, through a learned transformation, non-linear decision boundaries are possible."
   ]
  },
  {
   "cell_type": "markdown",
   "metadata": {
    "slideshow": {
     "slide_type": "subslide"
    }
   },
   "source": [
    "Cool visualization of the effect of MLP layers: http://playground.tensorflow.org/"
   ]
  },
  {
   "cell_type": "markdown",
   "metadata": {
    "slideshow": {
     "slide_type": "slide"
    }
   },
   "source": [
    "## Activation functions\n",
    "---"
   ]
  },
  {
   "cell_type": "markdown",
   "metadata": {
    "slideshow": {
     "slide_type": "subslide"
    }
   },
   "source": [
    "An **activation function** is the non-linear elementwise function $\\varphi(\\cdot)$ which operates on the affine part of the perceptron model.\n",
    "\n",
    "Why do we even need non-linearities in the first place? Isn't the depth enough?"
   ]
  },
  {
   "cell_type": "markdown",
   "metadata": {
    "slideshow": {
     "slide_type": "fragment"
    }
   },
   "source": [
    "Without them, the MLP model would be equivalent to a single affine transform."
   ]
  },
  {
   "cell_type": "markdown",
   "metadata": {
    "slideshow": {
     "slide_type": "subslide"
    }
   },
   "source": [
    "Common choices for the activation functions are:\n",
    "\n",
    "- The logistic function (sigmoid)\n",
    "    $$ \\varphi(t) = \\sigma(t) = \\frac{1}{1+e^{-t}} \\in  [0,1] $$\n",
    "- The hyperbolic tangent (a shifted and scaled sigmoid)\n",
    "    $$ \\varphi(t) = \\mathrm{tanh}(t) = \\frac{e^t - e^{-t}}{e^t +e^{-t}} \\in [-1,1]$$"
   ]
  },
  {
   "cell_type": "markdown",
   "metadata": {
    "slideshow": {
     "slide_type": "fragment"
    }
   },
   "source": [
    "- ReLU, rectified linear unit\n",
    "    $$ \\varphi(t) = \\max\\{t,0\\} $$\n",
    "Note that ReLU is not strictly differentiable. However, sub-gradients exist. We will define its gradient as:\n",
    "    $$ \\pderiv{\\varphi}{t} = \\begin{cases} 1, & t\\geq0 \\\\ 0, & t<0 \\end{cases} $$"
   ]
  },
  {
   "cell_type": "code",
   "execution_count": 201,
   "metadata": {},
   "outputs": [],
   "source": [
    "# activation functions\n",
    "def sigmoid(z, deriv=False):\n",
    "    output = 1 / (1 + np.exp(-1.0 * z))\n",
    "    if deriv:\n",
    "        return output * (1 - output)\n",
    "    return output\n",
    "\n",
    "def tanh(z, deriv=False):\n",
    "    output = np.tanh(z)\n",
    "    if deriv:\n",
    "        return 1 - np.square(output)\n",
    "    return output\n",
    "\n",
    "def relu(z, deriv=False):\n",
    "    output = z if z > 0 else 0\n",
    "    if deriv:\n",
    "        return 1 if z > 0 else 0\n",
    "    return output"
   ]
  },
  {
   "cell_type": "code",
   "execution_count": 202,
   "metadata": {},
   "outputs": [],
   "source": [
    "def plot_activations():\n",
    "    x = np.linspace(-5, 5, 1000)\n",
    "    y_sig = sigmoid(x)\n",
    "    y_tanh = tanh(x)\n",
    "    y_relu = list(map(lambda z: relu(z), x))\n",
    "    fig = plt.figure(figsize=(8, 5))\n",
    "    ax1 = fig.add_subplot(2,1,1)\n",
    "    ax1.plot(x, y_sig, label='sigmoid')\n",
    "    ax1.plot(x, y_tanh, label='tanh')\n",
    "    ax1.plot(x, y_relu, label='relu')\n",
    "    ax1.grid()\n",
    "    ax1.legend()\n",
    "    ax1.set_xlabel('x')\n",
    "    ax1.set_ylabel('y')\n",
    "    ax1.set_ylim([-2, 2])\n",
    "    ax1.set_title('Activation Functions')\n",
    "\n",
    "    y_sig_derv = sigmoid(x, deriv=True)\n",
    "    y_tanh_derv = tanh(x, deriv=True)\n",
    "    y_relu_derv = list(map(lambda z: relu(z, deriv=True), x))\n",
    "    ax2 = fig.add_subplot(2,1,2)\n",
    "    ax2.plot(x, y_sig_derv, label='sigmoid')\n",
    "    ax2.plot(x, y_tanh_derv, label='tanh')\n",
    "    ax2.plot(x, y_relu_derv, label='relu')\n",
    "    ax2.grid()\n",
    "    ax2.legend()\n",
    "    ax2.set_xlabel('x')\n",
    "    ax2.set_ylabel('y')\n",
    "    # ax2.set_ylim([-2, 2])\n",
    "    ax2.set_title('Activation Functions Derivatives')\n",
    "    plt.tight_layout()"
   ]
  },
  {
   "cell_type": "code",
   "execution_count": 203,
   "metadata": {},
   "outputs": [
    {
     "data": {
      "image/png": "[encoded data removed]",
      "text/plain": [
       "<Figure size 576x360 with 2 Axes>"
      ]
     },
     "metadata": {
      "needs_background": "light"
     },
     "output_type": "display_data"
    }
   ],
   "source": [
    "plot_activations()"
   ]
  },
  {
   "cell_type": "markdown",
   "metadata": {
    "slideshow": {
     "slide_type": "subslide"
    }
   },
   "source": [
    "Some reasons people cite for using ReLU are:\n",
    "\n",
    "- Does not suffer from vanishing gradient when $x$ is far from zero (though gradient can still be zero).\n",
    "\n",
    "- Much faster to compute than sigmoid and tanh.\n",
    "\n",
    "- Promotes sparse weight vectors: \"dead neurons\" arguably cause sparsity in the next layer."
   ]
  },
  {
   "cell_type": "markdown",
   "metadata": {
    "slideshow": {
     "slide_type": "slide"
    }
   },
   "source": [
    "## Two-layer MLP implementation\n",
    "---"
   ]
  },
  {
   "cell_type": "markdown",
   "metadata": {
    "slideshow": {
     "slide_type": "fragment"
    }
   },
   "source": [
    "Let's solve a simple **regression** problem with a 2-layer MLP (one hidden layer, one output layer)."
   ]
  },
  {
   "cell_type": "markdown",
   "metadata": {
    "slideshow": {
     "slide_type": "slide"
    }
   },
   "source": [
    "We're trying to learn a continuous and perhaps non-deterministic function $y=f(\\vec{x})$.\n",
    "\n",
    "- Domain: $\\vec{x}^i \\in \\set{R}^{D_{\\text{in}}}$\n",
    "\n",
    "- Target: $y^i \\in \\set{R}^{D_{\\text{out}}}$\n",
    "\n",
    "- Model: $\\hat{y} =\\mat{W}_2~ \\varphi(\\mat{W}_1 \\vec{x}+ \\vec{b}_1) + \\vec{b}_2$<br>\n",
    "  i.e. a 2-layer MLP, where:\n",
    "    - $\\vec{x}\\in\\set{R}^{D_{\\text{in}}}$ sample (feature vector)\n",
    "    - $\\mat{W}_1\\in\\set{R}^{H\\times D_{\\text{in}}},\\ \\vec{b}_1\\in\\set{R}^{H}$\n",
    "    - $\\mat{W}_2\\in\\set{R}^{D_{\\text{out}}\\times H},\\ \\vec{b}_2\\in\\set{R}^{D_{\\text{out}}}$\n",
    "    - $\\varphi(\\cdot) = \\mathrm{ReLU}(\\cdot) = \\max\\{\\cdot,0\\}$\n",
    "    - $H$ is the hidden dimension\n",
    "    - We'll set $D_{\\text{out}}=1$ so output is a scalar\n",
    "   "
   ]
  },
  {
   "cell_type": "markdown",
   "metadata": {
    "slideshow": {
     "slide_type": "slide"
    }
   },
   "source": [
    " \n",
    "- MSE loss with L2 regularization:\n",
    "    $$\n",
    "    \\begin{align}\n",
    "    \\ell(\\vec{y},\\vec{\\hat y}) &= \\frac{1}{2}\\norm{\\vec{\\hat y} - \\vec{y}}^2 \\\\\n",
    "    L_{\\mathcal{S}} &= \\frac{1}{N}\\sum_{i=1}^{N}\\ell(\\vec{y},\\vec{\\hat y}) + \\frac{\\lambda}{2}\\left(\\norm{\\mat{W}_1}_F^2 + \\norm{\\mat{W}_2}_F^2 \\right)\n",
    "    \\end{align}\n",
    "    $$\n",
    "- Optimization scheme: Vanilla SGD"
   ]
  },
  {
   "cell_type": "markdown",
   "metadata": {
    "slideshow": {
     "slide_type": "slide"
    }
   },
   "source": [
    "### Computing the loss gradients with backpropagation"
   ]
  },
  {
   "cell_type": "markdown",
   "metadata": {
    "slideshow": {
     "slide_type": "fragment"
    }
   },
   "source": [
    "Let's write our model as \n",
    "$$\n",
    "\\hat{y} =\\mat{W}_2~ \\underbrace{\\mathrm{relu}(\\overbrace{\\mat{W}_1 \\vec{x}+ \\vec{b}_1}^{\\vec{z}})}_{\\vec{a}} + \\vec{b}_2,\n",
    "$$\n",
    "\n",
    "and manually derive the gradient of the point-wise loss $\\ell(\\vec{y},\\vec{\\hat y})$ using the **chain rule**.\n",
    "Remember that to use SGD, we need the gradient of the loss w.r.t. our parameter tensors."
   ]
  },
  {
   "cell_type": "markdown",
   "metadata": {
    "slideshow": {
     "slide_type": "subslide"
    }
   },
   "source": [
    "$$\n",
    "\\begin{align}\n",
    "&\\pderiv{\\ell}{\\vec{\\hat y}}=2\\cdot\\frac{1}{2}(\\vec{\\hat y}-\\vec{y}) = (\\vec{\\hat y}-\\vec{y})\\\\\n",
    "(\\ast)~~&\\pderiv{\\ell}{\\mat{W}_2}= \\pderiv{\\ell}{\\vec{\\hat y}}\\pderiv{\\vec{\\hat y}}{\\mat{W}_2}\n",
    "=(\\vec{\\hat y}-\\vec{y})\\vectr{a}\n",
    "\\end{align}\n",
    "$$"
   ]
  },
  {
   "cell_type": "markdown",
   "metadata": {
    "slideshow": {
     "slide_type": "subslide"
    }
   },
   "source": [
    "How do we continue into the nonlinearity? Recall that we defined\n",
    "\n",
    "$$ \\pderiv{\\mathrm{relu}(x)}{x} = \\begin{cases} 1, & x\\geq0 \\\\ 0, & x<0 \\end{cases} $$\n",
    "\n",
    "and that we apply the non-linearity elementwise on input tensors.\n",
    "\n",
    "Also remember that the gradient of a vector w.r.t. another vector is the Jacobian, a matrix of mixed derivatives:\n",
    "$\\pderiv{a_i}{z_j}$.\n",
    "\n",
    "We have $\\vec{a}=\\mathrm{relu}(\\vec{z})$. Thus,\n",
    "\n",
    "$$\n",
    "\\pderiv{\\vec{a}}{\\vec{z}}=\\mathrm{diag}(\\mathbb{1}[\\vec{z}>0]).\n",
    "$$\n"
   ]
  },
  {
   "cell_type": "markdown",
   "metadata": {
    "slideshow": {
     "slide_type": "subslide"
    }
   },
   "source": [
    "And so,\n",
    "$$\n",
    "\\begin{align}\n",
    "&\\pderiv{\\ell}{\\vec{a}}=\\pderiv{\\vec{\\hat y}}{\\vec{a}}\\pderiv{\\ell}{\\vec{\\hat y}}\n",
    "=\\mattr{W}_2(\\vec{\\hat y}-\\vec{y})\\\\\n",
    "&\\pderiv{\\ell}{\\vec{z}}=\\pderiv{\\vec{a}}{\\vec{z}}\\pderiv{\\ell}{\\vec{a}}\n",
    "=\\mathrm{diag}(\\mathbb{1}[\\vec{z}>0])\\mattr{W}_2(\\vec{\\hat y}-\\vec{y})\\\\\n",
    "(\\ast)~~&\\pderiv{\\ell}{\\mat{W}_1}=\\pderiv{\\ell}{\\vec{z}}\\pderiv{\\vec{z}}{\\mat{W}_1}\n",
    "=\\mathrm{diag}(\\mathbb{1}[\\vec{z}>0])\\mattr{W}_2(\\vec{\\hat y}-\\vec{y})\\vectr{x}\\\\\n",
    "\\end{align}\n",
    "$$"
   ]
  },
  {
   "cell_type": "markdown",
   "metadata": {
    "slideshow": {
     "slide_type": "subslide"
    }
   },
   "source": [
    "For the biases, we can easily see that:\n",
    "$$\n",
    "\\begin{align}\n",
    "(\\ast)~~&\\pderiv{\\ell}{\\vec{b}_2}=\\pderiv{\\vec{\\hat y}}{\\vec{b}_2}\\pderiv{\\ell}{\\vec{\\hat y}}\n",
    "=I_{D_{\\text{out}}} \\pderiv{\\ell}{\\vec{\\hat y}} \\\\\n",
    "(\\ast)~~&\\pderiv{\\ell}{\\vec{b}_1}=\\pderiv{\\vec{z}}{\\vec{b}_1}\\pderiv{\\ell}{\\vec{z}}\n",
    "=I_{H}\\pderiv{\\ell}{\\vec{z}}\\\\\n",
    "\\end{align}\n",
    "$$"
   ]
  },
  {
   "cell_type": "markdown",
   "metadata": {
    "slideshow": {
     "slide_type": "subslide"
    }
   },
   "source": [
    "The final gradients for weight update, including regularization will be\n",
    "\n",
    "$$\n",
    "\\nabla_{\\mat{W}_j}L_{\\mathcal{S}}=\\frac{1}{N}\\sum_{i=1}^{N} \\pderiv{\\ell_i}{\\mat{W}_j} + \\lambda\\mat{W}_j, \\ j=1,2.\n",
    "$$"
   ]
  },
  {
   "cell_type": "markdown",
   "metadata": {
    "slideshow": {
     "slide_type": "subslide"
    }
   },
   "source": [
    "Let's implement it from scratch using just `numpy`."
   ]
  },
  {
   "cell_type": "code",
   "execution_count": 204,
   "metadata": {
    "slideshow": {
     "slide_type": "subslide"
    }
   },
   "outputs": [],
   "source": [
    "# A simple MLP with one hidden layer\n",
    "\n",
    "# N: batch size\n",
    "# D_in: number of features\n",
    "N, D_in =  64, 10\n",
    "# H: hidden-layer\n",
    "# D_out: output dimension\n",
    "H, D_out =  100, 1\n",
    "\n",
    "# Random input data\n",
    "X = np.random.randn(N, D_in)\n",
    "y = np.random.randn(N, D_out)\n",
    "\n",
    "# Model weights and biases\n",
    "wstd = 0.01\n",
    "W1 = np.random.randn(H, D_in)*wstd\n",
    "b1 = np.random.randn(H,)*wstd + 0.1\n",
    "W2 = np.random.randn(D_out, H)*wstd\n",
    "b2 = np.random.randn(D_out,)*wstd + 0.1\n",
    "\n",
    "reg_lambda = 0.5\n",
    "learning_rate = 1e-3"
   ]
  },
  {
   "cell_type": "code",
   "execution_count": 205,
   "metadata": {
    "scrolled": true,
    "slideshow": {
     "slide_type": "subslide"
    }
   },
   "outputs": [
    {
     "name": "stdout",
     "output_type": "stream",
     "text": [
      "1 2 3 4 5 6 7 8 9 10 11 12 13 14 15 16 17 18 19 20 21 22 23 24 25 26 27 28 29 30 31 32 33 34 35 36 37 38 39 40 41 42 43 44 45 46 47 48 49 50 51 52 53 54 55 56 57 58 59 60 61 62 63 64 65 66 67 68 69 70 71 72 73 74 75 76 77 78 79 80 81 82 83 84 85 86 87 88 89 90 91 92 93 94 95 96 97 98 99 100 101 102 103 104 105 106 107 108 109 110 111 112 113 114 115 116 117 118 119 120 121 122 123 124 125 126 127 128 129 130 131 132 133 134 135 136 137 138 139 140 141 142 143 144 145 146 147 148 149 150 151 152 153 154 155 156 157 158 159 160 161 162 163 164 165 166 167 168 169 170 171 172 173 174 175 176 177 178 179 180 181 182 183 184 185 186 187 188 189 190 191 192 193 194 195 196 197 198 199 200 201 202 203 204 205 206 207 208 209 210 211 212 213 214 215 216 217 218 219 220 221 222 223 224 225 226 227 228 229 230 231 232 233 234 235 236 237 238 239 240 241 242 243 244 245 246 247 248 249 250 "
     ]
    }
   ],
   "source": [
    "losses = []\n",
    "for epoch in range(250):\n",
    "    # Forward pass, hidden layer: A = relu(X W1 + b1), Shape: (N, H)\n",
    "    Z = X.dot(W1.T) + b1\n",
    "    A = np.maximum(Z, 0)\n",
    "    \n",
    "    # Forward pass, output layer: Y_hat = A W2 + b2, Shape: (N, D_out)\n",
    "    Y_hat = A.dot(W2.T) + b2\n",
    "    \n",
    "    # Loss calculation (MSE)\n",
    "    loss = np.mean((Y_hat - y) ** 2); losses.append(loss) # (N, D_out)\n",
    "    \n",
    "    # Backward pass:  Output layer\n",
    "    d_Y_hat = (1./N) * (Y_hat - y)     # (N, D_out)\n",
    "    d_W2 = d_Y_hat.T.dot(A)            # (D_out, H)\n",
    "    d_A = d_Y_hat.dot(W2)              # (N, H)\n",
    "    d_b2 = np.sum(d_Y_hat, axis=0)     # (D_out,)\n",
    "    \n",
    "    # Backward pass: Hidden layer\n",
    "    d_Z = d_A * np.array(Z > 0, dtype=float)  # (N, H)\n",
    "    d_W1 = d_Z.T.dot(X)                          # (H, D_in)\n",
    "    d_b1 = np.sum(d_Z, axis=0)                   # (H,)\n",
    "    \n",
    "    # Backward pass: Regularization term\n",
    "    d_W2 += reg_lambda * W2\n",
    "    d_W1 += reg_lambda * W1\n",
    "    \n",
    "    # Gradient descent step\n",
    "    W2 -= d_W2 * learning_rate; b2 -= d_b2 * learning_rate\n",
    "    W1 -= d_W1 * learning_rate; b1 -= d_b1 * learning_rate\n",
    "    print(epoch+1, end=' ')"
   ]
  },
  {
   "cell_type": "code",
   "execution_count": 206,
   "metadata": {
    "slideshow": {
     "slide_type": "subslide"
    }
   },
   "outputs": [
    {
     "data": {
      "image/png": "[encoded data removed]",
      "text/plain": [
       "<Figure size 720x360 with 1 Axes>"
      ]
     },
     "metadata": {
      "needs_background": "light"
     },
     "output_type": "display_data"
    }
   ],
   "source": [
    "# Plot losses\n",
    "_, ax = plt.subplots(figsize=(10,5))\n",
    "ax.plot(losses)\n",
    "ax.set_ylabel('MSE loss'); ax.set_xlabel('Epoch');"
   ]
  },
  {
   "cell_type": "markdown",
   "metadata": {
    "slideshow": {
     "slide_type": "subslide"
    }
   },
   "source": [
    "Note that this implementation is not ideal, as it's:"
   ]
  },
  {
   "cell_type": "markdown",
   "metadata": {
    "slideshow": {
     "slide_type": "fragment"
    }
   },
   "source": [
    "- Non modular (hard to switch components)\n",
    "- Hard to extend (e.g. to add layers)\n",
    "- Error prone (hard-coded manual calculations)"
   ]
  },
  {
   "cell_type": "markdown",
   "metadata": {
    "slideshow": {
     "slide_type": "fragment"
    }
   },
   "source": [
    "And now, we'll see how to address these issues using PyTorch's API."
   ]
  },
  {
   "cell_type": "markdown",
   "metadata": {
    "slideshow": {
     "slide_type": "slide"
    }
   },
   "source": [
    "##  N-Layer MLP using PyTorch\n",
    "---"
   ]
  },
  {
   "cell_type": "markdown",
   "metadata": {
    "slideshow": {
     "slide_type": "fragment"
    }
   },
   "source": [
    "Let's create all our usual components:\n",
    "- Dataset\n",
    "- Model\n",
    "- Loss function\n",
    "- Optimizer\n",
    "\n",
    "But this time we'll create a modular implementation where each of these components is separate and can be changed independently of the others."
   ]
  },
  {
   "cell_type": "markdown",
   "metadata": {
    "slideshow": {
     "slide_type": "subslide"
    }
   },
   "source": [
    "### Dataset"
   ]
  },
  {
   "cell_type": "markdown",
   "metadata": {
    "slideshow": {
     "slide_type": "fragment"
    }
   },
   "source": [
    "As in the first tutorial we're goint to use  MNIST database of handwritten digits."
   ]
  },
  {
   "cell_type": "code",
   "execution_count": 207,
   "metadata": {
    "slideshow": {
     "slide_type": "subslide"
    }
   },
   "outputs": [],
   "source": [
    "import torch\n",
    "import torch.utils.data\n",
    "import torchvision #for dataset\n",
    "import torchvision.transforms as tv_transforms \n",
    "\n",
    "root_dir = os.path.expanduser('~/.pytorch-datasets/')"
   ]
  },
  {
   "cell_type": "code",
   "execution_count": 208,
   "metadata": {
    "slideshow": {
     "slide_type": "subslide"
    }
   },
   "outputs": [
    {
     "name": "stdout",
     "output_type": "stream",
     "text": [
      "x0: torch.Size([1, 28, 28]), y0: 5\n"
     ]
    }
   ],
   "source": [
    "tf_tensor = tv_transforms.ToTensor()\n",
    "\n",
    "batch_size = 512\n",
    "train_size = batch_size * 10\n",
    "test_size = batch_size * 2\n",
    "\n",
    "# Datasets and loaders\n",
    "ds_train = torchvision.datasets.MNIST(root=root_dir, download=True, train=True, transform=tf_tensor)\n",
    "ds_test =  torchvision.datasets.MNIST(root=root_dir, download=True, train=False, transform=tf_tensor)\n",
    "\n",
    "\n",
    "dl_train = torch.utils.data.DataLoader(ds_train, batch_size,\n",
    "                                       sampler=torch.utils.data.SubsetRandomSampler(range(0,train_size)))\n",
    "dl_test = torch.utils.data.DataLoader(ds_test, batch_size,\n",
    "                                       sampler=torch.utils.data.SubsetRandomSampler(range(0,test_size)))\n",
    "\n",
    "x0, y0 = ds_train[0]\n",
    "n_features = torch.numel(x0)\n",
    "n_classes = 10\n",
    "\n",
    "print(f'x0: {x0.shape}, y0: {y0}')"
   ]
  },
  {
   "cell_type": "code",
   "execution_count": 209,
   "metadata": {
    "slideshow": {
     "slide_type": "subslide"
    }
   },
   "outputs": [
    {
     "name": "stdout",
     "output_type": "stream",
     "text": [
      "x0: torch.Size([1, 28, 28]), y0: 5\n"
     ]
    },
    {
     "data": {
      "image/png": "[encoded data removed]",
      "text/plain": [
       "<Figure size 576x576 with 10 Axes>"
      ]
     },
     "metadata": {},
     "output_type": "display_data"
    }
   ],
   "source": [
    "import sys\n",
    "sys.path.append('..')\n",
    "import T1.plot_utils as plot_utils\n",
    "# Show first few samples\n",
    "print(f'x0: {x0.shape}, y0: {y0}')\n",
    "plot_utils.dataset_first_n(ds_train, 10, cmap='gray', show_classes=True);"
   ]
  },
  {
   "cell_type": "markdown",
   "metadata": {
    "slideshow": {
     "slide_type": "subslide"
    }
   },
   "source": [
    "### Model Implementation"
   ]
  },
  {
   "cell_type": "markdown",
   "metadata": {
    "slideshow": {
     "slide_type": "fragment"
    }
   },
   "source": [
    "- The `torch.nn` module contains building blocks such as neural network layers,\n",
    "  loss functions, activations and more.\n",
    "- In this section, we'll see various parts of the `torch.nn` API.\n",
    "- We'll use `nn.Linear` which implements a single MLP layer.\n",
    "- We'll implement our model as a subclass of `nn.Module`, which means:\n",
    "    - Any tensors we set as properties will be registered as model parameters.\n",
    "    - We can nest `nn.Modules` and get all model parameters from the top-level `nn.Module`.\n",
    "    - Can be used as a function if we implement the `forward()` method."
   ]
  },
  {
   "cell_type": "markdown",
   "metadata": {
    "slideshow": {
     "slide_type": "subslide"
    }
   },
   "source": [
    "To understand `nn.Module`, lets look at a very basic one: the [**fully-connected**](https://pytorch.org/docs/stable/generated/torch.nn.Linear.html#torch.nn.Linear) layer."
   ]
  },
  {
   "cell_type": "code",
   "execution_count": 210,
   "metadata": {
    "slideshow": {
     "slide_type": "fragment"
    }
   },
   "outputs": [
    {
     "name": "stdout",
     "output_type": "stream",
     "text": [
      "w: torch.Size([5, 3]) \n",
      "b: torch.Size([5])\n",
      "output torch.Size([10, 5])\n"
     ]
    },
    {
     "data": {
      "text/plain": [
       "tensor([[-0.3847,  0.6511, -0.7235,  0.3127, -0.1139],\n",
       "        [-0.0841,  0.5675, -0.3305,  0.1300, -0.3514],\n",
       "        [-1.4318,  0.4341,  0.6997,  0.5234,  1.1847],\n",
       "        [-0.5923,  0.7996, -0.3935,  0.3068,  0.2839],\n",
       "        [-0.5976,  1.3528,  0.2838,  0.0693,  0.8502],\n",
       "        [ 0.2707,  1.0464, -0.9472,  0.0023, -0.5625],\n",
       "        [-1.0278,  0.0172,  0.0945,  0.5537,  0.3368],\n",
       "        [-1.0322, -0.3614,  0.1218,  0.6267,  0.0989],\n",
       "        [-0.3751,  0.5922, -0.0225,  0.1880,  0.0403],\n",
       "        [ 0.1811,  1.5915,  0.1936, -0.2860,  0.2154]],\n",
       "       grad_fn=<AddmmBackward>)"
      ]
     },
     "execution_count": 210,
     "metadata": {},
     "output_type": "execute_result"
    }
   ],
   "source": [
    "import torch.nn as nn\n",
    "\n",
    "fc = nn.Linear(in_features=3, out_features=5, bias=True)\n",
    "\n",
    "# 10 samples of 3 features\n",
    "t = torch.randn(10, 3)\n",
    "\n",
    "print(f'w: {fc.weight.shape} \\nb: {fc.bias.shape}')\n",
    "\n",
    "# Forward pass, notice that grad_fn exists\n",
    "print(f'output {fc(t).shape}')\n",
    "fc(t)"
   ]
  },
  {
   "cell_type": "markdown",
   "metadata": {
    "slideshow": {
     "slide_type": "subslide"
    }
   },
   "source": [
    "`nn.Modules` have registered **parameters**, which are tensors which `require_grad`."
   ]
  },
  {
   "cell_type": "code",
   "execution_count": 211,
   "metadata": {
    "slideshow": {
     "slide_type": "fragment"
    }
   },
   "outputs": [
    {
     "data": {
      "text/plain": [
       "[Parameter containing:\n",
       " tensor([[-0.5215, -0.0841,  0.0239],\n",
       "         [-0.1038, -0.5527,  0.0978],\n",
       "         [ 0.3800, -0.1596,  0.4158],\n",
       "         [ 0.1663,  0.1767, -0.1083],\n",
       "         [ 0.5546, -0.3284,  0.1612]], requires_grad=True),\n",
       " Parameter containing:\n",
       " tensor([-0.4134,  0.5708, -0.3522,  0.2706, -0.0313], requires_grad=True)]"
      ]
     },
     "execution_count": 211,
     "metadata": {},
     "output_type": "execute_result"
    }
   ],
   "source": [
    "# Note parameter dimenstions\n",
    "list(fc.parameters())"
   ]
  },
  {
   "cell_type": "markdown",
   "metadata": {
    "slideshow": {
     "slide_type": "subslide"
    }
   },
   "source": [
    "We can create custom `nn.Module`s with arbitrary logic. \n",
    "\n",
    "Let's recreate a fully-connected layer ourselves:"
   ]
  },
  {
   "cell_type": "code",
   "execution_count": 212,
   "metadata": {
    "slideshow": {
     "slide_type": "fragment"
    }
   },
   "outputs": [],
   "source": [
    "class MyFullyConnectedLayer(nn.Module):\n",
    "    \n",
    "    def __init__(self, in_features, out_features,bias=True):\n",
    "        super().__init__() # don't forget this to inherent from nn.Module\n",
    "        self.bias = bias\n",
    "        # nn.Parameter just marks W,b for inclusion in list of parameters\n",
    "        self.W = nn.Parameter(torch.randn(out_features, in_features, requires_grad=True))\n",
    "        if self.bias:\n",
    "            self.b = nn.Parameter(torch.randn(out_features, requires_grad=True))\n",
    "                \n",
    "    def forward(self, x):\n",
    "        # x assumed to be (N, in_features)\n",
    "        z = torch.matmul(x, self.W.transpose(0, 1)) + self.b\n",
    "        if self.bias:\n",
    "            z+= self.b\n",
    "        return z"
   ]
  },
  {
   "cell_type": "code",
   "execution_count": 213,
   "metadata": {
    "slideshow": {
     "slide_type": "subslide"
    }
   },
   "outputs": [],
   "source": [
    "myfc = MyFullyConnectedLayer(in_features=3, out_features=5)"
   ]
  },
  {
   "cell_type": "code",
   "execution_count": 214,
   "metadata": {
    "slideshow": {
     "slide_type": "fragment"
    }
   },
   "outputs": [
    {
     "data": {
      "text/plain": [
       "tensor([[-0.5182,  5.5673,  1.4658,  1.2803, -1.5638],\n",
       "        [ 0.2888,  6.7249, -1.0770, -1.3700, -2.2831],\n",
       "        [-1.0429,  2.5917, -4.8496, -0.6648, -4.8683],\n",
       "        [-0.3880,  5.1915,  0.0651,  1.2679, -2.0127],\n",
       "        [ 0.8171,  6.0924, -3.2321,  0.4832, -2.3911],\n",
       "        [ 0.7277,  8.0554,  2.0055,  0.9017, -0.3019],\n",
       "        [-1.3842,  3.2183, -2.3922, -1.1306, -4.2566],\n",
       "        [-1.7330,  2.8479, -2.7428, -2.2789, -4.8858],\n",
       "        [ 0.1387,  5.9326, -2.3180, -1.3653, -2.9138],\n",
       "        [ 2.2471,  8.9198, -3.6554, -1.2305, -1.5611]], grad_fn=<AddBackward0>)"
      ]
     },
     "execution_count": 214,
     "metadata": {},
     "output_type": "execute_result"
    }
   ],
   "source": [
    "myfc(t)"
   ]
  },
  {
   "cell_type": "code",
   "execution_count": 215,
   "metadata": {
    "slideshow": {
     "slide_type": "subslide"
    }
   },
   "outputs": [
    {
     "data": {
      "text/plain": [
       "[Parameter containing:\n",
       " tensor([[-0.5848, -0.8365,  0.5490],\n",
       "         [-1.6609, -0.9156,  0.4085],\n",
       "         [-1.3892,  0.6558, -2.1946],\n",
       "         [ 0.1910, -0.7100, -1.2580],\n",
       "         [-1.0463, -0.5889, -0.5909]], requires_grad=True),\n",
       " Parameter containing:\n",
       " tensor([-0.1369,  2.7990, -0.2605, -0.0712, -1.1835], requires_grad=True)]"
      ]
     },
     "execution_count": 215,
     "metadata": {},
     "output_type": "execute_result"
    }
   ],
   "source": [
    "list(myfc.parameters())"
   ]
  },
  {
   "cell_type": "markdown",
   "metadata": {
    "slideshow": {
     "slide_type": "subslide"
    }
   },
   "source": [
    "Quick visualization of our custom module's **computation graph**:"
   ]
  },
  {
   "cell_type": "code",
   "execution_count": 216,
   "metadata": {
    "slideshow": {
     "slide_type": "fragment"
    }
   },
   "outputs": [
    {
     "data": {
      "image/svg+xml": [
       "<?xml version=\"1.0\" encoding=\"UTF-8\" standalone=\"no\"?>\n",
       "<!DOCTYPE svg PUBLIC \"-//W3C//DTD SVG 1.1//EN\"\n",
       " \"http://www.w3.org/Graphics/SVG/1.1/DTD/svg11.dtd\">\n",
       "<!-- Generated by graphviz version 2.42.3 (20191010.1750)\n",
       " -->\n",
       "<!-- Title: %3 Pages: 1 -->\n",
       "<svg width=\"228pt\" height=\"391pt\"\n",
       " viewBox=\"0.00 0.00 228.00 391.00\" xmlns=\"http://www.w3.org/2000/svg\" xmlns:xlink=\"http://www.w3.org/1999/xlink\">\n",
       "<g id=\"graph0\" class=\"graph\" transform=\"scale(1 1) rotate(0) translate(4 387)\">\n",
       "<title>%3</title>\n",
       "<polygon fill=\"white\" stroke=\"transparent\" points=\"-4,4 -4,-387 224,-387 224,4 -4,4\"/>\n",
       "<!-- 139640520121280 -->\n",
       "<g id=\"node1\" class=\"node\">\n",
       "<title>139640520121280</title>\n",
       "<polygon fill=\"#caff70\" stroke=\"black\" points=\"165,-31 100,-31 100,0 165,0 165,-31\"/>\n",
       "<text text-anchor=\"middle\" x=\"132.5\" y=\"-7\" font-family=\"monospace\" font-size=\"10.00\"> (10, 5)</text>\n",
       "</g>\n",
       "<!-- 139640521760240 -->\n",
       "<g id=\"node2\" class=\"node\">\n",
       "<title>139640521760240</title>\n",
       "<polygon fill=\"lightgrey\" stroke=\"black\" points=\"177,-86 88,-86 88,-67 177,-67 177,-86\"/>\n",
       "<text text-anchor=\"middle\" x=\"132.5\" y=\"-74\" font-family=\"monospace\" font-size=\"10.00\">AddBackward0</text>\n",
       "</g>\n",
       "<!-- 139640521760240&#45;&gt;139640520121280 -->\n",
       "<g id=\"edge9\" class=\"edge\">\n",
       "<title>139640521760240&#45;&gt;139640520121280</title>\n",
       "<path fill=\"none\" stroke=\"black\" d=\"M132.5,-66.79C132.5,-60.07 132.5,-50.4 132.5,-41.34\"/>\n",
       "<polygon fill=\"black\" stroke=\"black\" points=\"136,-41.19 132.5,-31.19 129,-41.19 136,-41.19\"/>\n",
       "</g>\n",
       "<!-- 139640521758608 -->\n",
       "<g id=\"node3\" class=\"node\">\n",
       "<title>139640521758608</title>\n",
       "<polygon fill=\"lightgrey\" stroke=\"black\" points=\"141,-141 52,-141 52,-122 141,-122 141,-141\"/>\n",
       "<text text-anchor=\"middle\" x=\"96.5\" y=\"-129\" font-family=\"monospace\" font-size=\"10.00\">AddBackward0</text>\n",
       "</g>\n",
       "<!-- 139640521758608&#45;&gt;139640521760240 -->\n",
       "<g id=\"edge1\" class=\"edge\">\n",
       "<title>139640521758608&#45;&gt;139640521760240</title>\n",
       "<path fill=\"none\" stroke=\"black\" d=\"M102.44,-121.75C107.48,-114.34 114.84,-103.5 121.01,-94.41\"/>\n",
       "<polygon fill=\"black\" stroke=\"black\" points=\"123.94,-96.33 126.67,-86.09 118.15,-92.39 123.94,-96.33\"/>\n",
       "</g>\n",
       "<!-- 139640521758944 -->\n",
       "<g id=\"node4\" class=\"node\">\n",
       "<title>139640521758944</title>\n",
       "<polygon fill=\"lightgrey\" stroke=\"black\" points=\"101,-196 24,-196 24,-177 101,-177 101,-196\"/>\n",
       "<text text-anchor=\"middle\" x=\"62.5\" y=\"-184\" font-family=\"monospace\" font-size=\"10.00\">MmBackward</text>\n",
       "</g>\n",
       "<!-- 139640521758944&#45;&gt;139640521758608 -->\n",
       "<g id=\"edge2\" class=\"edge\">\n",
       "<title>139640521758944&#45;&gt;139640521758608</title>\n",
       "<path fill=\"none\" stroke=\"black\" d=\"M68.11,-176.75C72.82,-169.42 79.67,-158.73 85.47,-149.7\"/>\n",
       "<polygon fill=\"black\" stroke=\"black\" points=\"88.54,-151.4 90.99,-141.09 82.64,-147.62 88.54,-151.4\"/>\n",
       "</g>\n",
       "<!-- 139640521625952 -->\n",
       "<g id=\"node5\" class=\"node\">\n",
       "<title>139640521625952</title>\n",
       "<polygon fill=\"lightgrey\" stroke=\"black\" points=\"125,-256.5 0,-256.5 0,-237.5 125,-237.5 125,-256.5\"/>\n",
       "<text text-anchor=\"middle\" x=\"62.5\" y=\"-244.5\" font-family=\"monospace\" font-size=\"10.00\">TransposeBackward0</text>\n",
       "</g>\n",
       "<!-- 139640521625952&#45;&gt;139640521758944 -->\n",
       "<g id=\"edge3\" class=\"edge\">\n",
       "<title>139640521625952&#45;&gt;139640521758944</title>\n",
       "<path fill=\"none\" stroke=\"black\" d=\"M62.5,-237.37C62.5,-229.25 62.5,-216.81 62.5,-206.39\"/>\n",
       "<polygon fill=\"black\" stroke=\"black\" points=\"66,-206.17 62.5,-196.17 59,-206.17 66,-206.17\"/>\n",
       "</g>\n",
       "<!-- 139640521626000 -->\n",
       "<g id=\"node6\" class=\"node\">\n",
       "<title>139640521626000</title>\n",
       "<polygon fill=\"lightgrey\" stroke=\"black\" points=\"113,-317 12,-317 12,-298 113,-298 113,-317\"/>\n",
       "<text text-anchor=\"middle\" x=\"62.5\" y=\"-305\" font-family=\"monospace\" font-size=\"10.00\">AccumulateGrad</text>\n",
       "</g>\n",
       "<!-- 139640521626000&#45;&gt;139640521625952 -->\n",
       "<g id=\"edge4\" class=\"edge\">\n",
       "<title>139640521626000&#45;&gt;139640521625952</title>\n",
       "<path fill=\"none\" stroke=\"black\" d=\"M62.5,-297.87C62.5,-289.75 62.5,-277.31 62.5,-266.89\"/>\n",
       "<polygon fill=\"black\" stroke=\"black\" points=\"66,-266.67 62.5,-256.67 59,-266.67 66,-266.67\"/>\n",
       "</g>\n",
       "<!-- 139640521847296 -->\n",
       "<g id=\"node7\" class=\"node\">\n",
       "<title>139640521847296</title>\n",
       "<polygon fill=\"lightblue\" stroke=\"black\" points=\"92,-383 33,-383 33,-353 92,-353 92,-383\"/>\n",
       "<text text-anchor=\"middle\" x=\"62.5\" y=\"-371\" font-family=\"monospace\" font-size=\"10.00\">W</text>\n",
       "<text text-anchor=\"middle\" x=\"62.5\" y=\"-360\" font-family=\"monospace\" font-size=\"10.00\"> (5, 3)</text>\n",
       "</g>\n",
       "<!-- 139640521847296&#45;&gt;139640521626000 -->\n",
       "<g id=\"edge5\" class=\"edge\">\n",
       "<title>139640521847296&#45;&gt;139640521626000</title>\n",
       "<path fill=\"none\" stroke=\"black\" d=\"M62.5,-352.84C62.5,-345.21 62.5,-335.7 62.5,-327.45\"/>\n",
       "<polygon fill=\"black\" stroke=\"black\" points=\"66,-327.27 62.5,-317.27 59,-327.27 66,-327.27\"/>\n",
       "</g>\n",
       "<!-- 139640521760000 -->\n",
       "<g id=\"node8\" class=\"node\">\n",
       "<title>139640521760000</title>\n",
       "<polygon fill=\"lightgrey\" stroke=\"black\" points=\"220,-196 119,-196 119,-177 220,-177 220,-196\"/>\n",
       "<text text-anchor=\"middle\" x=\"169.5\" y=\"-184\" font-family=\"monospace\" font-size=\"10.00\">AccumulateGrad</text>\n",
       "</g>\n",
       "<!-- 139640521760000&#45;&gt;139640521760240 -->\n",
       "<g id=\"edge8\" class=\"edge\">\n",
       "<title>139640521760000&#45;&gt;139640521760240</title>\n",
       "<path fill=\"none\" stroke=\"black\" d=\"M167.17,-176.79C163.82,-164.48 157.28,-141.33 150.5,-122 147.43,-113.25 143.63,-103.7 140.31,-95.7\"/>\n",
       "<polygon fill=\"black\" stroke=\"black\" points=\"143.44,-94.12 136.33,-86.27 137,-96.85 143.44,-94.12\"/>\n",
       "</g>\n",
       "<!-- 139640521760000&#45;&gt;139640521758608 -->\n",
       "<g id=\"edge6\" class=\"edge\">\n",
       "<title>139640521760000&#45;&gt;139640521758608</title>\n",
       "<path fill=\"none\" stroke=\"black\" d=\"M157.77,-176.98C146.77,-169 130.08,-156.88 116.9,-147.31\"/>\n",
       "<polygon fill=\"black\" stroke=\"black\" points=\"118.59,-144.21 108.44,-141.17 114.48,-149.88 118.59,-144.21\"/>\n",
       "</g>\n",
       "<!-- 139640521847552 -->\n",
       "<g id=\"node9\" class=\"node\">\n",
       "<title>139640521847552</title>\n",
       "<polygon fill=\"lightblue\" stroke=\"black\" points=\"197.5,-262 143.5,-262 143.5,-232 197.5,-232 197.5,-262\"/>\n",
       "<text text-anchor=\"middle\" x=\"170.5\" y=\"-250\" font-family=\"monospace\" font-size=\"10.00\">b</text>\n",
       "<text text-anchor=\"middle\" x=\"170.5\" y=\"-239\" font-family=\"monospace\" font-size=\"10.00\"> (5)</text>\n",
       "</g>\n",
       "<!-- 139640521847552&#45;&gt;139640521760000 -->\n",
       "<g id=\"edge7\" class=\"edge\">\n",
       "<title>139640521847552&#45;&gt;139640521760000</title>\n",
       "<path fill=\"none\" stroke=\"black\" d=\"M170.26,-231.84C170.13,-224.21 169.97,-214.7 169.82,-206.45\"/>\n",
       "<polygon fill=\"black\" stroke=\"black\" points=\"173.32,-206.2 169.65,-196.27 166.32,-206.32 173.32,-206.2\"/>\n",
       "</g>\n",
       "</g>\n",
       "</svg>\n"
      ],
      "text/plain": [
       "<graphviz.dot.Digraph at 0x7f0097b21f70>"
      ]
     },
     "execution_count": 216,
     "metadata": {},
     "output_type": "execute_result"
    }
   ],
   "source": [
    "import torchviz\n",
    "torchviz.make_dot(myfc(t), params=dict(W=myfc.W, b=myfc.b))"
   ]
  },
  {
   "cell_type": "markdown",
   "metadata": {
    "slideshow": {
     "slide_type": "subslide"
    }
   },
   "source": [
    "Now that we know about `nn.Module`s, lets create an fairly-general MLP for multiclass classification."
   ]
  },
  {
   "cell_type": "code",
   "execution_count": 217,
   "metadata": {
    "slideshow": {
     "slide_type": "subslide"
    }
   },
   "outputs": [],
   "source": [
    "class MLP(torch.nn.Module):\n",
    "    NLS = {'relu': torch.nn.ReLU, 'tanh': nn.Tanh, 'sigmoid': nn.Sigmoid, 'softmax': nn.Softmax, 'logsoftmax': nn.LogSoftmax}\n",
    "\n",
    "    def __init__(self, D_in: int, hidden_dims: Sequence[int], D_out: int, nonlin='relu'):\n",
    "        super().__init__()\n",
    "        \n",
    "        all_dims = [D_in, *hidden_dims, D_out]\n",
    "        non_linearity = MLP.NLS[nonlin]\n",
    "        layers = []\n",
    "        \n",
    "        for in_dim, out_dim in zip(all_dims[:-1], all_dims[1:]):\n",
    "            layers += [\n",
    "                nn.Linear(in_dim, out_dim, bias=True),\n",
    "                non_linearity()\n",
    "            ]\n",
    "        \n",
    "        self.fc_layers = nn.Sequential(*layers[:-1])\n",
    "        self.log_softmax = nn.LogSoftmax(dim=1)\n",
    "\n",
    "    def forward(self, x):\n",
    "        x = torch.reshape(x, (x.shape[0], -1)) #flatten x\n",
    "        z = self.fc_layers(x)\n",
    "        y_pred = self.log_softmax(z)\n",
    "        # Output is always log-probability\n",
    "        return y_pred"
   ]
  },
  {
   "cell_type": "code",
   "execution_count": 218,
   "metadata": {
    "slideshow": {
     "slide_type": "subslide"
    }
   },
   "outputs": [
    {
     "name": "stdout",
     "output_type": "stream",
     "text": [
      "MLP(\n",
      "  (fc_layers): Sequential(\n",
      "    (0): Linear(in_features=784, out_features=32, bias=True)\n",
      "    (1): Tanh()\n",
      "    (2): Linear(in_features=32, out_features=64, bias=True)\n",
      "    (3): Tanh()\n",
      "    (4): Linear(in_features=64, out_features=128, bias=True)\n",
      "    (5): Tanh()\n",
      "    (6): Linear(in_features=128, out_features=64, bias=True)\n",
      "    (7): Tanh()\n",
      "    (8): Linear(in_features=64, out_features=10, bias=True)\n",
      "  )\n",
      "  (log_softmax): LogSoftmax(dim=1)\n",
      ")\n"
     ]
    }
   ],
   "source": [
    "# Create an instance of the model: 5-layer MLP\n",
    "mlp5 = MLP(D_in=n_features, hidden_dims=[32, 64, 128, 64], D_out=n_classes, nonlin='tanh')\n",
    "\n",
    "print(mlp5)"
   ]
  },
  {
   "cell_type": "code",
   "execution_count": 219,
   "metadata": {
    "slideshow": {
     "slide_type": "fragment"
    }
   },
   "outputs": [
    {
     "name": "stdout",
     "output_type": "stream",
     "text": [
      "number of parameter tensors: 10\n"
     ]
    }
   ],
   "source": [
    "print(f'number of parameter tensors: {len(list(mlp5.parameters()))}')"
   ]
  },
  {
   "cell_type": "code",
   "execution_count": 220,
   "metadata": {
    "slideshow": {
     "slide_type": "fragment"
    }
   },
   "outputs": [
    {
     "name": "stdout",
     "output_type": "stream",
     "text": [
      "number of parameters: 44458\n"
     ]
    }
   ],
   "source": [
    "print(f'number of parameters: {np.sum([torch.numel(p) for p in mlp5.parameters()])}')"
   ]
  },
  {
   "cell_type": "code",
   "execution_count": 221,
   "metadata": {
    "slideshow": {
     "slide_type": "subslide"
    }
   },
   "outputs": [
    {
     "name": "stdout",
     "output_type": "stream",
     "text": [
      "x0.shape=torch.Size([1, 28, 28])\n",
      "\n",
      "y_hat0.shape=torch.Size([1, 10])\n",
      "\n",
      "y_hat0=tensor([[-2.2540, -2.3736, -2.4041, -2.2008, -2.2628, -2.3707, -2.2298, -2.3021,\n",
      "         -2.2949, -2.3542]], grad_fn=<LogSoftmaxBackward>)\n"
     ]
    }
   ],
   "source": [
    "# Test a forward pass\n",
    "y_hat0 = mlp5(x0)\n",
    "\n",
    "print(f'{x0.shape=}\\n')\n",
    "print(f'{y_hat0.shape=}\\n')\n",
    "print(f'{y_hat0=}')"
   ]
  },
  {
   "cell_type": "markdown",
   "metadata": {
    "slideshow": {
     "slide_type": "subslide"
    }
   },
   "source": [
    "Quick visualization of our full MLP's **computation graph**:"
   ]
  },
  {
   "cell_type": "code",
   "execution_count": 222,
   "metadata": {
    "slideshow": {
     "slide_type": "subslide"
    }
   },
   "outputs": [
    {
     "data": {
      "image/svg+xml": [
       "<?xml version=\"1.0\" encoding=\"UTF-8\" standalone=\"no\"?>\n",
       "<!DOCTYPE svg PUBLIC \"-//W3C//DTD SVG 1.1//EN\"\n",
       " \"http://www.w3.org/Graphics/SVG/1.1/DTD/svg11.dtd\">\n",
       "<!-- Generated by graphviz version 2.42.3 (20191010.1750)\n",
       " -->\n",
       "<!-- Title: %3 Pages: 1 -->\n",
       "<svg width=\"511pt\" height=\"864pt\"\n",
       " viewBox=\"0.00 0.00 511.00 864.00\" xmlns=\"http://www.w3.org/2000/svg\" xmlns:xlink=\"http://www.w3.org/1999/xlink\">\n",
       "<g id=\"graph0\" class=\"graph\" transform=\"scale(1 1) rotate(0) translate(4 860)\">\n",
       "<title>%3</title>\n",
       "<polygon fill=\"white\" stroke=\"transparent\" points=\"-4,4 -4,-860 507,-860 507,4 -4,4\"/>\n",
       "<!-- 139640521655040 -->\n",
       "<g id=\"node1\" class=\"node\">\n",
       "<title>139640521655040</title>\n",
       "<polygon fill=\"#caff70\" stroke=\"black\" points=\"283,-31 218,-31 218,0 283,0 283,-31\"/>\n",
       "<text text-anchor=\"middle\" x=\"250.5\" y=\"-7\" font-family=\"monospace\" font-size=\"10.00\"> (1, 10)</text>\n",
       "</g>\n",
       "<!-- 139640521626960 -->\n",
       "<g id=\"node2\" class=\"node\">\n",
       "<title>139640521626960</title>\n",
       "<polygon fill=\"lightgrey\" stroke=\"black\" points=\"313,-86 188,-86 188,-67 313,-67 313,-86\"/>\n",
       "<text text-anchor=\"middle\" x=\"250.5\" y=\"-74\" font-family=\"monospace\" font-size=\"10.00\">LogSoftmaxBackward</text>\n",
       "</g>\n",
       "<!-- 139640521626960&#45;&gt;139640521655040 -->\n",
       "<g id=\"edge35\" class=\"edge\">\n",
       "<title>139640521626960&#45;&gt;139640521655040</title>\n",
       "<path fill=\"none\" stroke=\"black\" d=\"M250.5,-66.79C250.5,-60.07 250.5,-50.4 250.5,-41.34\"/>\n",
       "<polygon fill=\"black\" stroke=\"black\" points=\"254,-41.19 250.5,-31.19 247,-41.19 254,-41.19\"/>\n",
       "</g>\n",
       "<!-- 139640521627536 -->\n",
       "<g id=\"node3\" class=\"node\">\n",
       "<title>139640521627536</title>\n",
       "<polygon fill=\"lightgrey\" stroke=\"black\" points=\"298,-141 203,-141 203,-122 298,-122 298,-141\"/>\n",
       "<text text-anchor=\"middle\" x=\"250.5\" y=\"-129\" font-family=\"monospace\" font-size=\"10.00\">AddmmBackward</text>\n",
       "</g>\n",
       "<!-- 139640521627536&#45;&gt;139640521626960 -->\n",
       "<g id=\"edge1\" class=\"edge\">\n",
       "<title>139640521627536&#45;&gt;139640521626960</title>\n",
       "<path fill=\"none\" stroke=\"black\" d=\"M250.5,-121.75C250.5,-114.8 250.5,-104.85 250.5,-96.13\"/>\n",
       "<polygon fill=\"black\" stroke=\"black\" points=\"254,-96.09 250.5,-86.09 247,-96.09 254,-96.09\"/>\n",
       "</g>\n",
       "<!-- 139640521627584 -->\n",
       "<g id=\"node4\" class=\"node\">\n",
       "<title>139640521627584</title>\n",
       "<polygon fill=\"lightgrey\" stroke=\"black\" points=\"184,-196 83,-196 83,-177 184,-177 184,-196\"/>\n",
       "<text text-anchor=\"middle\" x=\"133.5\" y=\"-184\" font-family=\"monospace\" font-size=\"10.00\">AccumulateGrad</text>\n",
       "</g>\n",
       "<!-- 139640521627584&#45;&gt;139640521627536 -->\n",
       "<g id=\"edge2\" class=\"edge\">\n",
       "<title>139640521627584&#45;&gt;139640521627536</title>\n",
       "<path fill=\"none\" stroke=\"black\" d=\"M152.3,-176.98C171.12,-168.46 200.32,-155.23 222,-145.41\"/>\n",
       "<polygon fill=\"black\" stroke=\"black\" points=\"223.7,-148.48 231.36,-141.17 220.81,-142.11 223.7,-148.48\"/>\n",
       "</g>\n",
       "<!-- 139640521822464 -->\n",
       "<g id=\"node5\" class=\"node\">\n",
       "<title>139640521822464</title>\n",
       "<polygon fill=\"lightblue\" stroke=\"black\" points=\"185,-262 72,-262 72,-232 185,-232 185,-262\"/>\n",
       "<text text-anchor=\"middle\" x=\"128.5\" y=\"-250\" font-family=\"monospace\" font-size=\"10.00\">fc_layers.8.bias</text>\n",
       "<text text-anchor=\"middle\" x=\"128.5\" y=\"-239\" font-family=\"monospace\" font-size=\"10.00\"> (10)</text>\n",
       "</g>\n",
       "<!-- 139640521822464&#45;&gt;139640521627584 -->\n",
       "<g id=\"edge3\" class=\"edge\">\n",
       "<title>139640521822464&#45;&gt;139640521627584</title>\n",
       "<path fill=\"none\" stroke=\"black\" d=\"M129.71,-231.84C130.36,-224.21 131.17,-214.7 131.88,-206.45\"/>\n",
       "<polygon fill=\"black\" stroke=\"black\" points=\"135.39,-206.53 132.75,-196.27 128.41,-205.93 135.39,-206.53\"/>\n",
       "</g>\n",
       "<!-- 139640521626144 -->\n",
       "<g id=\"node6\" class=\"node\">\n",
       "<title>139640521626144</title>\n",
       "<polygon fill=\"lightgrey\" stroke=\"black\" points=\"295,-196 206,-196 206,-177 295,-177 295,-196\"/>\n",
       "<text text-anchor=\"middle\" x=\"250.5\" y=\"-184\" font-family=\"monospace\" font-size=\"10.00\">TanhBackward</text>\n",
       "</g>\n",
       "<!-- 139640521626144&#45;&gt;139640521627536 -->\n",
       "<g id=\"edge4\" class=\"edge\">\n",
       "<title>139640521626144&#45;&gt;139640521627536</title>\n",
       "<path fill=\"none\" stroke=\"black\" d=\"M250.5,-176.75C250.5,-169.8 250.5,-159.85 250.5,-151.13\"/>\n",
       "<polygon fill=\"black\" stroke=\"black\" points=\"254,-151.09 250.5,-141.09 247,-151.09 254,-151.09\"/>\n",
       "</g>\n",
       "<!-- 139640521625664 -->\n",
       "<g id=\"node7\" class=\"node\">\n",
       "<title>139640521625664</title>\n",
       "<polygon fill=\"lightgrey\" stroke=\"black\" points=\"298,-256.5 203,-256.5 203,-237.5 298,-237.5 298,-256.5\"/>\n",
       "<text text-anchor=\"middle\" x=\"250.5\" y=\"-244.5\" font-family=\"monospace\" font-size=\"10.00\">AddmmBackward</text>\n",
       "</g>\n",
       "<!-- 139640521625664&#45;&gt;139640521626144 -->\n",
       "<g id=\"edge5\" class=\"edge\">\n",
       "<title>139640521625664&#45;&gt;139640521626144</title>\n",
       "<path fill=\"none\" stroke=\"black\" d=\"M250.5,-237.37C250.5,-229.25 250.5,-216.81 250.5,-206.39\"/>\n",
       "<polygon fill=\"black\" stroke=\"black\" points=\"254,-206.17 250.5,-196.17 247,-206.17 254,-206.17\"/>\n",
       "</g>\n",
       "<!-- 139640521626624 -->\n",
       "<g id=\"node8\" class=\"node\">\n",
       "<title>139640521626624</title>\n",
       "<polygon fill=\"lightgrey\" stroke=\"black\" points=\"160,-322.5 59,-322.5 59,-303.5 160,-303.5 160,-322.5\"/>\n",
       "<text text-anchor=\"middle\" x=\"109.5\" y=\"-310.5\" font-family=\"monospace\" font-size=\"10.00\">AccumulateGrad</text>\n",
       "</g>\n",
       "<!-- 139640521626624&#45;&gt;139640521625664 -->\n",
       "<g id=\"edge6\" class=\"edge\">\n",
       "<title>139640521626624&#45;&gt;139640521625664</title>\n",
       "<path fill=\"none\" stroke=\"black\" d=\"M128.52,-303.37C152.59,-292.44 194.27,-273.52 222.11,-260.88\"/>\n",
       "<polygon fill=\"black\" stroke=\"black\" points=\"223.68,-264.02 231.34,-256.7 220.78,-257.65 223.68,-264.02\"/>\n",
       "</g>\n",
       "<!-- 139640521825216 -->\n",
       "<g id=\"node9\" class=\"node\">\n",
       "<title>139640521825216</title>\n",
       "<polygon fill=\"lightblue\" stroke=\"black\" points=\"161,-394 48,-394 48,-364 161,-364 161,-394\"/>\n",
       "<text text-anchor=\"middle\" x=\"104.5\" y=\"-382\" font-family=\"monospace\" font-size=\"10.00\">fc_layers.6.bias</text>\n",
       "<text text-anchor=\"middle\" x=\"104.5\" y=\"-371\" font-family=\"monospace\" font-size=\"10.00\"> (64)</text>\n",
       "</g>\n",
       "<!-- 139640521825216&#45;&gt;139640521626624 -->\n",
       "<g id=\"edge7\" class=\"edge\">\n",
       "<title>139640521825216&#45;&gt;139640521626624</title>\n",
       "<path fill=\"none\" stroke=\"black\" d=\"M105.61,-363.8C106.32,-354.7 107.25,-342.79 108.02,-332.9\"/>\n",
       "<polygon fill=\"black\" stroke=\"black\" points=\"111.52,-333.09 108.81,-322.84 104.54,-332.54 111.52,-333.09\"/>\n",
       "</g>\n",
       "<!-- 139640521629120 -->\n",
       "<g id=\"node10\" class=\"node\">\n",
       "<title>139640521629120</title>\n",
       "<polygon fill=\"lightgrey\" stroke=\"black\" points=\"271,-322.5 182,-322.5 182,-303.5 271,-303.5 271,-322.5\"/>\n",
       "<text text-anchor=\"middle\" x=\"226.5\" y=\"-310.5\" font-family=\"monospace\" font-size=\"10.00\">TanhBackward</text>\n",
       "</g>\n",
       "<!-- 139640521629120&#45;&gt;139640521625664 -->\n",
       "<g id=\"edge8\" class=\"edge\">\n",
       "<title>139640521629120&#45;&gt;139640521625664</title>\n",
       "<path fill=\"none\" stroke=\"black\" d=\"M229.74,-303.37C233.26,-293.97 239,-278.67 243.55,-266.53\"/>\n",
       "<polygon fill=\"black\" stroke=\"black\" points=\"246.93,-267.5 247.16,-256.91 240.37,-265.04 246.93,-267.5\"/>\n",
       "</g>\n",
       "<!-- 139640521625952 -->\n",
       "<g id=\"node11\" class=\"node\">\n",
       "<title>139640521625952</title>\n",
       "<polygon fill=\"lightgrey\" stroke=\"black\" points=\"274,-388.5 179,-388.5 179,-369.5 274,-369.5 274,-388.5\"/>\n",
       "<text text-anchor=\"middle\" x=\"226.5\" y=\"-376.5\" font-family=\"monospace\" font-size=\"10.00\">AddmmBackward</text>\n",
       "</g>\n",
       "<!-- 139640521625952&#45;&gt;139640521629120 -->\n",
       "<g id=\"edge9\" class=\"edge\">\n",
       "<title>139640521625952&#45;&gt;139640521629120</title>\n",
       "<path fill=\"none\" stroke=\"black\" d=\"M226.5,-369.37C226.5,-360.16 226.5,-345.29 226.5,-333.27\"/>\n",
       "<polygon fill=\"black\" stroke=\"black\" points=\"230,-332.91 226.5,-322.91 223,-332.91 230,-332.91\"/>\n",
       "</g>\n",
       "<!-- 139640521628544 -->\n",
       "<g id=\"node12\" class=\"node\">\n",
       "<title>139640521628544</title>\n",
       "<polygon fill=\"lightgrey\" stroke=\"black\" points=\"136,-454.5 35,-454.5 35,-435.5 136,-435.5 136,-454.5\"/>\n",
       "<text text-anchor=\"middle\" x=\"85.5\" y=\"-442.5\" font-family=\"monospace\" font-size=\"10.00\">AccumulateGrad</text>\n",
       "</g>\n",
       "<!-- 139640521628544&#45;&gt;139640521625952 -->\n",
       "<g id=\"edge10\" class=\"edge\">\n",
       "<title>139640521628544&#45;&gt;139640521625952</title>\n",
       "<path fill=\"none\" stroke=\"black\" d=\"M104.52,-435.37C128.59,-424.44 170.27,-405.52 198.11,-392.88\"/>\n",
       "<polygon fill=\"black\" stroke=\"black\" points=\"199.68,-396.02 207.34,-388.7 196.78,-389.65 199.68,-396.02\"/>\n",
       "</g>\n",
       "<!-- 139640521823424 -->\n",
       "<g id=\"node13\" class=\"node\">\n",
       "<title>139640521823424</title>\n",
       "<polygon fill=\"lightblue\" stroke=\"black\" points=\"137,-526 24,-526 24,-496 137,-496 137,-526\"/>\n",
       "<text text-anchor=\"middle\" x=\"80.5\" y=\"-514\" font-family=\"monospace\" font-size=\"10.00\">fc_layers.4.bias</text>\n",
       "<text text-anchor=\"middle\" x=\"80.5\" y=\"-503\" font-family=\"monospace\" font-size=\"10.00\"> (128)</text>\n",
       "</g>\n",
       "<!-- 139640521823424&#45;&gt;139640521628544 -->\n",
       "<g id=\"edge11\" class=\"edge\">\n",
       "<title>139640521823424&#45;&gt;139640521628544</title>\n",
       "<path fill=\"none\" stroke=\"black\" d=\"M81.61,-495.8C82.32,-486.7 83.25,-474.79 84.02,-464.9\"/>\n",
       "<polygon fill=\"black\" stroke=\"black\" points=\"87.52,-465.09 84.81,-454.84 80.54,-464.54 87.52,-465.09\"/>\n",
       "</g>\n",
       "<!-- 139640521627920 -->\n",
       "<g id=\"node14\" class=\"node\">\n",
       "<title>139640521627920</title>\n",
       "<polygon fill=\"lightgrey\" stroke=\"black\" points=\"247,-454.5 158,-454.5 158,-435.5 247,-435.5 247,-454.5\"/>\n",
       "<text text-anchor=\"middle\" x=\"202.5\" y=\"-442.5\" font-family=\"monospace\" font-size=\"10.00\">TanhBackward</text>\n",
       "</g>\n",
       "<!-- 139640521627920&#45;&gt;139640521625952 -->\n",
       "<g id=\"edge12\" class=\"edge\">\n",
       "<title>139640521627920&#45;&gt;139640521625952</title>\n",
       "<path fill=\"none\" stroke=\"black\" d=\"M205.74,-435.37C209.26,-425.97 215,-410.67 219.55,-398.53\"/>\n",
       "<polygon fill=\"black\" stroke=\"black\" points=\"222.93,-399.5 223.16,-388.91 216.37,-397.04 222.93,-399.5\"/>\n",
       "</g>\n",
       "<!-- 139640521625712 -->\n",
       "<g id=\"node15\" class=\"node\">\n",
       "<title>139640521625712</title>\n",
       "<polygon fill=\"lightgrey\" stroke=\"black\" points=\"250,-520.5 155,-520.5 155,-501.5 250,-501.5 250,-520.5\"/>\n",
       "<text text-anchor=\"middle\" x=\"202.5\" y=\"-508.5\" font-family=\"monospace\" font-size=\"10.00\">AddmmBackward</text>\n",
       "</g>\n",
       "<!-- 139640521625712&#45;&gt;139640521627920 -->\n",
       "<g id=\"edge13\" class=\"edge\">\n",
       "<title>139640521625712&#45;&gt;139640521627920</title>\n",
       "<path fill=\"none\" stroke=\"black\" d=\"M202.5,-501.37C202.5,-492.16 202.5,-477.29 202.5,-465.27\"/>\n",
       "<polygon fill=\"black\" stroke=\"black\" points=\"206,-464.91 202.5,-454.91 199,-464.91 206,-464.91\"/>\n",
       "</g>\n",
       "<!-- 139640521628304 -->\n",
       "<g id=\"node16\" class=\"node\">\n",
       "<title>139640521628304</title>\n",
       "<polygon fill=\"lightgrey\" stroke=\"black\" points=\"111,-586.5 10,-586.5 10,-567.5 111,-567.5 111,-586.5\"/>\n",
       "<text text-anchor=\"middle\" x=\"60.5\" y=\"-574.5\" font-family=\"monospace\" font-size=\"10.00\">AccumulateGrad</text>\n",
       "</g>\n",
       "<!-- 139640521628304&#45;&gt;139640521625712 -->\n",
       "<g id=\"edge14\" class=\"edge\">\n",
       "<title>139640521628304&#45;&gt;139640521625712</title>\n",
       "<path fill=\"none\" stroke=\"black\" d=\"M79.65,-567.37C103.89,-556.44 145.87,-537.52 173.91,-524.88\"/>\n",
       "<polygon fill=\"black\" stroke=\"black\" points=\"175.52,-528 183.2,-520.7 172.64,-521.62 175.52,-528\"/>\n",
       "</g>\n",
       "<!-- 139640521770240 -->\n",
       "<g id=\"node17\" class=\"node\">\n",
       "<title>139640521770240</title>\n",
       "<polygon fill=\"lightblue\" stroke=\"black\" points=\"113,-658 0,-658 0,-628 113,-628 113,-658\"/>\n",
       "<text text-anchor=\"middle\" x=\"56.5\" y=\"-646\" font-family=\"monospace\" font-size=\"10.00\">fc_layers.2.bias</text>\n",
       "<text text-anchor=\"middle\" x=\"56.5\" y=\"-635\" font-family=\"monospace\" font-size=\"10.00\"> (64)</text>\n",
       "</g>\n",
       "<!-- 139640521770240&#45;&gt;139640521628304 -->\n",
       "<g id=\"edge15\" class=\"edge\">\n",
       "<title>139640521770240&#45;&gt;139640521628304</title>\n",
       "<path fill=\"none\" stroke=\"black\" d=\"M57.39,-627.8C57.96,-618.7 58.7,-606.79 59.32,-596.9\"/>\n",
       "<polygon fill=\"black\" stroke=\"black\" points=\"62.82,-597.04 59.95,-586.84 55.83,-596.61 62.82,-597.04\"/>\n",
       "</g>\n",
       "<!-- 139640521626000 -->\n",
       "<g id=\"node18\" class=\"node\">\n",
       "<title>139640521626000</title>\n",
       "<polygon fill=\"lightgrey\" stroke=\"black\" points=\"223,-586.5 134,-586.5 134,-567.5 223,-567.5 223,-586.5\"/>\n",
       "<text text-anchor=\"middle\" x=\"178.5\" y=\"-574.5\" font-family=\"monospace\" font-size=\"10.00\">TanhBackward</text>\n",
       "</g>\n",
       "<!-- 139640521626000&#45;&gt;139640521625712 -->\n",
       "<g id=\"edge16\" class=\"edge\">\n",
       "<title>139640521626000&#45;&gt;139640521625712</title>\n",
       "<path fill=\"none\" stroke=\"black\" d=\"M181.74,-567.37C185.26,-557.97 191,-542.67 195.55,-530.53\"/>\n",
       "<polygon fill=\"black\" stroke=\"black\" points=\"198.93,-531.5 199.16,-520.91 192.37,-529.04 198.93,-531.5\"/>\n",
       "</g>\n",
       "<!-- 139640521759424 -->\n",
       "<g id=\"node19\" class=\"node\">\n",
       "<title>139640521759424</title>\n",
       "<polygon fill=\"lightgrey\" stroke=\"black\" points=\"226,-652.5 131,-652.5 131,-633.5 226,-633.5 226,-652.5\"/>\n",
       "<text text-anchor=\"middle\" x=\"178.5\" y=\"-640.5\" font-family=\"monospace\" font-size=\"10.00\">AddmmBackward</text>\n",
       "</g>\n",
       "<!-- 139640521759424&#45;&gt;139640521626000 -->\n",
       "<g id=\"edge17\" class=\"edge\">\n",
       "<title>139640521759424&#45;&gt;139640521626000</title>\n",
       "<path fill=\"none\" stroke=\"black\" d=\"M178.5,-633.37C178.5,-624.16 178.5,-609.29 178.5,-597.27\"/>\n",
       "<polygon fill=\"black\" stroke=\"black\" points=\"182,-596.91 178.5,-586.91 175,-596.91 182,-596.91\"/>\n",
       "</g>\n",
       "<!-- 139640521759952 -->\n",
       "<g id=\"node20\" class=\"node\">\n",
       "<title>139640521759952</title>\n",
       "<polygon fill=\"lightgrey\" stroke=\"black\" points=\"115,-718.5 14,-718.5 14,-699.5 115,-699.5 115,-718.5\"/>\n",
       "<text text-anchor=\"middle\" x=\"64.5\" y=\"-706.5\" font-family=\"monospace\" font-size=\"10.00\">AccumulateGrad</text>\n",
       "</g>\n",
       "<!-- 139640521759952&#45;&gt;139640521759424 -->\n",
       "<g id=\"edge18\" class=\"edge\">\n",
       "<title>139640521759952&#45;&gt;139640521759424</title>\n",
       "<path fill=\"none\" stroke=\"black\" d=\"M79.87,-699.37C98.91,-688.68 131.57,-670.35 154.06,-657.72\"/>\n",
       "<polygon fill=\"black\" stroke=\"black\" points=\"156,-660.65 163,-652.7 152.57,-654.54 156,-660.65\"/>\n",
       "</g>\n",
       "<!-- 139640521771840 -->\n",
       "<g id=\"node21\" class=\"node\">\n",
       "<title>139640521771840</title>\n",
       "<polygon fill=\"lightblue\" stroke=\"black\" points=\"116,-790 3,-790 3,-760 116,-760 116,-790\"/>\n",
       "<text text-anchor=\"middle\" x=\"59.5\" y=\"-778\" font-family=\"monospace\" font-size=\"10.00\">fc_layers.0.bias</text>\n",
       "<text text-anchor=\"middle\" x=\"59.5\" y=\"-767\" font-family=\"monospace\" font-size=\"10.00\"> (32)</text>\n",
       "</g>\n",
       "<!-- 139640521771840&#45;&gt;139640521759952 -->\n",
       "<g id=\"edge19\" class=\"edge\">\n",
       "<title>139640521771840&#45;&gt;139640521759952</title>\n",
       "<path fill=\"none\" stroke=\"black\" d=\"M60.61,-759.8C61.32,-750.7 62.25,-738.79 63.02,-728.9\"/>\n",
       "<polygon fill=\"black\" stroke=\"black\" points=\"66.52,-729.09 63.81,-718.84 59.54,-728.54 66.52,-729.09\"/>\n",
       "</g>\n",
       "<!-- 139640521758944 -->\n",
       "<g id=\"node22\" class=\"node\">\n",
       "<title>139640521758944</title>\n",
       "<polygon fill=\"lightgrey\" stroke=\"black\" points=\"214,-718.5 143,-718.5 143,-699.5 214,-699.5 214,-718.5\"/>\n",
       "<text text-anchor=\"middle\" x=\"178.5\" y=\"-706.5\" font-family=\"monospace\" font-size=\"10.00\">TBackward</text>\n",
       "</g>\n",
       "<!-- 139640521758944&#45;&gt;139640521759424 -->\n",
       "<g id=\"edge20\" class=\"edge\">\n",
       "<title>139640521758944&#45;&gt;139640521759424</title>\n",
       "<path fill=\"none\" stroke=\"black\" d=\"M178.5,-699.37C178.5,-690.16 178.5,-675.29 178.5,-663.27\"/>\n",
       "<polygon fill=\"black\" stroke=\"black\" points=\"182,-662.91 178.5,-652.91 175,-662.91 182,-662.91\"/>\n",
       "</g>\n",
       "<!-- 139640521759760 -->\n",
       "<g id=\"node23\" class=\"node\">\n",
       "<title>139640521759760</title>\n",
       "<polygon fill=\"lightgrey\" stroke=\"black\" points=\"235,-784.5 134,-784.5 134,-765.5 235,-765.5 235,-784.5\"/>\n",
       "<text text-anchor=\"middle\" x=\"184.5\" y=\"-772.5\" font-family=\"monospace\" font-size=\"10.00\">AccumulateGrad</text>\n",
       "</g>\n",
       "<!-- 139640521759760&#45;&gt;139640521758944 -->\n",
       "<g id=\"edge21\" class=\"edge\">\n",
       "<title>139640521759760&#45;&gt;139640521758944</title>\n",
       "<path fill=\"none\" stroke=\"black\" d=\"M183.69,-765.37C182.82,-756.07 181.4,-740.98 180.27,-728.9\"/>\n",
       "<polygon fill=\"black\" stroke=\"black\" points=\"183.75,-728.53 179.33,-718.91 176.78,-729.19 183.75,-728.53\"/>\n",
       "</g>\n",
       "<!-- 139640518520384 -->\n",
       "<g id=\"node24\" class=\"node\">\n",
       "<title>139640518520384</title>\n",
       "<polygon fill=\"lightblue\" stroke=\"black\" points=\"247,-856 122,-856 122,-826 247,-826 247,-856\"/>\n",
       "<text text-anchor=\"middle\" x=\"184.5\" y=\"-844\" font-family=\"monospace\" font-size=\"10.00\">fc_layers.0.weight</text>\n",
       "<text text-anchor=\"middle\" x=\"184.5\" y=\"-833\" font-family=\"monospace\" font-size=\"10.00\"> (32, 784)</text>\n",
       "</g>\n",
       "<!-- 139640518520384&#45;&gt;139640521759760 -->\n",
       "<g id=\"edge22\" class=\"edge\">\n",
       "<title>139640518520384&#45;&gt;139640521759760</title>\n",
       "<path fill=\"none\" stroke=\"black\" d=\"M184.5,-825.8C184.5,-816.7 184.5,-804.79 184.5,-794.9\"/>\n",
       "<polygon fill=\"black\" stroke=\"black\" points=\"188,-794.84 184.5,-784.84 181,-794.84 188,-794.84\"/>\n",
       "</g>\n",
       "<!-- 139640521628208 -->\n",
       "<g id=\"node25\" class=\"node\">\n",
       "<title>139640521628208</title>\n",
       "<polygon fill=\"lightgrey\" stroke=\"black\" points=\"312,-586.5 241,-586.5 241,-567.5 312,-567.5 312,-586.5\"/>\n",
       "<text text-anchor=\"middle\" x=\"276.5\" y=\"-574.5\" font-family=\"monospace\" font-size=\"10.00\">TBackward</text>\n",
       "</g>\n",
       "<!-- 139640521628208&#45;&gt;139640521625712 -->\n",
       "<g id=\"edge23\" class=\"edge\">\n",
       "<title>139640521628208&#45;&gt;139640521625712</title>\n",
       "<path fill=\"none\" stroke=\"black\" d=\"M266.52,-567.37C254.78,-557.21 235.06,-540.16 220.6,-527.65\"/>\n",
       "<polygon fill=\"black\" stroke=\"black\" points=\"222.65,-524.8 212.8,-520.91 218.07,-530.09 222.65,-524.8\"/>\n",
       "</g>\n",
       "<!-- 139640521758368 -->\n",
       "<g id=\"node26\" class=\"node\">\n",
       "<title>139640521758368</title>\n",
       "<polygon fill=\"lightgrey\" stroke=\"black\" points=\"345,-652.5 244,-652.5 244,-633.5 345,-633.5 345,-652.5\"/>\n",
       "<text text-anchor=\"middle\" x=\"294.5\" y=\"-640.5\" font-family=\"monospace\" font-size=\"10.00\">AccumulateGrad</text>\n",
       "</g>\n",
       "<!-- 139640521758368&#45;&gt;139640521628208 -->\n",
       "<g id=\"edge24\" class=\"edge\">\n",
       "<title>139640521758368&#45;&gt;139640521628208</title>\n",
       "<path fill=\"none\" stroke=\"black\" d=\"M292.07,-633.37C289.46,-624.07 285.21,-608.98 281.82,-596.9\"/>\n",
       "<polygon fill=\"black\" stroke=\"black\" points=\"285.08,-595.58 279,-586.91 278.34,-597.48 285.08,-595.58\"/>\n",
       "</g>\n",
       "<!-- 139640521771008 -->\n",
       "<g id=\"node27\" class=\"node\">\n",
       "<title>139640521771008</title>\n",
       "<polygon fill=\"lightblue\" stroke=\"black\" points=\"357,-724 232,-724 232,-694 357,-694 357,-724\"/>\n",
       "<text text-anchor=\"middle\" x=\"294.5\" y=\"-712\" font-family=\"monospace\" font-size=\"10.00\">fc_layers.2.weight</text>\n",
       "<text text-anchor=\"middle\" x=\"294.5\" y=\"-701\" font-family=\"monospace\" font-size=\"10.00\"> (64, 32)</text>\n",
       "</g>\n",
       "<!-- 139640521771008&#45;&gt;139640521758368 -->\n",
       "<g id=\"edge25\" class=\"edge\">\n",
       "<title>139640521771008&#45;&gt;139640521758368</title>\n",
       "<path fill=\"none\" stroke=\"black\" d=\"M294.5,-693.8C294.5,-684.7 294.5,-672.79 294.5,-662.9\"/>\n",
       "<polygon fill=\"black\" stroke=\"black\" points=\"298,-662.84 294.5,-652.84 291,-662.84 298,-662.84\"/>\n",
       "</g>\n",
       "<!-- 139640521627488 -->\n",
       "<g id=\"node28\" class=\"node\">\n",
       "<title>139640521627488</title>\n",
       "<polygon fill=\"lightgrey\" stroke=\"black\" points=\"336,-454.5 265,-454.5 265,-435.5 336,-435.5 336,-454.5\"/>\n",
       "<text text-anchor=\"middle\" x=\"300.5\" y=\"-442.5\" font-family=\"monospace\" font-size=\"10.00\">TBackward</text>\n",
       "</g>\n",
       "<!-- 139640521627488&#45;&gt;139640521625952 -->\n",
       "<g id=\"edge26\" class=\"edge\">\n",
       "<title>139640521627488&#45;&gt;139640521625952</title>\n",
       "<path fill=\"none\" stroke=\"black\" d=\"M290.52,-435.37C278.78,-425.21 259.06,-408.16 244.6,-395.65\"/>\n",
       "<polygon fill=\"black\" stroke=\"black\" points=\"246.65,-392.8 236.8,-388.91 242.07,-398.09 246.65,-392.8\"/>\n",
       "</g>\n",
       "<!-- 139640521628064 -->\n",
       "<g id=\"node29\" class=\"node\">\n",
       "<title>139640521628064</title>\n",
       "<polygon fill=\"lightgrey\" stroke=\"black\" points=\"418,-520.5 317,-520.5 317,-501.5 418,-501.5 418,-520.5\"/>\n",
       "<text text-anchor=\"middle\" x=\"367.5\" y=\"-508.5\" font-family=\"monospace\" font-size=\"10.00\">AccumulateGrad</text>\n",
       "</g>\n",
       "<!-- 139640521628064&#45;&gt;139640521627488 -->\n",
       "<g id=\"edge27\" class=\"edge\">\n",
       "<title>139640521628064&#45;&gt;139640521627488</title>\n",
       "<path fill=\"none\" stroke=\"black\" d=\"M358.46,-501.37C347.93,-491.31 330.31,-474.48 317.26,-462.01\"/>\n",
       "<polygon fill=\"black\" stroke=\"black\" points=\"319.47,-459.28 309.82,-454.91 314.64,-464.34 319.47,-459.28\"/>\n",
       "</g>\n",
       "<!-- 139640521772800 -->\n",
       "<g id=\"node30\" class=\"node\">\n",
       "<title>139640521772800</title>\n",
       "<polygon fill=\"lightblue\" stroke=\"black\" points=\"455,-592 330,-592 330,-562 455,-562 455,-592\"/>\n",
       "<text text-anchor=\"middle\" x=\"392.5\" y=\"-580\" font-family=\"monospace\" font-size=\"10.00\">fc_layers.4.weight</text>\n",
       "<text text-anchor=\"middle\" x=\"392.5\" y=\"-569\" font-family=\"monospace\" font-size=\"10.00\"> (128, 64)</text>\n",
       "</g>\n",
       "<!-- 139640521772800&#45;&gt;139640521628064 -->\n",
       "<g id=\"edge28\" class=\"edge\">\n",
       "<title>139640521772800&#45;&gt;139640521628064</title>\n",
       "<path fill=\"none\" stroke=\"black\" d=\"M386.95,-561.8C383.32,-552.5 378.54,-540.27 374.63,-530.26\"/>\n",
       "<polygon fill=\"black\" stroke=\"black\" points=\"377.85,-528.89 370.95,-520.84 371.33,-531.43 377.85,-528.89\"/>\n",
       "</g>\n",
       "<!-- 139640521626192 -->\n",
       "<g id=\"node31\" class=\"node\">\n",
       "<title>139640521626192</title>\n",
       "<polygon fill=\"lightgrey\" stroke=\"black\" points=\"360,-322.5 289,-322.5 289,-303.5 360,-303.5 360,-322.5\"/>\n",
       "<text text-anchor=\"middle\" x=\"324.5\" y=\"-310.5\" font-family=\"monospace\" font-size=\"10.00\">TBackward</text>\n",
       "</g>\n",
       "<!-- 139640521626192&#45;&gt;139640521625664 -->\n",
       "<g id=\"edge29\" class=\"edge\">\n",
       "<title>139640521626192&#45;&gt;139640521625664</title>\n",
       "<path fill=\"none\" stroke=\"black\" d=\"M314.52,-303.37C302.78,-293.21 283.06,-276.16 268.6,-263.65\"/>\n",
       "<polygon fill=\"black\" stroke=\"black\" points=\"270.65,-260.8 260.8,-256.91 266.07,-266.09 270.65,-260.8\"/>\n",
       "</g>\n",
       "<!-- 139640521627680 -->\n",
       "<g id=\"node32\" class=\"node\">\n",
       "<title>139640521627680</title>\n",
       "<polygon fill=\"lightgrey\" stroke=\"black\" points=\"442,-388.5 341,-388.5 341,-369.5 442,-369.5 442,-388.5\"/>\n",
       "<text text-anchor=\"middle\" x=\"391.5\" y=\"-376.5\" font-family=\"monospace\" font-size=\"10.00\">AccumulateGrad</text>\n",
       "</g>\n",
       "<!-- 139640521627680&#45;&gt;139640521626192 -->\n",
       "<g id=\"edge30\" class=\"edge\">\n",
       "<title>139640521627680&#45;&gt;139640521626192</title>\n",
       "<path fill=\"none\" stroke=\"black\" d=\"M382.46,-369.37C371.93,-359.31 354.31,-342.48 341.26,-330.01\"/>\n",
       "<polygon fill=\"black\" stroke=\"black\" points=\"343.47,-327.28 333.82,-322.91 338.64,-332.34 343.47,-327.28\"/>\n",
       "</g>\n",
       "<!-- 139640521823232 -->\n",
       "<g id=\"node33\" class=\"node\">\n",
       "<title>139640521823232</title>\n",
       "<polygon fill=\"lightblue\" stroke=\"black\" points=\"479,-460 354,-460 354,-430 479,-430 479,-460\"/>\n",
       "<text text-anchor=\"middle\" x=\"416.5\" y=\"-448\" font-family=\"monospace\" font-size=\"10.00\">fc_layers.6.weight</text>\n",
       "<text text-anchor=\"middle\" x=\"416.5\" y=\"-437\" font-family=\"monospace\" font-size=\"10.00\"> (64, 128)</text>\n",
       "</g>\n",
       "<!-- 139640521823232&#45;&gt;139640521627680 -->\n",
       "<g id=\"edge31\" class=\"edge\">\n",
       "<title>139640521823232&#45;&gt;139640521627680</title>\n",
       "<path fill=\"none\" stroke=\"black\" d=\"M410.95,-429.8C407.32,-420.5 402.54,-408.27 398.63,-398.26\"/>\n",
       "<polygon fill=\"black\" stroke=\"black\" points=\"401.85,-396.89 394.95,-388.84 395.33,-399.43 401.85,-396.89\"/>\n",
       "</g>\n",
       "<!-- 139640521625904 -->\n",
       "<g id=\"node34\" class=\"node\">\n",
       "<title>139640521625904</title>\n",
       "<polygon fill=\"lightgrey\" stroke=\"black\" points=\"417,-196 346,-196 346,-177 417,-177 417,-196\"/>\n",
       "<text text-anchor=\"middle\" x=\"381.5\" y=\"-184\" font-family=\"monospace\" font-size=\"10.00\">TBackward</text>\n",
       "</g>\n",
       "<!-- 139640521625904&#45;&gt;139640521627536 -->\n",
       "<g id=\"edge32\" class=\"edge\">\n",
       "<title>139640521625904&#45;&gt;139640521627536</title>\n",
       "<path fill=\"none\" stroke=\"black\" d=\"M360.45,-176.98C339.09,-168.34 305.8,-154.87 281.44,-145.02\"/>\n",
       "<polygon fill=\"black\" stroke=\"black\" points=\"282.51,-141.68 271.93,-141.17 279.89,-148.17 282.51,-141.68\"/>\n",
       "</g>\n",
       "<!-- 139640521627776 -->\n",
       "<g id=\"node35\" class=\"node\">\n",
       "<title>139640521627776</title>\n",
       "<polygon fill=\"lightgrey\" stroke=\"black\" points=\"466,-256.5 365,-256.5 365,-237.5 466,-237.5 466,-256.5\"/>\n",
       "<text text-anchor=\"middle\" x=\"415.5\" y=\"-244.5\" font-family=\"monospace\" font-size=\"10.00\">AccumulateGrad</text>\n",
       "</g>\n",
       "<!-- 139640521627776&#45;&gt;139640521625904 -->\n",
       "<g id=\"edge33\" class=\"edge\">\n",
       "<title>139640521627776&#45;&gt;139640521625904</title>\n",
       "<path fill=\"none\" stroke=\"black\" d=\"M410.48,-237.37C405.56,-228.9 397.91,-215.74 391.71,-205.07\"/>\n",
       "<polygon fill=\"black\" stroke=\"black\" points=\"394.59,-203.05 386.54,-196.17 388.54,-206.57 394.59,-203.05\"/>\n",
       "</g>\n",
       "<!-- 139640521823488 -->\n",
       "<g id=\"node36\" class=\"node\">\n",
       "<title>139640521823488</title>\n",
       "<polygon fill=\"lightblue\" stroke=\"black\" points=\"503,-328 378,-328 378,-298 503,-298 503,-328\"/>\n",
       "<text text-anchor=\"middle\" x=\"440.5\" y=\"-316\" font-family=\"monospace\" font-size=\"10.00\">fc_layers.8.weight</text>\n",
       "<text text-anchor=\"middle\" x=\"440.5\" y=\"-305\" font-family=\"monospace\" font-size=\"10.00\"> (10, 64)</text>\n",
       "</g>\n",
       "<!-- 139640521823488&#45;&gt;139640521627776 -->\n",
       "<g id=\"edge34\" class=\"edge\">\n",
       "<title>139640521823488&#45;&gt;139640521627776</title>\n",
       "<path fill=\"none\" stroke=\"black\" d=\"M434.95,-297.8C431.32,-288.5 426.54,-276.27 422.63,-266.26\"/>\n",
       "<polygon fill=\"black\" stroke=\"black\" points=\"425.85,-264.89 418.95,-256.84 419.33,-267.43 425.85,-264.89\"/>\n",
       "</g>\n",
       "</g>\n",
       "</svg>\n"
      ],
      "text/plain": [
       "<graphviz.dot.Digraph at 0x7f0097b017f0>"
      ]
     },
     "execution_count": 222,
     "metadata": {},
     "output_type": "execute_result"
    }
   ],
   "source": [
    "torchviz.make_dot(mlp5(x0), params=dict(mlp5.named_parameters()))"
   ]
  },
  {
   "cell_type": "markdown",
   "metadata": {
    "slideshow": {
     "slide_type": "subslide"
    }
   },
   "source": [
    "### Loss and Optimizer"
   ]
  },
  {
   "cell_type": "markdown",
   "metadata": {
    "slideshow": {
     "slide_type": "fragment"
    }
   },
   "source": [
    "For the loss function, we'll use PyTorch's built in negative log-likelihood loss since our model outputs probabilities."
   ]
  },
  {
   "cell_type": "markdown",
   "metadata": {},
   "source": [
    "Log Softmax is advantageous over softmax for numerical stability, optimisation and heavy penalisation for highly incorrect class"
   ]
  },
  {
   "cell_type": "markdown",
   "metadata": {},
   "source": [
    "softmax for first class:\n",
    "$$\n",
    "\\frac{e^{w_1x_1}}{\\sum_i{e^{w_ix_i}}}\n",
    "$$\n",
    "log softmax for first class:\n",
    "$$\n",
    "\\frac{log(e^{w_1x_1})}{log(\\sum_i{e^{w_ix_i}})} = \\frac{log(e^{w_1x_1})}{\\sum_i{log(e^{w_ix_i}})} =\\frac{log(e^{w_1x_1})}{\\sum_i{w_ix_i}}  \n",
    "$$\n"
   ]
  },
  {
   "cell_type": "code",
   "execution_count": 223,
   "metadata": {},
   "outputs": [
    {
     "name": "stdout",
     "output_type": "stream",
     "text": [
      "Probability=tensor([0.1000, 0.2000, 0.3000, 0.4000, 0.5000, 0.6000, 0.7000, 0.8000, 0.9000,\n",
      "        1.0000])\n",
      " Log_Probability=tensor([-2.3026, -1.6094, -1.2040, -0.9163, -0.6931, -0.5108, -0.3567, -0.2231,\n",
      "        -0.1054,  0.0000])\n"
     ]
    }
   ],
   "source": [
    "Probability =  torch.tensor([0.1, 0.2, 0.3, 0.4, 0.5, 0.6, 0.7, 0.8, 0.9, 1.0])\n",
    "Log_Probability = torch.log(Probability)\n",
    "print(f'{Probability=}\\n {Log_Probability=}')"
   ]
  },
  {
   "cell_type": "code",
   "execution_count": 224,
   "metadata": {
    "slideshow": {
     "slide_type": "subslide"
    }
   },
   "outputs": [
    {
     "data": {
      "text/plain": [
       "tensor(2.3021, grad_fn=<NllLossBackward>)"
      ]
     },
     "execution_count": 224,
     "metadata": {},
     "output_type": "execute_result"
    }
   ],
   "source": [
    "import torch.optim\n",
    "\n",
    "# Loss:\n",
    "# Note: NLLLoss assumes *log*-probabilities (given by our LogSoftmax layer)\n",
    "loss_fn = nn.NLLLoss()\n",
    "\n",
    "# Fake ground-truth labels\n",
    "# Notice that we don't need to 1-hot encode them!\n",
    "yt = torch.randint(low=0, high=n_classes, size=(y_hat0.shape[0],))\n",
    "\n",
    "# Try out the loss\n",
    "loss_fn(y_hat0, yt)"
   ]
  },
  {
   "cell_type": "markdown",
   "metadata": {
    "slideshow": {
     "slide_type": "subslide"
    }
   },
   "source": [
    "As for the optimization scheme, we'll use a built in SGD optimizer from the `torch.optim` module.\n",
    "\n",
    "We won't need to calculate the loss gradient this time, as we'll use `autograd` for automatic differentiation."
   ]
  },
  {
   "cell_type": "code",
   "execution_count": 225,
   "metadata": {
    "slideshow": {
     "slide_type": "fragment"
    }
   },
   "outputs": [],
   "source": [
    "torch.manual_seed(42)\n",
    "\n",
    "# Model for training\n",
    "model = MLP(D_in=n_features, hidden_dims=[32, 32, 32], D_out=n_classes, nonlin='relu')\n",
    "\n",
    "# Optimizer over our model's parameters\n",
    "optimizer = torch.optim.SGD(params=model.parameters(), lr=5e-2, weight_decay=0.01, momentum=0.9)"
   ]
  },
  {
   "cell_type": "markdown",
   "metadata": {
    "slideshow": {
     "slide_type": "subslide"
    }
   },
   "source": [
    "### Training loop"
   ]
  },
  {
   "cell_type": "markdown",
   "metadata": {
    "slideshow": {
     "slide_type": "fragment"
    }
   },
   "source": [
    "This time we'll train over lazy-loaded batches from our data loader.\n",
    "\n",
    "Notice that except from our model's `__init__()` and `__forward()__`, we're using PyTorch facilities for the entire training implementation."
   ]
  },
  {
   "cell_type": "code",
   "execution_count": 226,
   "metadata": {
    "slideshow": {
     "slide_type": "subslide"
    }
   },
   "outputs": [
    {
     "name": "stdout",
     "output_type": "stream",
     "text": [
      "Epoch #1: Avg. loss=2.3051342964172363\n",
      "Epoch #2: Avg. loss=2.2864507913589476\n",
      "Epoch #3: Avg. loss=2.256749725341797\n",
      "Epoch #4: Avg. loss=2.176988220214844\n",
      "Epoch #5: Avg. loss=1.9311089754104613\n",
      "Epoch #6: Avg. loss=1.416105604171753\n",
      "Epoch #7: Avg. loss=0.919141310453415\n",
      "Epoch #8: Avg. loss=0.6763370871543884\n",
      "Epoch #9: Avg. loss=0.561392143368721\n",
      "Epoch #10: Avg. loss=0.5014606237411499\n"
     ]
    }
   ],
   "source": [
    "num_epochs = 10\n",
    "losses_mlp = []\n",
    "for epoch_idx in range(num_epochs):\n",
    "    total_loss = 0\n",
    "    \n",
    "    for batch_idx, (X, y) in enumerate(dl_train):\n",
    "        # Forward pass\n",
    "        y_pred = model(X) #btz x channels x input_w x input_h --> btz x num_classes\n",
    "\n",
    "        # Compute loss\n",
    "        loss = loss_fn(y_pred, y)\n",
    "        total_loss += loss.item()\n",
    "        losses_mlp.append(loss.item())\n",
    "        \n",
    "        # Backward pass\n",
    "        optimizer.zero_grad() # Zero gradients of all parameters\n",
    "        loss.backward()       # Run backprop algorithms to calculate gradients\n",
    "        \n",
    "        # Optimization step\n",
    "        optimizer.step()      # Use gradients to update model parameters\n",
    "        \n",
    "    print(f'Epoch #{epoch_idx+1}: Avg. loss={total_loss/len(dl_train)}')"
   ]
  },
  {
   "cell_type": "code",
   "execution_count": 227,
   "metadata": {},
   "outputs": [
    {
     "data": {
      "image/png": "[encoded data removed]",
      "text/plain": [
       "<Figure size 720x360 with 1 Axes>"
      ]
     },
     "metadata": {
      "needs_background": "light"
     },
     "output_type": "display_data"
    }
   ],
   "source": [
    "# Plot losses\n",
    "_, ax = plt.subplots(figsize=(10,5))\n",
    "ax.plot(losses_mlp)\n",
    "ax.set_ylabel('MSE loss'); ax.set_xlabel('Epoch');"
   ]
  },
  {
   "cell_type": "markdown",
   "metadata": {
    "slideshow": {
     "slide_type": "subslide"
    }
   },
   "source": [
    "Using the basic PyTorch building blocks we have arrived at a much more robust implementation:\n",
    "- Easy to change architecture: layers and activation functions\n",
    "- Easy to change loss\n",
    "- Easy to change optimization method\n",
    "- No need for manual gradient derivations"
   ]
  },
  {
   "cell_type": "markdown",
   "metadata": {},
   "source": [
    "## Further reading\n",
    "---"
   ]
  },
  {
   "cell_type": "markdown",
   "metadata": {},
   "source": [
    "### initialization\n",
    "\n",
    "We saw today a FC layer (or MLP or Linear layer), Neural networks has other type of layers that we're going to see in the next couple of tutorials.\n",
    "\n",
    "when we implemented it ourself, we used torch.randn, that widraw from the standart normal distribution $\\mathcal{N}(0,1)$.\n",
    "\n",
    "But why? or more important, since we optimize it, **why does it matter**?\n",
    "\n",
    "The answer to the second questioin is quite simple. just like K-Means, Neural network is not a stable algorithem, since diffrent initilizations will bring a diffrent outcome.<br>\n",
    "why is that? remember that the loss function is not a simple convex function!<br> if we start with diffrent initilizations we're probably going to end up at diffrent local minima.\n",
    "\n",
    "Another problem that we did not adress yet, is that with long networks, the chain rule is pruned make the gradients too small or too big (**vanishing gradients** and **exploding gradients** respectively). \n",
    "\n",
    "So what can we do if we want to sqeeze the best results we can?"
   ]
  },
  {
   "cell_type": "markdown",
   "metadata": {},
   "source": [
    "#### Monte Carlo method\n",
    "\n",
    "you can read about [here](https://en.wikipedia.org/wiki/Monte_Carlo_method).<br>\n",
    "we're not going to go into details, but the idea is to have diffrent initialization and determine the majority vote over the samples.\n",
    "\n",
    "The name by the way,refers to the Monte Carlo Casino in Monaco that is a symbol for gambling, where a lot of randomize algorithms like that can be tested (way out of the course scope).\n",
    "\n",
    "<center><img src=\"imgs/mc.jpeg\" width=500 /></center>\n",
    "\n",
    "but it prune to problems:\n",
    "* we need to train a lot of networks, what cost a lot of time and money\n",
    "* inference also take a long time to agregate \n",
    "\n",
    "because of that, we use smarter initialization and train and run in once!"
   ]
  },
  {
   "cell_type": "markdown",
   "metadata": {},
   "source": [
    "Briefly, Normal distribution is always a good start, and to avoid edges effect normelize with the input size would help.\n",
    "however, activision functions turn to non-linear shift in distibusion in neural networks.\n",
    "\n",
    "that's where **Xavier initilization** came to life in [Understanding the difficulty of training deep feedforward neural networks](http://proceedings.mlr.press/v9/glorot10a/glorot10a.pdf)\n",
    "\n",
    "basically they did a uniform distibution in [-1,1] and then scaling by $\\frac{1}{\\sqrt{n}}$.\n",
    "\n",
    ":\n",
    "<img src=\"imgs/no_x_grads.png\" width=600 />\n",
    "<img src=\"imgs/x_grads.png\" width=600 />\n",
    "\n",
    "here you can see the gradients without xavier (left) and with xavier (right)\n",
    "\n",
    "one more improvment since is **Kaiming Initialization** from [Delving Deep into Rectifiers:\n",
    "Surpassing Human-Level Performance on ImageNet Classification](https://arxiv.org/pdf/1502.01852.pdf).<br>\n",
    "The only diffrence is that modern neural networks usually use Relu, or other type of non-symetric activision functions.<br>\n",
    "we won't go into the math of the paper, but the only noticeble diffrence is that we scale by  $\\frac{\\sqrt{2}}{\\sqrt{n}}$.\n",
    "\n",
    "and ever since, this is part of the Pytorch NN package.\n",
    "\n",
    "when we use diffrent activisions, or when we do non-standart work, we might consider Xavier or something else...\n",
    "\n",
    "besides, you might come up with the next big thing and everyone will use **Cohen Initialization** in the next years :)"
   ]
  },
  {
   "cell_type": "markdown",
   "metadata": {},
   "source": [
    "## Links\n",
    "---\n",
    "[3b1b backprop video](https://www.youtube.com/watch?v=Ilg3gGewQ5U&ab_channel=3Blue1Brown)\n",
    "\n",
    "[advanced loss functions](https://www.kdnuggets.com/2019/11/research-guide-advanced-loss-functions-machine-learning-models.html)\n",
    "\n",
    "[how to choose loss functions](https://machinelearningmastery.com/how-to-choose-loss-functions-when-training-deep-learning-neural-networks/)\n",
    "\n",
    "[Weight Initialization in Neural Networks: A Journey From the Basics to Kaiming](https://towardsdatascience.com/weight-initialization-in-neural-networks-a-journey-from-the-basics-to-kaiming-954fb9b47c79)"
   ]
  },
  {
   "cell_type": "markdown",
   "metadata": {
    "slideshow": {
     "slide_type": "skip"
    }
   },
   "source": [
    "## Credits\n",
    "---\n",
    "\n",
    "This tutorial heavly based on [Technion IIT cs-236781 tutorial](https://github.com/vistalab-technion/cs236781-tutorials/blob/master/t03/tutorial3-MLP.ipynb) that written by [Aviv Rosenberg](https://avivr.net) and re-weitten by [Moshe Kimhi](https://www.linkedin.com/in/moshekimhi/)<br>\n",
    "To re-use, please provide attribution and link to the original.\n",
    "\n",
    "Some images in this tutorial were taken and/or adapted from the following sources:\n",
    "\n",
    "- MartinThoma [CC0], via Wikimedia Commons https://commons.wikimedia.org/wiki/File:Perceptron-unit.svg\n",
    "- Pattern Recognition and Machine Learning, C. M. Bishop, Springer, 2006\n",
    "- Sebastian Raschka https://sebastianraschka.com/Articles/2015_singlelayer_neurons.html\n",
    "- Favio Vázquez https://towardsdatascience.com/a-conversation-about-deep-learning-9a915983107\n",
    "- Fundamentals of Deep Learning, Nikhil Buduma, Oreilly 2017"
   ]
  },
  {
   "cell_type": "code",
   "execution_count": null,
   "metadata": {},
   "outputs": [],
   "source": []
  }
 ],
 "metadata": {
  "celltoolbar": "Slideshow",
  "kernelspec": {
   "display_name": "Python 3",
   "language": "python",
   "name": "python3"
  },
  "language_info": {
   "codemirror_mode": {
    "name": "ipython",
    "version": 3
   },
   "file_extension": ".py",
   "mimetype": "text/x-python",
   "name": "python",
   "nbconvert_exporter": "python",
   "pygments_lexer": "ipython3",
   "version": "3.8.6"
  }
 },
 "nbformat": 4,
 "nbformat_minor": 4
}
